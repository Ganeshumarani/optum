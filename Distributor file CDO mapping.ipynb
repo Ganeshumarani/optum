{
 "cells": [
  {
   "cell_type": "code",
   "execution_count": 9,
   "metadata": {},
   "outputs": [],
   "source": [
    "import numpy as np\n",
    "import pandas as pd\n",
    "import sys\n",
    "import os\n",
    "import glob"
   ]
  },
  {
   "cell_type": "code",
   "execution_count": 10,
   "metadata": {},
   "outputs": [],
   "source": [
    "os.chdir(\"C:/Users/Ganesh P Umarani/Desktop/Optum/Distributor\")"
   ]
  },
  {
   "cell_type": "code",
   "execution_count": 11,
   "metadata": {},
   "outputs": [
    {
     "data": {
      "text/plain": [
       "['Distributor Facility Group mapping.xlsx',\n",
       " 'Gap_Item_Master.xlsx',\n",
       " 'Gap_Spend.xlsx']"
      ]
     },
     "execution_count": 11,
     "metadata": {},
     "output_type": "execute_result"
    }
   ],
   "source": [
    "glob.glob(\"*.*\")"
   ]
  },
  {
   "cell_type": "code",
   "execution_count": 12,
   "metadata": {},
   "outputs": [],
   "source": [
    "reference=pd.read_excel('Distributor Facility Group mapping.xlsx',sheet_name=6)"
   ]
  },
  {
   "cell_type": "code",
   "execution_count": 55,
   "metadata": {},
   "outputs": [
    {
     "data": {
      "text/html": [
       "<div>\n",
       "<style scoped>\n",
       "    .dataframe tbody tr th:only-of-type {\n",
       "        vertical-align: middle;\n",
       "    }\n",
       "\n",
       "    .dataframe tbody tr th {\n",
       "        vertical-align: top;\n",
       "    }\n",
       "\n",
       "    .dataframe thead th {\n",
       "        text-align: right;\n",
       "    }\n",
       "</style>\n",
       "<table border=\"1\" class=\"dataframe\">\n",
       "  <thead>\n",
       "    <tr style=\"text-align: right;\">\n",
       "      <th></th>\n",
       "      <th>Facility Grouping</th>\n",
       "      <th>CDO</th>\n",
       "    </tr>\n",
       "  </thead>\n",
       "  <tbody>\n",
       "    <tr>\n",
       "      <th>0</th>\n",
       "      <td>AMERICAN HEALTH NETWORK</td>\n",
       "      <td>AHN</td>\n",
       "    </tr>\n",
       "    <tr>\n",
       "      <th>1</th>\n",
       "      <td>OPTUMCARE MOUNTAIN WEST - ASC</td>\n",
       "      <td>MOUNTAIN WEST</td>\n",
       "    </tr>\n",
       "    <tr>\n",
       "      <th>2</th>\n",
       "      <td>OPTUMCARE MOUNTAIN WEST Â€“ SMA</td>\n",
       "      <td>MOUNTAIN WEST</td>\n",
       "    </tr>\n",
       "    <tr>\n",
       "      <th>3</th>\n",
       "      <td>SOUTHWEST MEDICAL HOME MEDICAL EQUIPMENT</td>\n",
       "      <td>MOUNTAIN WEST</td>\n",
       "    </tr>\n",
       "    <tr>\n",
       "      <th>4</th>\n",
       "      <td>OCMG - OPTUMCARE MEDICAL GROUP - CA</td>\n",
       "      <td>OPTUM CARE MEDICAL GROUP</td>\n",
       "    </tr>\n",
       "    <tr>\n",
       "      <th>5</th>\n",
       "      <td>ORTHOLOGY INC</td>\n",
       "      <td>PHNY</td>\n",
       "    </tr>\n",
       "    <tr>\n",
       "      <th>6</th>\n",
       "      <td>PROHEALTH NY</td>\n",
       "      <td>PHNY</td>\n",
       "    </tr>\n",
       "    <tr>\n",
       "      <th>7</th>\n",
       "      <td>RELIANT MEDICAL GROUP</td>\n",
       "      <td>RELIANT</td>\n",
       "    </tr>\n",
       "    <tr>\n",
       "      <th>8</th>\n",
       "      <td>RIVERSIDE MEDICAL GROUP</td>\n",
       "      <td>RIVERSIDE</td>\n",
       "    </tr>\n",
       "    <tr>\n",
       "      <th>9</th>\n",
       "      <td>RIVERSIDE MEDICAL</td>\n",
       "      <td>RIVERSIDE</td>\n",
       "    </tr>\n",
       "    <tr>\n",
       "      <th>10</th>\n",
       "      <td>SURGICAL CARE AFFILIATES (SCA)</td>\n",
       "      <td>SCA</td>\n",
       "    </tr>\n",
       "    <tr>\n",
       "      <th>11</th>\n",
       "      <td>POLYCLINIC</td>\n",
       "      <td>TPC</td>\n",
       "    </tr>\n",
       "    <tr>\n",
       "      <th>12</th>\n",
       "      <td>HOME CARE DIMENSIONS-INTALERE</td>\n",
       "      <td>WELLMED</td>\n",
       "    </tr>\n",
       "    <tr>\n",
       "      <th>13</th>\n",
       "      <td>WELLMED</td>\n",
       "      <td>WELLMED</td>\n",
       "    </tr>\n",
       "    <tr>\n",
       "      <th>14</th>\n",
       "      <td>WELLMED - HOMECARE DIMENSIONS</td>\n",
       "      <td>WELLMED</td>\n",
       "    </tr>\n",
       "    <tr>\n",
       "      <th>15</th>\n",
       "      <td>WELLMED - USMD</td>\n",
       "      <td>WELLMED</td>\n",
       "    </tr>\n",
       "    <tr>\n",
       "      <th>16</th>\n",
       "      <td>MEDEXPRESS</td>\n",
       "      <td>MEDEXPRESS</td>\n",
       "    </tr>\n",
       "    <tr>\n",
       "      <th>17</th>\n",
       "      <td>N/A - MEDEXPRESS TRACINGS ONLY</td>\n",
       "      <td>MEDEXPRESS</td>\n",
       "    </tr>\n",
       "    <tr>\n",
       "      <th>18</th>\n",
       "      <td>OPTUMCARE MOUNTAIN WEST - AZ</td>\n",
       "      <td>MOUNTAIN WEST</td>\n",
       "    </tr>\n",
       "    <tr>\n",
       "      <th>19</th>\n",
       "      <td>OPTUMCARE MOUNTAIN WEST - HOME HEALTH</td>\n",
       "      <td>MOUNTAIN WEST</td>\n",
       "    </tr>\n",
       "    <tr>\n",
       "      <th>20</th>\n",
       "      <td>OPTUMCARE MOUNTAIN WEST - HOSPICE</td>\n",
       "      <td>MOUNTAIN WEST</td>\n",
       "    </tr>\n",
       "    <tr>\n",
       "      <th>21</th>\n",
       "      <td>OPTUMCARE MOUNTAIN WEST - SMA</td>\n",
       "      <td>MOUNTAIN WEST</td>\n",
       "    </tr>\n",
       "    <tr>\n",
       "      <th>22</th>\n",
       "      <td>OPTUMCARE MOUNTAIN WEST - USON</td>\n",
       "      <td>MOUNTAIN WEST</td>\n",
       "    </tr>\n",
       "    <tr>\n",
       "      <th>23</th>\n",
       "      <td>OPTUMCARE MOUNTAIN WEST - UTAH</td>\n",
       "      <td>MOUNTAIN WEST</td>\n",
       "    </tr>\n",
       "    <tr>\n",
       "      <th>24</th>\n",
       "      <td>THE WELL CLINICS</td>\n",
       "      <td>MOUNTAIN WEST</td>\n",
       "    </tr>\n",
       "    <tr>\n",
       "      <th>25</th>\n",
       "      <td>PROHEALTH</td>\n",
       "      <td>PHNY</td>\n",
       "    </tr>\n",
       "    <tr>\n",
       "      <th>26</th>\n",
       "      <td>PROHEALTH PO</td>\n",
       "      <td>PHNY</td>\n",
       "    </tr>\n",
       "    <tr>\n",
       "      <th>27</th>\n",
       "      <td>POLY CLINIC</td>\n",
       "      <td>TPC</td>\n",
       "    </tr>\n",
       "    <tr>\n",
       "      <th>28</th>\n",
       "      <td>HOMECARE PHD</td>\n",
       "      <td>WELLMED</td>\n",
       "    </tr>\n",
       "    <tr>\n",
       "      <th>29</th>\n",
       "      <td>WELLMED - HCD</td>\n",
       "      <td>WELLMED</td>\n",
       "    </tr>\n",
       "    <tr>\n",
       "      <th>30</th>\n",
       "      <td>NEW WEST PHYSICIANS</td>\n",
       "      <td>NEW WEST</td>\n",
       "    </tr>\n",
       "    <tr>\n",
       "      <th>31</th>\n",
       "      <td>PROHEALTH PHYSICIANS INC</td>\n",
       "      <td>PHCT</td>\n",
       "    </tr>\n",
       "    <tr>\n",
       "      <th>32</th>\n",
       "      <td>MOBILE MEDICAL SERVICES PC</td>\n",
       "      <td>PHNY</td>\n",
       "    </tr>\n",
       "    <tr>\n",
       "      <th>33</th>\n",
       "      <td>NY PROTON MANAGEMENT</td>\n",
       "      <td>PHNY</td>\n",
       "    </tr>\n",
       "    <tr>\n",
       "      <th>34</th>\n",
       "      <td>PHC AMBULATORY SURG CTR</td>\n",
       "      <td>PHNY</td>\n",
       "    </tr>\n",
       "    <tr>\n",
       "      <th>35</th>\n",
       "      <td>PRO HEALTH CARE ASSOCIATE LLP</td>\n",
       "      <td>PHNY</td>\n",
       "    </tr>\n",
       "    <tr>\n",
       "      <th>36</th>\n",
       "      <td>PROHEALTH URGENT CARE</td>\n",
       "      <td>PHNY</td>\n",
       "    </tr>\n",
       "    <tr>\n",
       "      <th>37</th>\n",
       "      <td>DAY-OP CENTER OF LI</td>\n",
       "      <td>SCA</td>\n",
       "    </tr>\n",
       "    <tr>\n",
       "      <th>38</th>\n",
       "      <td>VANTAGE SURGERY CENTER</td>\n",
       "      <td>SCA</td>\n",
       "    </tr>\n",
       "    <tr>\n",
       "      <th>39</th>\n",
       "      <td>AMERICAN HEALTH NETWORK OF INDIANA</td>\n",
       "      <td>AHN</td>\n",
       "    </tr>\n",
       "    <tr>\n",
       "      <th>40</th>\n",
       "      <td>AMERICAN HEALTH NETWORK OF IN-ORAL</td>\n",
       "      <td>AHN</td>\n",
       "    </tr>\n",
       "    <tr>\n",
       "      <th>41</th>\n",
       "      <td>AMERICAN HEALTH NETWORK-CRAWFORD</td>\n",
       "      <td>AHN</td>\n",
       "    </tr>\n",
       "    <tr>\n",
       "      <th>42</th>\n",
       "      <td>AMERICAN HEALTH NETWORK-DANVILLE</td>\n",
       "      <td>AHN</td>\n",
       "    </tr>\n",
       "    <tr>\n",
       "      <th>43</th>\n",
       "      <td>AMERICAN HEALTH NETWORK-HARCOURT</td>\n",
       "      <td>AHN</td>\n",
       "    </tr>\n",
       "    <tr>\n",
       "      <th>44</th>\n",
       "      <td>AMERICAN HEALTH NETWORK-HARCOURT SU</td>\n",
       "      <td>AHN</td>\n",
       "    </tr>\n",
       "    <tr>\n",
       "      <th>45</th>\n",
       "      <td>AMERICAN HEALTH NETWORK-KOKOMO</td>\n",
       "      <td>AHN</td>\n",
       "    </tr>\n",
       "    <tr>\n",
       "      <th>46</th>\n",
       "      <td>OPTUMCARE CANCER CARE</td>\n",
       "      <td>MOUNTAIN WEST</td>\n",
       "    </tr>\n",
       "    <tr>\n",
       "      <th>47</th>\n",
       "      <td>THE EVERETT CLINIC</td>\n",
       "      <td>TEC</td>\n",
       "    </tr>\n",
       "    <tr>\n",
       "      <th>48</th>\n",
       "      <td>THE EVERETT CLINIC-CANCER CENTER</td>\n",
       "      <td>TEC</td>\n",
       "    </tr>\n",
       "  </tbody>\n",
       "</table>\n",
       "</div>"
      ],
      "text/plain": [
       "                           Facility Grouping                       CDO\n",
       "0                    AMERICAN HEALTH NETWORK                       AHN\n",
       "1              OPTUMCARE MOUNTAIN WEST - ASC             MOUNTAIN WEST\n",
       "2            OPTUMCARE MOUNTAIN WEST Â€“ SMA             MOUNTAIN WEST\n",
       "3   SOUTHWEST MEDICAL HOME MEDICAL EQUIPMENT             MOUNTAIN WEST\n",
       "4        OCMG - OPTUMCARE MEDICAL GROUP - CA  OPTUM CARE MEDICAL GROUP\n",
       "5                              ORTHOLOGY INC                      PHNY\n",
       "6                               PROHEALTH NY                      PHNY\n",
       "7                      RELIANT MEDICAL GROUP                   RELIANT\n",
       "8                    RIVERSIDE MEDICAL GROUP                 RIVERSIDE\n",
       "9                          RIVERSIDE MEDICAL                 RIVERSIDE\n",
       "10            SURGICAL CARE AFFILIATES (SCA)                       SCA\n",
       "11                                POLYCLINIC                       TPC\n",
       "12             HOME CARE DIMENSIONS-INTALERE                   WELLMED\n",
       "13                                   WELLMED                   WELLMED\n",
       "14             WELLMED - HOMECARE DIMENSIONS                   WELLMED\n",
       "15                            WELLMED - USMD                   WELLMED\n",
       "16                                MEDEXPRESS                MEDEXPRESS\n",
       "17            N/A - MEDEXPRESS TRACINGS ONLY                MEDEXPRESS\n",
       "18              OPTUMCARE MOUNTAIN WEST - AZ             MOUNTAIN WEST\n",
       "19     OPTUMCARE MOUNTAIN WEST - HOME HEALTH             MOUNTAIN WEST\n",
       "20         OPTUMCARE MOUNTAIN WEST - HOSPICE             MOUNTAIN WEST\n",
       "21             OPTUMCARE MOUNTAIN WEST - SMA             MOUNTAIN WEST\n",
       "22            OPTUMCARE MOUNTAIN WEST - USON             MOUNTAIN WEST\n",
       "23            OPTUMCARE MOUNTAIN WEST - UTAH             MOUNTAIN WEST\n",
       "24                          THE WELL CLINICS             MOUNTAIN WEST\n",
       "25                                 PROHEALTH                      PHNY\n",
       "26                              PROHEALTH PO                      PHNY\n",
       "27                               POLY CLINIC                       TPC\n",
       "28                              HOMECARE PHD                   WELLMED\n",
       "29                             WELLMED - HCD                   WELLMED\n",
       "30                       NEW WEST PHYSICIANS                  NEW WEST\n",
       "31                  PROHEALTH PHYSICIANS INC                      PHCT\n",
       "32                MOBILE MEDICAL SERVICES PC                      PHNY\n",
       "33                      NY PROTON MANAGEMENT                      PHNY\n",
       "34                   PHC AMBULATORY SURG CTR                      PHNY\n",
       "35             PRO HEALTH CARE ASSOCIATE LLP                      PHNY\n",
       "36                     PROHEALTH URGENT CARE                      PHNY\n",
       "37                       DAY-OP CENTER OF LI                       SCA\n",
       "38                    VANTAGE SURGERY CENTER                       SCA\n",
       "39        AMERICAN HEALTH NETWORK OF INDIANA                       AHN\n",
       "40        AMERICAN HEALTH NETWORK OF IN-ORAL                       AHN\n",
       "41          AMERICAN HEALTH NETWORK-CRAWFORD                       AHN\n",
       "42          AMERICAN HEALTH NETWORK-DANVILLE                       AHN\n",
       "43          AMERICAN HEALTH NETWORK-HARCOURT                       AHN\n",
       "44       AMERICAN HEALTH NETWORK-HARCOURT SU                       AHN\n",
       "45            AMERICAN HEALTH NETWORK-KOKOMO                       AHN\n",
       "46                     OPTUMCARE CANCER CARE             MOUNTAIN WEST\n",
       "47                        THE EVERETT CLINIC                       TEC\n",
       "48          THE EVERETT CLINIC-CANCER CENTER                       TEC"
      ]
     },
     "execution_count": 55,
     "metadata": {},
     "output_type": "execute_result"
    }
   ],
   "source": [
    "reference"
   ]
  },
  {
   "cell_type": "code",
   "execution_count": 73,
   "metadata": {},
   "outputs": [],
   "source": [
    "os.chdir(\"C:/Users/Ganesh P Umarani/Desktop/Optum/Distributor/Distributor\")"
   ]
  },
  {
   "cell_type": "code",
   "execution_count": 74,
   "metadata": {},
   "outputs": [
    {
     "data": {
      "text/plain": [
       "['Enterprise Reporting July 2019_Primary_Key_assigned.csv',\n",
       " 'Enterprise Reporting June 2019_Primary_Key_assigned.csv',\n",
       " 'Enterprise Reporting May 2019_Primary_Key_assigned.csv',\n",
       " 'Master_msckesson_distributor_file.csv',\n",
       " 'Mckesson_Inv_03012018_03312019_v1_Primary_Key_assigned.csv']"
      ]
     },
     "execution_count": 74,
     "metadata": {},
     "output_type": "execute_result"
    }
   ],
   "source": [
    "glob.glob(\"*.*\")"
   ]
  },
  {
   "cell_type": "code",
   "execution_count": 75,
   "metadata": {},
   "outputs": [
    {
     "name": "stderr",
     "output_type": "stream",
     "text": [
      "c:\\users\\ganesh p umarani\\appdata\\local\\programs\\python\\python37\\lib\\site-packages\\IPython\\core\\interactiveshell.py:3058: DtypeWarning: Columns (18) have mixed types. Specify dtype option on import or set low_memory=False.\n",
      "  interactivity=interactivity, compiler=compiler, result=result)\n"
     ]
    }
   ],
   "source": [
    "dist_file=pd.read_csv('Master_msckesson_distributor_file.csv')"
   ]
  },
  {
   "cell_type": "code",
   "execution_count": 77,
   "metadata": {},
   "outputs": [],
   "source": [
    "dist_file.rename(mapper={'Facility Grouping':'Facility Grouping'},axis=1,inplace=True)"
   ]
  },
  {
   "cell_type": "code",
   "execution_count": 78,
   "metadata": {},
   "outputs": [
    {
     "data": {
      "text/plain": [
       "Index(['Unnamed: 0', 'Primary_Key', 'Time Frame', 'Distributor',\n",
       "       'Facility Grouping', 'Internal Item #', 'NDC/UPC', 'Item Description',\n",
       "       'UHG Preferred', 'Generic Description (Pharma Only)', 'Manufacturer #',\n",
       "       'Manufacturer Name', 'U', 'O', 'M', 'Atomic UOM (oz, dose, ml)',\n",
       "       'Cost (Contracted)', 'Invoiced Price', 'Qty', 'Extended Price',\n",
       "       'Contract Type', 'Contract Source', 'Contract Class of Trade',\n",
       "       'Contract Number (McK CONTRACT ID)', 'Tier', 'Contract Description',\n",
       "       'Contract Valid-To', 'Manufacturer Contract #',\n",
       "       'Commodity (Med Supplies, Vaccines, Pharma, Office Supplies)',\n",
       "       'Division (High Level)', 'Category', 'Sub Category', 'Previous PRICE',\n",
       "       'START DATE', 'Contract #', 'Tier 2', 'Source', 'OWNED BRAND',\n",
       "       'CATEGORY UPDATED', 'High Level', 'BILL', 'SHIP', 'SHIP NAME',\n",
       "       'ADDRESS1', 'ADDRESS2', 'City', 'State', 'Zip', 'Date - Invoice',\n",
       "       'Customer PO Num', 'Order Method Desc', 'Sales Tax Amt',\n",
       "       'Customer Paid Freight Fee Amt', 'Customer Line Num', 'Invoice Num'],\n",
       "      dtype='object')"
      ]
     },
     "execution_count": 78,
     "metadata": {},
     "output_type": "execute_result"
    }
   ],
   "source": [
    "dist_file.columns"
   ]
  },
  {
   "cell_type": "code",
   "execution_count": null,
   "metadata": {},
   "outputs": [],
   "source": []
  },
  {
   "cell_type": "code",
   "execution_count": 79,
   "metadata": {},
   "outputs": [],
   "source": [
    "output_res=pd.merge(dist_file,reference,on='Facility Grouping',how='left')"
   ]
  },
  {
   "cell_type": "code",
   "execution_count": 82,
   "metadata": {},
   "outputs": [],
   "source": [
    "output_res.to_csv(\"Master_msckesson_distributor_file_with_cdo_mapping.csv\")"
   ]
  },
  {
   "cell_type": "code",
   "execution_count": 81,
   "metadata": {},
   "outputs": [
    {
     "data": {
      "text/plain": [
       "79591"
      ]
     },
     "execution_count": 81,
     "metadata": {},
     "output_type": "execute_result"
    }
   ],
   "source": [
    "len(output_res)"
   ]
  },
  {
   "cell_type": "code",
   "execution_count": 80,
   "metadata": {},
   "outputs": [
    {
     "data": {
      "text/plain": [
       "79591"
      ]
     },
     "execution_count": 80,
     "metadata": {},
     "output_type": "execute_result"
    }
   ],
   "source": [
    "len(dist_file)"
   ]
  },
  {
   "cell_type": "code",
   "execution_count": null,
   "metadata": {},
   "outputs": [],
   "source": []
  }
 ],
 "metadata": {
  "kernelspec": {
   "display_name": "Python 3",
   "language": "python",
   "name": "python3"
  },
  "language_info": {
   "codemirror_mode": {
    "name": "ipython",
    "version": 3
   },
   "file_extension": ".py",
   "mimetype": "text/x-python",
   "name": "python",
   "nbconvert_exporter": "python",
   "pygments_lexer": "ipython3",
   "version": "3.7.4"
  }
 },
 "nbformat": 4,
 "nbformat_minor": 2
}
