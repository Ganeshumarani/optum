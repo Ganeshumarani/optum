{
 "cells": [
  {
   "cell_type": "code",
   "execution_count": 1,
   "metadata": {},
   "outputs": [],
   "source": [
    "import os\n",
    "import numpy as np\n",
    "import pandas as pd\n",
    "import sys\n",
    "import re\n",
    "import glob\n",
    "from elasticsearch import Elasticsearch\n",
    "from elasticsearch.helpers import bulk"
   ]
  },
  {
   "cell_type": "code",
   "execution_count": 2,
   "metadata": {},
   "outputs": [],
   "source": [
    "column_names=['Product Code','Product Description','DISTRIBUTOR','DISTRIBUTOR PRODUCT NUMBER','Manufacturer','Manufacturer Part Number','QOE',\n",
    "'Primary UOM','Secondary UOM','Primary UOM Qty','Secondary UOM Qty','BRAND','DIMENSIONS','VOLUME','DRUG STRENGTH','MATERIAL',\n",
    "'UNSPSC_Segment_Code','UNSPSC_Segment_Title','UNSPSC Family Code','UNSPSC Family Title','UNSPSC Class Code','UNSPSC Class Title',\n",
    "'UNSPSC Comodity Code','UNSPSC Comodity Title','GMDN Term Name','GMDN Code','GMDN Definition','Global Trade Item Number: GTIN',\n",
    "'Universal Product Code: UPC','Device Identifier: DI','L1 ATC Code for Pharmacy','L1 ATC Description for Pharmacy',\n",
    "'L2 ATC Code for Pharmacy','L2 ATC Description for Pharmacy','L3 ATC Code for Pharmacy','L3 ATC Description for Pharmacy',\n",
    "'L4 ATC Code for Pharmacy','L4 ATC Description for Pharmacy','L5 ATC Code for Pharmacy','L5 ATC Description for Pharmacy',\n",
    "'10 Digit NDC Code','11 Digit NDC Code','Name','Type','CDO Parent','CDO Child','Facility','HCPC','Dosage','Package Size',\n",
    "'Package Quantity','Billable Units','Billable Units/Package']"
   ]
  },
  {
   "cell_type": "code",
   "execution_count": null,
   "metadata": {},
   "outputs": [],
   "source": []
  },
  {
   "cell_type": "code",
   "execution_count": 3,
   "metadata": {},
   "outputs": [],
   "source": [
    "Item_master=pd.DataFrame(columns=column_names)"
   ]
  },
  {
   "cell_type": "code",
   "execution_count": 5,
   "metadata": {},
   "outputs": [],
   "source": [
    "# 1) Read the PM cleaned for SC file\n",
    "# 2) read each row from above file\n",
    "# 3) from each row take PD, Mfg, Mfg_PN, Sup, Sup_PN value and insert in Item_master DF\n",
    "# 4) Now read each primary Key from the extracted row and search it in ES\n",
    "# 5) Get the inner dict from ES search res which had all the details\n",
    "# 6) Check if the PK has exact match in Es result with what we searched\n",
    "# 7) Get each Key/Value pair from ES res and search for the Key in columns of Item_master (Possibility for not having exact match)\n",
    "# 8) If the column name same as Key found then extract value for that Key\n",
    "# 9) check if the extracted value already exists in the cell, If no then append the value along with comma in that cell"
   ]
  },
  {
   "cell_type": "code",
   "execution_count": 6,
   "metadata": {},
   "outputs": [],
   "source": [
    "os.chdir(\"C:/Users/Ganesh P Umarani/Desktop/Optum/Optum_Raw_Initial_Conversion/PO Files/product master files/All PM's without dup/without_dup_after_cleaning/supplycopia\")"
   ]
  },
  {
   "cell_type": "code",
   "execution_count": null,
   "metadata": {},
   "outputs": [],
   "source": []
  },
  {
   "cell_type": "code",
   "execution_count": 8,
   "metadata": {},
   "outputs": [],
   "source": [
    "pm_file= pd.read_csv(\"product_master_stage_3_without_duplicates_cleaned.csv\",low_memory=False)"
   ]
  },
  {
   "cell_type": "code",
   "execution_count": 15,
   "metadata": {},
   "outputs": [],
   "source": [
    "list_of_col=pm_file.columns.tolist()"
   ]
  },
  {
   "cell_type": "code",
   "execution_count": 17,
   "metadata": {},
   "outputs": [
    {
     "data": {
      "text/plain": [
       "'Unnamed: 0'"
      ]
     },
     "execution_count": 17,
     "metadata": {},
     "output_type": "execute_result"
    }
   ],
   "source": [
    "list_of_col.pop(0)"
   ]
  },
  {
   "cell_type": "code",
   "execution_count": null,
   "metadata": {},
   "outputs": [],
   "source": []
  }
 ],
 "metadata": {
  "kernelspec": {
   "display_name": "Python 3",
   "language": "python",
   "name": "python3"
  },
  "language_info": {
   "codemirror_mode": {
    "name": "ipython",
    "version": 3
   },
   "file_extension": ".py",
   "mimetype": "text/x-python",
   "name": "python",
   "nbconvert_exporter": "python",
   "pygments_lexer": "ipython3",
   "version": "3.7.4"
  }
 },
 "nbformat": 4,
 "nbformat_minor": 2
}
