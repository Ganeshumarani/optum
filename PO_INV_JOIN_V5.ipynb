{
 "cells": [
  {
   "cell_type": "code",
   "execution_count": 1,
   "metadata": {},
   "outputs": [],
   "source": [
    "import os\n",
    "import numpy as np\n",
    "import pandas as pd\n",
    "import sys\n",
    "import re\n",
    "import glob"
   ]
  },
  {
   "cell_type": "code",
   "execution_count": 2,
   "metadata": {},
   "outputs": [],
   "source": [
    "os.chdir(\"C:/Users/Ganesh P Umarani/Desktop/Optum/Optum_Raw_Initial_Conversion\")"
   ]
  },
  {
   "cell_type": "code",
   "execution_count": 3,
   "metadata": {},
   "outputs": [
    {
     "data": {
      "text/plain": [
       "['XXFHS_Reliant_Optum_Core_AP_Da_050619_Primary_Key_assigned.csv',\n",
       " 'XXFHS_Reliant_Optum_Core_PO_Da_May19_Primary_Key_assigned.csv']"
      ]
     },
     "execution_count": 3,
     "metadata": {},
     "output_type": "execute_result"
    }
   ],
   "source": [
    "glob.glob(\"*.*\")"
   ]
  },
  {
   "cell_type": "markdown",
   "metadata": {},
   "source": [
    "# Invoice file conversion"
   ]
  },
  {
   "cell_type": "code",
   "execution_count": 18,
   "metadata": {},
   "outputs": [],
   "source": [
    "data_inv1=pd.read_csv('XXFHS_Reliant_Optum_Core_AP_Da_050619_Primary_Key_assigned.csv')"
   ]
  },
  {
   "cell_type": "code",
   "execution_count": 22,
   "metadata": {},
   "outputs": [
    {
     "data": {
      "text/plain": [
       "Index(['Primary_Key', 'Invoice number', 'Invoice Line ID', 'Invoice Date',\n",
       "       'PO Date', 'PO Number', 'Order Type', 'DISTRIBUTOR', 'Manufacturer',\n",
       "       'Invoice number.1', 'Invoice Line Number', 'Contract Type',\n",
       "       'CONTRACT NUMBER', 'Vendor Name.1', 'Manufacturer Name.1',\n",
       "       'DISTRIBUTOR PRODUCT NUMBER', 'Manufacturer Part Number', 'Item ID',\n",
       "       'Contract ID', 'Product Description', 'UNSPSC_Segment_Code',\n",
       "       '10 Digit NDC Code', 'Primary UOM', 'Primary UOM Qty',\n",
       "       'Quantity Invoiced', 'Received Date', 'Unit Price after Discount',\n",
       "       'Final_Cost', 'TAX', 'Freight', 'Facility ID', 'Facility',\n",
       "       'Facility Address', 'Dept ID', 'HOSPITAL DEPARTMENTS',\n",
       "       'Payment Status'],\n",
       "      dtype='object')"
      ]
     },
     "execution_count": 22,
     "metadata": {},
     "output_type": "execute_result"
    }
   ],
   "source": [
    "data_inv1.columns"
   ]
  },
  {
   "cell_type": "code",
   "execution_count": 20,
   "metadata": {},
   "outputs": [
    {
     "data": {
      "text/plain": [
       "15488"
      ]
     },
     "execution_count": 20,
     "metadata": {},
     "output_type": "execute_result"
    }
   ],
   "source": [
    "len(data_inv1)"
   ]
  },
  {
   "cell_type": "code",
   "execution_count": 21,
   "metadata": {},
   "outputs": [],
   "source": [
    "data_inv1.drop(['Unnamed: 0'],axis=1,inplace=True)"
   ]
  },
  {
   "cell_type": "markdown",
   "metadata": {},
   "source": [
    "# Drop Duplicates and save the file"
   ]
  },
  {
   "cell_type": "code",
   "execution_count": 23,
   "metadata": {},
   "outputs": [],
   "source": [
    "data_inv=data_inv1.drop_duplicates(subset=['Primary_Key', 'Invoice number', 'Invoice Line ID', 'Invoice Date',\n",
    "       'PO Date', 'PO Number', 'Order Type', 'DISTRIBUTOR', 'Manufacturer',\n",
    "       'Invoice number.1', 'Invoice Line Number', 'Contract Type',\n",
    "       'CONTRACT NUMBER', 'Vendor Name.1', 'Manufacturer Name.1',\n",
    "       'DISTRIBUTOR PRODUCT NUMBER', 'Manufacturer Part Number', 'Item ID',\n",
    "       'Contract ID', 'Product Description', 'UNSPSC_Segment_Code',\n",
    "       '10 Digit NDC Code', 'Primary UOM', 'Primary UOM Qty',\n",
    "       'Quantity Invoiced', 'Received Date', 'Unit Price after Discount',\n",
    "       'Final_Cost', 'TAX', 'Freight', 'Facility ID', 'Facility',\n",
    "       'Facility Address', 'Dept ID', 'HOSPITAL DEPARTMENTS',\n",
    "       'Payment Status'],keep='first')"
   ]
  },
  {
   "cell_type": "code",
   "execution_count": 24,
   "metadata": {},
   "outputs": [
    {
     "data": {
      "text/plain": [
       "15488"
      ]
     },
     "execution_count": 24,
     "metadata": {},
     "output_type": "execute_result"
    }
   ],
   "source": [
    "len(data_inv)"
   ]
  },
  {
   "cell_type": "code",
   "execution_count": 25,
   "metadata": {},
   "outputs": [],
   "source": [
    "data_inv.to_csv('XXFHS_Reliant_Optum_Core_AP_Da_050619_Primary_Key_assigned_no_duplicates.csv')"
   ]
  },
  {
   "cell_type": "code",
   "execution_count": 26,
   "metadata": {},
   "outputs": [
    {
     "data": {
      "text/plain": [
       "15488"
      ]
     },
     "execution_count": 26,
     "metadata": {},
     "output_type": "execute_result"
    }
   ],
   "source": [
    "len(data_inv1)"
   ]
  },
  {
   "cell_type": "code",
   "execution_count": 37,
   "metadata": {},
   "outputs": [],
   "source": [
    "data_inv.rename({'Quantity Invoiced':'Quantity'},axis=1,inplace=True)"
   ]
  },
  {
   "cell_type": "code",
   "execution_count": 38,
   "metadata": {},
   "outputs": [
    {
     "data": {
      "text/plain": [
       "Index(['Primary_Key', 'Invoice number', 'Invoice Line ID', 'Invoice Date',\n",
       "       'PO Date', 'PO Number', 'Order Type', 'DISTRIBUTOR', 'Manufacturer',\n",
       "       'Invoice number.1', 'Invoice Line Number', 'Contract Type',\n",
       "       'CONTRACT NUMBER', 'Vendor Name.1', 'Manufacturer Name.1',\n",
       "       'DISTRIBUTOR PRODUCT NUMBER', 'Manufacturer Part Number', 'Item ID',\n",
       "       'Contract ID', 'Product Description', 'UNSPSC_Segment_Code',\n",
       "       '10 Digit NDC Code', 'Primary UOM', 'Primary UOM Qty', 'Quantity',\n",
       "       'Received Date', 'Unit Price after Discount', 'Final_Cost', 'Tax',\n",
       "       'Freight', 'Facility ID', 'Facility', 'Facility Address', 'Dept ID',\n",
       "       'HOSPITAL DEPARTMENTS', 'Payment Status'],\n",
       "      dtype='object')"
      ]
     },
     "execution_count": 38,
     "metadata": {},
     "output_type": "execute_result"
    }
   ],
   "source": [
    "data_inv.columns"
   ]
  },
  {
   "cell_type": "markdown",
   "metadata": {},
   "source": [
    "# Normalise the headers in the excel file"
   ]
  },
  {
   "cell_type": "code",
   "execution_count": 60,
   "metadata": {},
   "outputs": [],
   "source": [
    "data_inv_extract_data=data_inv[['Primary_Key','Invoice Date','PO Number','DISTRIBUTOR','Manufacturer','Invoice number','CONTRACT NUMBER','DISTRIBUTOR PRODUCT NUMBER','Manufacturer Part Number','Item ID','Product Description','UNSPSC_Segment_Code','10 Digit NDC Code','Primary UOM','Primary UOM Qty','Quantity','Unit Price after Discount','Final_Cost','Tax','Freight','Facility','HOSPITAL DEPARTMENTS']]"
   ]
  },
  {
   "cell_type": "code",
   "execution_count": null,
   "metadata": {},
   "outputs": [],
   "source": [
    "Invoice Date\n",
    "\n",
    "PO Number\n",
    "\n",
    "DISTRIBUTOR\n",
    "Manufacturer\n",
    "Invoice number\n",
    "\n",
    "\n",
    "CONTRACT NUMBER\n",
    "DISTRIBUTOR PRODUCT NUMBER\n",
    "Manufacturer Part Number\n",
    "\n",
    "CONTRACT NUMBER\n",
    "Product Description\n",
    "UNSPSC_Segment_Code\n",
    "10 Digit NDC Code\n",
    "Primary UOM\n",
    "Primary UOM Qty\n",
    "Quantity\n",
    "\n",
    "Unit Price after Discount\n",
    "Final_Cost \n",
    "Tax\n",
    "Freight\n",
    "\n",
    "Facility\n",
    "\n",
    "\n",
    "HOSPITAL DEPARTMENTS\n"
   ]
  },
  {
   "cell_type": "code",
   "execution_count": null,
   "metadata": {},
   "outputs": [],
   "source": []
  },
  {
   "cell_type": "code",
   "execution_count": 61,
   "metadata": {},
   "outputs": [],
   "source": [
    "data_inv_extract_data.to_csv(\"XXFHS_Reliant_Optum_Core_AP_Da_050619_Primary_Key_assigned_HN_DropDuplicates_ColExtract.csv\")"
   ]
  },
  {
   "cell_type": "markdown",
   "metadata": {},
   "source": [
    "# PO file conversion"
   ]
  },
  {
   "cell_type": "code",
   "execution_count": 42,
   "metadata": {},
   "outputs": [],
   "source": [
    "data_po1=pd.read_csv('XXFHS_Reliant_Optum_Core_PO_Da_May19_Primary_Key_assigned.csv',encoding='unicode_escape')"
   ]
  },
  {
   "cell_type": "code",
   "execution_count": 45,
   "metadata": {},
   "outputs": [
    {
     "data": {
      "text/plain": [
       "Index(['Primary_Key', 'ID', 'PO Number', 'PO Line Item Number', 'DISTRIBUTOR',\n",
       "       'Manufacturer', 'DISTRIBUTOR PRODUCT NUMBER',\n",
       "       'Manufacturer Part Number', 'Item ID', 'Contract ID', 'Contract Type',\n",
       "       'Product Description', 'UNSPSC_Segment_Code', '11 Digit NDC Code',\n",
       "       'Primary UOM', 'Primary UOM Qty', 'Quantity',\n",
       "       'Unit Price before Discount', 'Final_Cost', 'Facility ID', 'Facility',\n",
       "       'Facility Address', 'Dept ID', 'HOSPITAL DEPARTMENTS', 'PO Date',\n",
       "       'Order Type'],\n",
       "      dtype='object')"
      ]
     },
     "execution_count": 45,
     "metadata": {},
     "output_type": "execute_result"
    }
   ],
   "source": [
    "data_po1.columns"
   ]
  },
  {
   "cell_type": "code",
   "execution_count": 44,
   "metadata": {},
   "outputs": [],
   "source": [
    "data_po1.drop(['Unnamed: 0'],axis=1,inplace=True)"
   ]
  },
  {
   "cell_type": "markdown",
   "metadata": {},
   "source": [
    "# Drop Dupilcates and save the file"
   ]
  },
  {
   "cell_type": "code",
   "execution_count": 46,
   "metadata": {},
   "outputs": [],
   "source": [
    "data_po=data_po1.drop_duplicates(subset=['Primary_Key', 'ID', 'PO Number', 'PO Line Item Number', 'DISTRIBUTOR',\n",
    "       'Manufacturer', 'DISTRIBUTOR PRODUCT NUMBER',\n",
    "       'Manufacturer Part Number', 'Item ID', 'Contract ID', 'Contract Type',\n",
    "       'Product Description', 'UNSPSC_Segment_Code', '11 Digit NDC Code',\n",
    "       'Primary UOM', 'Primary UOM Qty', 'Quantity',\n",
    "       'Unit Price before Discount', 'Final_Cost', 'Facility ID', 'Facility',\n",
    "       'Facility Address', 'Dept ID', 'HOSPITAL DEPARTMENTS', 'PO Date',\n",
    "       'Order Type'],keep='first')"
   ]
  },
  {
   "cell_type": "code",
   "execution_count": 47,
   "metadata": {},
   "outputs": [
    {
     "data": {
      "text/plain": [
       "4087"
      ]
     },
     "execution_count": 47,
     "metadata": {},
     "output_type": "execute_result"
    }
   ],
   "source": [
    "len(data_po)"
   ]
  },
  {
   "cell_type": "code",
   "execution_count": 48,
   "metadata": {},
   "outputs": [],
   "source": [
    "data_po.to_csv('XXFHS_Reliant_Optum_Core_PO_Da_May19_Primary_Key_assigned_HN_Drop_Duplicates.csv')"
   ]
  },
  {
   "cell_type": "code",
   "execution_count": null,
   "metadata": {},
   "outputs": [],
   "source": []
  },
  {
   "cell_type": "code",
   "execution_count": 49,
   "metadata": {},
   "outputs": [
    {
     "data": {
      "text/plain": [
       "Index(['Primary_Key', 'ID', 'PO Number', 'PO Line Item Number', 'DISTRIBUTOR',\n",
       "       'Manufacturer', 'DISTRIBUTOR PRODUCT NUMBER',\n",
       "       'Manufacturer Part Number', 'Item ID', 'Contract ID', 'Contract Type',\n",
       "       'Product Description', 'UNSPSC_Segment_Code', '11 Digit NDC Code',\n",
       "       'Primary UOM', 'Primary UOM Qty', 'Quantity',\n",
       "       'Unit Price before Discount', 'Final_Cost', 'Facility ID', 'Facility',\n",
       "       'Facility Address', 'Dept ID', 'HOSPITAL DEPARTMENTS', 'PO Date',\n",
       "       'Order Type'],\n",
       "      dtype='object')"
      ]
     },
     "execution_count": 49,
     "metadata": {},
     "output_type": "execute_result"
    }
   ],
   "source": [
    "data_po.columns"
   ]
  },
  {
   "cell_type": "markdown",
   "metadata": {},
   "source": [
    "# Normalise the headers in the excel file"
   ]
  },
  {
   "cell_type": "code",
   "execution_count": 62,
   "metadata": {},
   "outputs": [],
   "source": [
    "data_po_extract_data2=data_po[['Primary_Key','PO Number','DISTRIBUTOR','Manufacturer','DISTRIBUTOR PRODUCT NUMBER','Manufacturer Part Number','Item ID','Product Description','UNSPSC_Segment_Code','11 Digit NDC Code','Primary UOM','Primary UOM Qty','Quantity','Unit Price before Discount','Final_Cost','Facility ID', 'Facility','HOSPITAL DEPARTMENTS']]"
   ]
  },
  {
   "cell_type": "code",
   "execution_count": null,
   "metadata": {},
   "outputs": [],
   "source": [
    "PO Number\n",
    "\n",
    "DISTRIBUTOR\n",
    "Manufacturer\n",
    "DISTRIBUTOR PRODUCT NUMBER\n",
    "Manufacturer Part Number\n",
    "Product code\n",
    "\n",
    "\n",
    "Product Description\n",
    "UNSPSC_Segment_Code\n",
    "11 Digit NDC Code\n",
    "Primary UOM\n",
    "Primary UOM Qty\n",
    "Quantity\n",
    "Unit Price before Discount\n",
    " Final_Cost \n",
    "Facility ID\n",
    "Facility\n",
    "\n",
    "\n",
    "HOSPITAL DEPARTMENTS\n"
   ]
  },
  {
   "cell_type": "code",
   "execution_count": 63,
   "metadata": {},
   "outputs": [],
   "source": [
    "data_po_extract_data2.to_csv('XXFHS_Reliant_Optum_Core_PO_Da_May19_Primary_Key_assigned_HN_Drop_Duplicates_ColExtract.csv')"
   ]
  },
  {
   "cell_type": "code",
   "execution_count": null,
   "metadata": {},
   "outputs": [],
   "source": []
  },
  {
   "cell_type": "code",
   "execution_count": 191,
   "metadata": {},
   "outputs": [],
   "source": [
    "os.chdir(\"C:/Users/Ganesh P Umarani/Desktop/XXHFS\")"
   ]
  },
  {
   "cell_type": "markdown",
   "metadata": {},
   "source": [
    "# Clear NAN values and concat if required"
   ]
  },
  {
   "cell_type": "code",
   "execution_count": 192,
   "metadata": {},
   "outputs": [],
   "source": [
    "data_inv_after=pd.read_csv('XXFHS_Reliant_Optum_Core_AP_Da_290519_Primary_Key_assigned_HN_DropDuplicates_ColExtract.csv',encoding='unicode_escape')"
   ]
  },
  {
   "cell_type": "code",
   "execution_count": 193,
   "metadata": {},
   "outputs": [
    {
     "name": "stderr",
     "output_type": "stream",
     "text": [
      "c:\\users\\ganesh p umarani\\appdata\\local\\programs\\python\\python37\\lib\\site-packages\\IPython\\core\\interactiveshell.py:3058: DtypeWarning: Columns (0,2,3,6,7,8,11,17) have mixed types. Specify dtype option on import or set low_memory=False.\n",
      "  interactivity=interactivity, compiler=compiler, result=result)\n"
     ]
    }
   ],
   "source": [
    "data_po_after=pd.read_csv('XXFHS_Reliant_Optum_Core_PO_Da_Jan18_Dec18_Primary_Key_assigned_HN_Drop_Duplicates_ColExtract.csv',encoding='unicode_escape')"
   ]
  },
  {
   "cell_type": "code",
   "execution_count": 204,
   "metadata": {},
   "outputs": [
    {
     "data": {
      "text/plain": [
       "Index(['Primary_Key', 'PO Number', 'DISTRIBUTOR', 'Manufacturer',\n",
       "       'DISTRIBUTOR PRODUCT NUMBER', 'Item ID', 'Concat',\n",
       "       'Manufacturer Part Number', 'Product Description',\n",
       "       'UNSPSC_Segment_Code', '11 Digit NDC Code', 'Primary UOM',\n",
       "       'Primary UOM Qty', 'Quantity', 'Unit Price before Discount',\n",
       "       'Final_Cost', 'Facility', 'HOSPITAL DEPARTMENTS'],\n",
       "      dtype='object')"
      ]
     },
     "execution_count": 204,
     "metadata": {},
     "output_type": "execute_result"
    }
   ],
   "source": [
    "data_po_after.columns"
   ]
  },
  {
   "cell_type": "code",
   "execution_count": null,
   "metadata": {},
   "outputs": [],
   "source": []
  },
  {
   "cell_type": "code",
   "execution_count": null,
   "metadata": {},
   "outputs": [],
   "source": []
  },
  {
   "cell_type": "code",
   "execution_count": null,
   "metadata": {},
   "outputs": [],
   "source": [
    "data_inv_after.drop(['Unnamed: 0'],axis=1,inplace=True)"
   ]
  },
  {
   "cell_type": "code",
   "execution_count": null,
   "metadata": {},
   "outputs": [],
   "source": []
  },
  {
   "cell_type": "code",
   "execution_count": 195,
   "metadata": {},
   "outputs": [
    {
     "data": {
      "text/plain": [
       "137855"
      ]
     },
     "execution_count": 195,
     "metadata": {},
     "output_type": "execute_result"
    }
   ],
   "source": [
    "len(data_inv_after)"
   ]
  },
  {
   "cell_type": "code",
   "execution_count": 196,
   "metadata": {},
   "outputs": [],
   "source": [
    "data_inv_after.replace(to_replace='NAN',value=np.nan,inplace=True)"
   ]
  },
  {
   "cell_type": "markdown",
   "metadata": {},
   "source": [
    "# filter1 = Product code or Item ID is present vice versa for filter2"
   ]
  },
  {
   "cell_type": "code",
   "execution_count": 199,
   "metadata": {},
   "outputs": [],
   "source": [
    "data_inv_after_filter1 = data_inv_after[(data_inv_after['Product Code'].notnull())]"
   ]
  },
  {
   "cell_type": "code",
   "execution_count": 200,
   "metadata": {},
   "outputs": [],
   "source": [
    "data_inv_after_filter2 = data_inv_after[(data_inv_after['Product Code'].isnull())]"
   ]
  },
  {
   "cell_type": "code",
   "execution_count": 201,
   "metadata": {},
   "outputs": [
    {
     "data": {
      "text/plain": [
       "4823"
      ]
     },
     "execution_count": 201,
     "metadata": {},
     "output_type": "execute_result"
    }
   ],
   "source": [
    "len(data_inv_after_filter1)"
   ]
  },
  {
   "cell_type": "code",
   "execution_count": 202,
   "metadata": {},
   "outputs": [
    {
     "data": {
      "text/plain": [
       "133032"
      ]
     },
     "execution_count": 202,
     "metadata": {},
     "output_type": "execute_result"
    }
   ],
   "source": [
    "len(data_inv_after_filter2)"
   ]
  },
  {
   "cell_type": "markdown",
   "metadata": {},
   "source": [
    "# Invoice file Calculation"
   ]
  },
  {
   "cell_type": "code",
   "execution_count": 203,
   "metadata": {},
   "outputs": [
    {
     "data": {
      "text/plain": [
       "Index(['Primary_Key', 'Invoice Date', 'PO Number', 'DISTRIBUTOR',\n",
       "       'Manufacturer', 'Invoice Number', 'CONTRACT NUMBER',\n",
       "       'DISTRIBUTOR PRODUCT NUMBER', 'Manufacturer Part Number',\n",
       "       'Product Code', 'Concat', 'Product Description', 'UNSPSC_Segment_Code',\n",
       "       '11 Digit NDC Code', 'Primary UOM', 'Quantity',\n",
       "       'Unit Price after Discount', 'Final_Cost ', 'Tax', 'Freight',\n",
       "       'Facility', 'HOSPITAL DEPARTMENTS', 'Tax.1'],\n",
       "      dtype='object')"
      ]
     },
     "execution_count": 203,
     "metadata": {},
     "output_type": "execute_result"
    }
   ],
   "source": [
    "data_inv_after_filter2.columns"
   ]
  },
  {
   "cell_type": "code",
   "execution_count": 270,
   "metadata": {},
   "outputs": [],
   "source": [
    "#data_inv_after_filter1.drop(labels=['Concat'],axis=1,inplace=True) #This step can be ignored if concat is not present"
   ]
  },
  {
   "cell_type": "code",
   "execution_count": 271,
   "metadata": {},
   "outputs": [],
   "source": [
    "#data_inv_after_filter1['PO Number']=data_inv_after_filter1['PO Number'].astype(int) #Have to manipulate this step a/c to requirements"
   ]
  },
  {
   "cell_type": "code",
   "execution_count": 159,
   "metadata": {},
   "outputs": [],
   "source": [
    "#data_inv_after_filter1['Product Code']=data_inv_after_filter1['Product Code'].astype(int) #Same as above"
   ]
  },
  {
   "cell_type": "markdown",
   "metadata": {},
   "source": [
    "# Concatination in Inv file for filter1"
   ]
  },
  {
   "cell_type": "code",
   "execution_count": 9,
   "metadata": {},
   "outputs": [],
   "source": [
    "#data_inv_after_filter1['Concat']=data_inv_after_filter1['PO Number'].astype(str)+\"_\"+data_inv_after_filter1['Product Code'].astype(str)"
   ]
  },
  {
   "cell_type": "code",
   "execution_count": null,
   "metadata": {
    "scrolled": true
   },
   "outputs": [],
   "source": []
  },
  {
   "cell_type": "code",
   "execution_count": 11,
   "metadata": {},
   "outputs": [],
   "source": [
    "#data_inv_after_filter2.drop(labels=['Concat'],axis=1,inplace=True)"
   ]
  },
  {
   "cell_type": "markdown",
   "metadata": {},
   "source": [
    "# Concatination in Inv file for filter2"
   ]
  },
  {
   "cell_type": "code",
   "execution_count": 275,
   "metadata": {},
   "outputs": [],
   "source": [
    "#data_inv_after_filter2['PO Number']=data_inv_after_filter2['PO Number'].astype(int)"
   ]
  },
  {
   "cell_type": "code",
   "execution_count": 12,
   "metadata": {},
   "outputs": [],
   "source": [
    "#data_inv_after_filter2['Concat']=data_inv_after_filter2['PO Number'].astype(str)+\"_\"+data_inv_after_filter2['Product Description'].astype(str)"
   ]
  },
  {
   "cell_type": "code",
   "execution_count": null,
   "metadata": {},
   "outputs": [],
   "source": []
  },
  {
   "cell_type": "code",
   "execution_count": null,
   "metadata": {},
   "outputs": [],
   "source": []
  },
  {
   "cell_type": "code",
   "execution_count": null,
   "metadata": {},
   "outputs": [],
   "source": []
  },
  {
   "cell_type": "markdown",
   "metadata": {},
   "source": [
    "# PO file Calculation"
   ]
  },
  {
   "cell_type": "code",
   "execution_count": 205,
   "metadata": {},
   "outputs": [],
   "source": [
    "data_po_after_filter1 = data_po_after[data_po_after['Item ID'].notnull()]"
   ]
  },
  {
   "cell_type": "code",
   "execution_count": 14,
   "metadata": {},
   "outputs": [],
   "source": [
    "#data_po_after_filter1.drop(labels=['Concat'],axis=1,inplace=True)"
   ]
  },
  {
   "cell_type": "markdown",
   "metadata": {},
   "source": [
    "# Concatination in PO file for filter1"
   ]
  },
  {
   "cell_type": "code",
   "execution_count": 281,
   "metadata": {},
   "outputs": [],
   "source": [
    "#data_po_after_filter1['PO Number']=data_inv_after_filter1['PO Number'].astype(float)"
   ]
  },
  {
   "cell_type": "code",
   "execution_count": 15,
   "metadata": {},
   "outputs": [],
   "source": [
    "#data_po_after_filter1['Concat']=data_po_after_filter1['PO Number'].astype(str)+\"_\"+data_po_after_filter1['Item ID'].astype(str)"
   ]
  },
  {
   "cell_type": "code",
   "execution_count": 206,
   "metadata": {},
   "outputs": [
    {
     "data": {
      "text/plain": [
       "Index(['Primary_Key', 'PO Number', 'DISTRIBUTOR', 'Manufacturer',\n",
       "       'DISTRIBUTOR PRODUCT NUMBER', 'Item ID', 'Concat',\n",
       "       'Manufacturer Part Number', 'Product Description',\n",
       "       'UNSPSC_Segment_Code', '11 Digit NDC Code', 'Primary UOM',\n",
       "       'Primary UOM Qty', 'Quantity', 'Unit Price before Discount',\n",
       "       'Final_Cost', 'Facility', 'HOSPITAL DEPARTMENTS'],\n",
       "      dtype='object')"
      ]
     },
     "execution_count": 206,
     "metadata": {},
     "output_type": "execute_result"
    }
   ],
   "source": [
    "data_po_after_filter1.columns"
   ]
  },
  {
   "cell_type": "code",
   "execution_count": 207,
   "metadata": {},
   "outputs": [
    {
     "data": {
      "text/plain": [
       "4575"
      ]
     },
     "execution_count": 207,
     "metadata": {},
     "output_type": "execute_result"
    }
   ],
   "source": [
    "len(data_po_after_filter1)"
   ]
  },
  {
   "cell_type": "code",
   "execution_count": 208,
   "metadata": {},
   "outputs": [],
   "source": [
    "data_po_after_filter1=data_po_after_filter1.groupby(['Concat'])"
   ]
  },
  {
   "cell_type": "code",
   "execution_count": 209,
   "metadata": {},
   "outputs": [],
   "source": [
    "data_po_after_filter1=data_po_after_filter1.first()"
   ]
  },
  {
   "cell_type": "markdown",
   "metadata": {},
   "source": [
    "# Concatination in PO file for filter2"
   ]
  },
  {
   "cell_type": "code",
   "execution_count": 210,
   "metadata": {},
   "outputs": [],
   "source": [
    "data_po_after_filter2 = data_po_after[data_po_after['Item ID'].isnull()]"
   ]
  },
  {
   "cell_type": "code",
   "execution_count": 19,
   "metadata": {},
   "outputs": [],
   "source": [
    "#data_po_after_filter2.drop(labels=['Concat'],axis=1,inplace=True)"
   ]
  },
  {
   "cell_type": "code",
   "execution_count": 20,
   "metadata": {},
   "outputs": [],
   "source": [
    "#data_po_after_filter2['PO Number']=data_po_after_filter2['PO Number'].astype(int)"
   ]
  },
  {
   "cell_type": "code",
   "execution_count": 225,
   "metadata": {},
   "outputs": [],
   "source": []
  },
  {
   "cell_type": "code",
   "execution_count": 21,
   "metadata": {},
   "outputs": [],
   "source": [
    "#data_po_after_filter2['Concat']=data_po_after_filter2['PO Number'].astype(str)+\"_\"+data_po_after_filter2['Product Description'].astype(str)"
   ]
  },
  {
   "cell_type": "code",
   "execution_count": 211,
   "metadata": {},
   "outputs": [],
   "source": [
    "data_po_after_filter2=data_po_after_filter2.groupby(['Concat'])"
   ]
  },
  {
   "cell_type": "code",
   "execution_count": 212,
   "metadata": {},
   "outputs": [],
   "source": [
    "data_po_after_filter2=data_po_after_filter2.first()"
   ]
  },
  {
   "cell_type": "code",
   "execution_count": null,
   "metadata": {
    "scrolled": true
   },
   "outputs": [],
   "source": []
  },
  {
   "cell_type": "code",
   "execution_count": null,
   "metadata": {},
   "outputs": [],
   "source": []
  },
  {
   "cell_type": "code",
   "execution_count": 213,
   "metadata": {},
   "outputs": [],
   "source": [
    "result1=pd.merge(data_inv_after_filter1,data_po_after_filter1,on='Concat',how='left')"
   ]
  },
  {
   "cell_type": "code",
   "execution_count": 214,
   "metadata": {},
   "outputs": [],
   "source": [
    "result2=pd.merge(data_inv_after_filter2,data_po_after_filter2,on='Concat',how='left')"
   ]
  },
  {
   "cell_type": "code",
   "execution_count": 215,
   "metadata": {},
   "outputs": [
    {
     "data": {
      "text/plain": [
       "4823"
      ]
     },
     "execution_count": 215,
     "metadata": {},
     "output_type": "execute_result"
    }
   ],
   "source": [
    "len(result1)"
   ]
  },
  {
   "cell_type": "code",
   "execution_count": 216,
   "metadata": {},
   "outputs": [
    {
     "data": {
      "text/plain": [
       "133032"
      ]
     },
     "execution_count": 216,
     "metadata": {},
     "output_type": "execute_result"
    }
   ],
   "source": [
    "len(result2)"
   ]
  },
  {
   "cell_type": "code",
   "execution_count": 217,
   "metadata": {},
   "outputs": [],
   "source": [
    "result3=result1.append(result2)"
   ]
  },
  {
   "cell_type": "code",
   "execution_count": 218,
   "metadata": {},
   "outputs": [
    {
     "data": {
      "text/plain": [
       "4823"
      ]
     },
     "execution_count": 218,
     "metadata": {},
     "output_type": "execute_result"
    }
   ],
   "source": [
    "len(result1)"
   ]
  },
  {
   "cell_type": "code",
   "execution_count": 219,
   "metadata": {},
   "outputs": [
    {
     "data": {
      "text/plain": [
       "133032"
      ]
     },
     "execution_count": 219,
     "metadata": {},
     "output_type": "execute_result"
    }
   ],
   "source": [
    "len(result2)"
   ]
  },
  {
   "cell_type": "code",
   "execution_count": 220,
   "metadata": {},
   "outputs": [
    {
     "data": {
      "text/plain": [
       "137855"
      ]
     },
     "execution_count": 220,
     "metadata": {},
     "output_type": "execute_result"
    }
   ],
   "source": [
    "len(result3)"
   ]
  },
  {
   "cell_type": "code",
   "execution_count": 221,
   "metadata": {},
   "outputs": [],
   "source": [
    "result3.to_csv('Merged_XXFHS_Reliant_Optum_Core_AP_Da_290519_Primary_Key_assigned_HN_DropDuplicates_ColExtract.csv')"
   ]
  },
  {
   "cell_type": "markdown",
   "metadata": {},
   "source": [
    "# If filtering is not required"
   ]
  },
  {
   "cell_type": "code",
   "execution_count": 61,
   "metadata": {},
   "outputs": [],
   "source": [
    "data_po_after1=data_po_after.groupby(['Concat'])"
   ]
  },
  {
   "cell_type": "code",
   "execution_count": 62,
   "metadata": {},
   "outputs": [],
   "source": [
    "data_po_after2=data_po_after1.first()"
   ]
  },
  {
   "cell_type": "code",
   "execution_count": 64,
   "metadata": {},
   "outputs": [
    {
     "data": {
      "text/plain": [
       "71208"
      ]
     },
     "execution_count": 64,
     "metadata": {},
     "output_type": "execute_result"
    }
   ],
   "source": [
    "len(data_po_after2)"
   ]
  },
  {
   "cell_type": "code",
   "execution_count": 65,
   "metadata": {},
   "outputs": [],
   "source": [
    "result3 = pd.merge(data_inv_after,data_po_after2,on='Concat',how='left')"
   ]
  },
  {
   "cell_type": "code",
   "execution_count": null,
   "metadata": {},
   "outputs": [],
   "source": []
  },
  {
   "cell_type": "code",
   "execution_count": 68,
   "metadata": {},
   "outputs": [],
   "source": [
    "result3.to_csv('Merge_Inv_Po_TPC_AP_01012018_12312018_v1_Primary_Key_assigned_HN_DropDuplicates_ColExtract.csv')"
   ]
  },
  {
   "cell_type": "code",
   "execution_count": null,
   "metadata": {},
   "outputs": [],
   "source": []
  },
  {
   "cell_type": "code",
   "execution_count": null,
   "metadata": {},
   "outputs": [],
   "source": []
  }
 ],
 "metadata": {
  "kernelspec": {
   "display_name": "Python 3",
   "language": "python",
   "name": "python3"
  },
  "language_info": {
   "codemirror_mode": {
    "name": "ipython",
    "version": 3
   },
   "file_extension": ".py",
   "mimetype": "text/x-python",
   "name": "python",
   "nbconvert_exporter": "python",
   "pygments_lexer": "ipython3",
   "version": "3.7.4"
  }
 },
 "nbformat": 4,
 "nbformat_minor": 2
}
