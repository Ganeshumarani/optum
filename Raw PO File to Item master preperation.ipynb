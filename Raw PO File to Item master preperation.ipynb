{
 "cells": [
  {
   "cell_type": "code",
   "execution_count": 23,
   "metadata": {},
   "outputs": [],
   "source": [
    "import os\n",
    "import numpy as np\n",
    "import pandas as pd\n",
    "import sys\n",
    "import re\n",
    "import glob"
   ]
  },
  {
   "cell_type": "markdown",
   "metadata": {},
   "source": [
    "# Before uploading the file please try to clean unwanted data from MPN, Mfg name, SPN, SN, PD"
   ]
  },
  {
   "cell_type": "code",
   "execution_count": null,
   "metadata": {},
   "outputs": [],
   "source": []
  },
  {
   "cell_type": "code",
   "execution_count": null,
   "metadata": {},
   "outputs": [],
   "source": [
    "# coupa addition to product master"
   ]
  },
  {
   "cell_type": "code",
   "execution_count": null,
   "metadata": {},
   "outputs": [],
   "source": [
    "# This Program will take PO file as input and then follows the below process:\n",
    "# 1) Clean the file for unwanted characters\n",
    "# 2) Assign a Primary key which is of format <cdo_name>_SC<id>_<sequence of numbers>\n",
    "# 3) Standardize column names for MPN, Mfg.name , PD, SPN , SN\n",
    "# 4) Get MPN, Mfg.name , PD, SPN , SN the data for these columns along with Primary key\n",
    "# 5) Then append above collected info to Item master list\n",
    "# 6) Generate a secondary key for the Item master list (To Be Reviewed)\n",
    "# 7) Drop duplicate after appending info to main Item master\n",
    "# 8) Case Analysis for 32 combinations of MPN, Mfg.name , PD, SPN , SN\n",
    "# 9) Map this data to original file + existing Database and populate information"
   ]
  },
  {
   "cell_type": "code",
   "execution_count": 24,
   "metadata": {},
   "outputs": [],
   "source": [
    "os.chdir(\"C:/Users/Ganesh P Umarani/Desktop/Optum/Optum_Raw_Initial_Conversion/PO Files\")"
   ]
  },
  {
   "cell_type": "code",
   "execution_count": 25,
   "metadata": {},
   "outputs": [],
   "source": [
    "#Upload the file from above directory\n",
    "data=pd.read_csv('XXFHS_Reliant_Optum_Core_PO_Da_May19 _HN.csv')"
   ]
  },
  {
   "cell_type": "code",
   "execution_count": 26,
   "metadata": {},
   "outputs": [
    {
     "data": {
      "text/plain": [
       "Index(['ID', 'PO Number', 'PO Line Item Number', 'DISTRIBUTOR', 'Manufacturer',\n",
       "       'DISTRIBUTOR PRODUCT NUMBER', 'Manufacturer Part Number', 'Item ID',\n",
       "       'Contract ID', 'Contract Type', 'Product Description',\n",
       "       'UNSPSC_Segment_Code', '11 Digit NDC Code', 'Primary UOM',\n",
       "       'Primary UOM Qty', 'Quantity', 'Unit Price before Discount',\n",
       "       'Final_Cost ', 'Facility ID', 'Facility', 'Facility Address', 'Dept ID',\n",
       "       'HOSPITAL DEPARTMENTS', 'PO Date', 'Order Type'],\n",
       "      dtype='object')"
      ]
     },
     "execution_count": 26,
     "metadata": {},
     "output_type": "execute_result"
    }
   ],
   "source": [
    "data.columns"
   ]
  },
  {
   "cell_type": "code",
   "execution_count": null,
   "metadata": {},
   "outputs": [],
   "source": []
  },
  {
   "cell_type": "code",
   "execution_count": null,
   "metadata": {},
   "outputs": [],
   "source": []
  },
  {
   "cell_type": "code",
   "execution_count": 27,
   "metadata": {},
   "outputs": [],
   "source": [
    "def rm_consec_space(x):\n",
    "    return re.sub(' +',' ',x)\n",
    "    "
   ]
  },
  {
   "cell_type": "code",
   "execution_count": 28,
   "metadata": {},
   "outputs": [],
   "source": [
    "#Clean the column names and assign the standard name\n",
    "var1=data.columns.tolist()\n",
    "var2=data.columns.tolist()"
   ]
  },
  {
   "cell_type": "code",
   "execution_count": 29,
   "metadata": {},
   "outputs": [],
   "source": [
    "for i in range(len(var1)):\n",
    "    var1[i]=var1[i].strip()\n",
    "    var1[i]=rm_consec_space(var1[i])"
   ]
  },
  {
   "cell_type": "code",
   "execution_count": 30,
   "metadata": {},
   "outputs": [],
   "source": [
    "for i in range(len(var1)):\n",
    "    data.rename({var2[i]:var1[i]},axis=1,inplace=True)"
   ]
  },
  {
   "cell_type": "code",
   "execution_count": 31,
   "metadata": {},
   "outputs": [],
   "source": [
    "col_names=data.columns.tolist()"
   ]
  },
  {
   "cell_type": "code",
   "execution_count": 32,
   "metadata": {},
   "outputs": [
    {
     "data": {
      "text/plain": [
       "['ID',\n",
       " 'PO Number',\n",
       " 'PO Line Item Number',\n",
       " 'DISTRIBUTOR',\n",
       " 'Manufacturer',\n",
       " 'DISTRIBUTOR PRODUCT NUMBER',\n",
       " 'Manufacturer Part Number',\n",
       " 'Item ID',\n",
       " 'Contract ID',\n",
       " 'Contract Type',\n",
       " 'Product Description',\n",
       " 'UNSPSC_Segment_Code',\n",
       " '11 Digit NDC Code',\n",
       " 'Primary UOM',\n",
       " 'Primary UOM Qty',\n",
       " 'Quantity',\n",
       " 'Unit Price before Discount',\n",
       " 'Final_Cost',\n",
       " 'Facility ID',\n",
       " 'Facility',\n",
       " 'Facility Address',\n",
       " 'Dept ID',\n",
       " 'HOSPITAL DEPARTMENTS',\n",
       " 'PO Date',\n",
       " 'Order Type']"
      ]
     },
     "execution_count": 32,
     "metadata": {},
     "output_type": "execute_result"
    }
   ],
   "source": [
    "col_names"
   ]
  },
  {
   "cell_type": "code",
   "execution_count": 33,
   "metadata": {},
   "outputs": [],
   "source": [
    "for col_name in col_names:\n",
    "    data[col_name]=data[col_name].astype(str)\n",
    "    data[col_name]=data[col_name].str.strip()\n",
    "    data[col_name]=data[col_name].str.rstrip(',')\n",
    "    #data[col_name]=data[col_name].str.replace(',','')\n",
    "    data[col_name]=data[col_name].apply(lambda x: rm_consec_space(x))\n",
    "    #data[col_name]=data[col_name].map(lambda x: re.sub(r'\\W+','',x))\n",
    "    data[col_name]=data[col_name].str.upper()"
   ]
  },
  {
   "cell_type": "code",
   "execution_count": 45,
   "metadata": {},
   "outputs": [
    {
     "data": {
      "text/html": [
       "<div>\n",
       "<style scoped>\n",
       "    .dataframe tbody tr th:only-of-type {\n",
       "        vertical-align: middle;\n",
       "    }\n",
       "\n",
       "    .dataframe tbody tr th {\n",
       "        vertical-align: top;\n",
       "    }\n",
       "\n",
       "    .dataframe thead th {\n",
       "        text-align: right;\n",
       "    }\n",
       "</style>\n",
       "<table border=\"1\" class=\"dataframe\">\n",
       "  <thead>\n",
       "    <tr style=\"text-align: right;\">\n",
       "      <th></th>\n",
       "      <th>Primary_Key</th>\n",
       "      <th>ID</th>\n",
       "      <th>PO Number</th>\n",
       "      <th>PO Line Item Number</th>\n",
       "      <th>DISTRIBUTOR</th>\n",
       "      <th>Manufacturer</th>\n",
       "      <th>DISTRIBUTOR PRODUCT NUMBER</th>\n",
       "      <th>Manufacturer Part Number</th>\n",
       "      <th>Item ID</th>\n",
       "      <th>Contract ID</th>\n",
       "      <th>...</th>\n",
       "      <th>Quantity</th>\n",
       "      <th>Unit Price before Discount</th>\n",
       "      <th>Final_Cost</th>\n",
       "      <th>Facility ID</th>\n",
       "      <th>Facility</th>\n",
       "      <th>Facility Address</th>\n",
       "      <th>Dept ID</th>\n",
       "      <th>HOSPITAL DEPARTMENTS</th>\n",
       "      <th>PO Date</th>\n",
       "      <th>Order Type</th>\n",
       "    </tr>\n",
       "  </thead>\n",
       "  <tbody>\n",
       "    <tr>\n",
       "      <th>0</th>\n",
       "      <td>Reliant_SC8-1</td>\n",
       "      <td>449733</td>\n",
       "      <td>635456</td>\n",
       "      <td>1</td>\n",
       "      <td>MCKESSON GENERAL MEDICAL CORP</td>\n",
       "      <td>MCKESSON GENERAL MEDICAL CORP</td>\n",
       "      <td>NAN</td>\n",
       "      <td>NAN</td>\n",
       "      <td>NAN</td>\n",
       "      <td>NAN</td>\n",
       "      <td>...</td>\n",
       "      <td>1.0</td>\n",
       "      <td>26.46</td>\n",
       "      <td>26.46</td>\n",
       "      <td>74.0</td>\n",
       "      <td>LEOMINSTER</td>\n",
       "      <td>225 NEW LANCASTER ROAD, LEOMINSTER, US, 01453</td>\n",
       "      <td>40.074.2310.611210.99.9999</td>\n",
       "      <td>PEDIATRICS</td>\n",
       "      <td>1-MAY-19</td>\n",
       "      <td>STANDARD</td>\n",
       "    </tr>\n",
       "    <tr>\n",
       "      <th>1</th>\n",
       "      <td>Reliant_SC8-2</td>\n",
       "      <td>449733</td>\n",
       "      <td>635456</td>\n",
       "      <td>2</td>\n",
       "      <td>MCKESSON GENERAL MEDICAL CORP</td>\n",
       "      <td>MCKESSON GENERAL MEDICAL CORP</td>\n",
       "      <td>NAN</td>\n",
       "      <td>NAN</td>\n",
       "      <td>NAN</td>\n",
       "      <td>NAN</td>\n",
       "      <td>...</td>\n",
       "      <td>1.0</td>\n",
       "      <td>7.47</td>\n",
       "      <td>7.47</td>\n",
       "      <td>74.0</td>\n",
       "      <td>LEOMINSTER</td>\n",
       "      <td>225 NEW LANCASTER ROAD, LEOMINSTER, US, 01453</td>\n",
       "      <td>40.074.2310.611210.99.9999</td>\n",
       "      <td>PEDIATRICS</td>\n",
       "      <td>1-MAY-19</td>\n",
       "      <td>STANDARD</td>\n",
       "    </tr>\n",
       "    <tr>\n",
       "      <th>2</th>\n",
       "      <td>Reliant_SC8-3</td>\n",
       "      <td>449733</td>\n",
       "      <td>635456</td>\n",
       "      <td>3</td>\n",
       "      <td>MCKESSON GENERAL MEDICAL CORP</td>\n",
       "      <td>MCKESSON GENERAL MEDICAL CORP</td>\n",
       "      <td>NAN</td>\n",
       "      <td>NAN</td>\n",
       "      <td>NAN</td>\n",
       "      <td>NAN</td>\n",
       "      <td>...</td>\n",
       "      <td>5.0</td>\n",
       "      <td>7.35</td>\n",
       "      <td>36.75</td>\n",
       "      <td>74.0</td>\n",
       "      <td>LEOMINSTER</td>\n",
       "      <td>225 NEW LANCASTER ROAD, LEOMINSTER, US, 01453</td>\n",
       "      <td>40.074.2310.611210.99.9999</td>\n",
       "      <td>PEDIATRICS</td>\n",
       "      <td>1-MAY-19</td>\n",
       "      <td>STANDARD</td>\n",
       "    </tr>\n",
       "    <tr>\n",
       "      <th>3</th>\n",
       "      <td>Reliant_SC8-4</td>\n",
       "      <td>449733</td>\n",
       "      <td>635456</td>\n",
       "      <td>4</td>\n",
       "      <td>MCKESSON GENERAL MEDICAL CORP</td>\n",
       "      <td>MCKESSON GENERAL MEDICAL CORP</td>\n",
       "      <td>NAN</td>\n",
       "      <td>NAN</td>\n",
       "      <td>NAN</td>\n",
       "      <td>NAN</td>\n",
       "      <td>...</td>\n",
       "      <td>4.0</td>\n",
       "      <td>1.2</td>\n",
       "      <td>4.8</td>\n",
       "      <td>74.0</td>\n",
       "      <td>LEOMINSTER</td>\n",
       "      <td>225 NEW LANCASTER ROAD, LEOMINSTER, US, 01453</td>\n",
       "      <td>40.074.2310.611210.99.9999</td>\n",
       "      <td>PEDIATRICS</td>\n",
       "      <td>1-MAY-19</td>\n",
       "      <td>STANDARD</td>\n",
       "    </tr>\n",
       "    <tr>\n",
       "      <th>4</th>\n",
       "      <td>Reliant_SC8-5</td>\n",
       "      <td>449733</td>\n",
       "      <td>635456</td>\n",
       "      <td>5</td>\n",
       "      <td>MCKESSON GENERAL MEDICAL CORP</td>\n",
       "      <td>MCKESSON GENERAL MEDICAL CORP</td>\n",
       "      <td>NAN</td>\n",
       "      <td>NAN</td>\n",
       "      <td>NAN</td>\n",
       "      <td>NAN</td>\n",
       "      <td>...</td>\n",
       "      <td>1.0</td>\n",
       "      <td>12.88</td>\n",
       "      <td>12.88</td>\n",
       "      <td>74.0</td>\n",
       "      <td>LEOMINSTER</td>\n",
       "      <td>225 NEW LANCASTER ROAD, LEOMINSTER, US, 01453</td>\n",
       "      <td>40.074.2310.611210.99.9999</td>\n",
       "      <td>PEDIATRICS</td>\n",
       "      <td>1-MAY-19</td>\n",
       "      <td>STANDARD</td>\n",
       "    </tr>\n",
       "  </tbody>\n",
       "</table>\n",
       "<p>5 rows × 26 columns</p>\n",
       "</div>"
      ],
      "text/plain": [
       "     Primary_Key      ID PO Number PO Line Item Number  \\\n",
       "0  Reliant_SC8-1  449733    635456                   1   \n",
       "1  Reliant_SC8-2  449733    635456                   2   \n",
       "2  Reliant_SC8-3  449733    635456                   3   \n",
       "3  Reliant_SC8-4  449733    635456                   4   \n",
       "4  Reliant_SC8-5  449733    635456                   5   \n",
       "\n",
       "                     DISTRIBUTOR                   Manufacturer  \\\n",
       "0  MCKESSON GENERAL MEDICAL CORP  MCKESSON GENERAL MEDICAL CORP   \n",
       "1  MCKESSON GENERAL MEDICAL CORP  MCKESSON GENERAL MEDICAL CORP   \n",
       "2  MCKESSON GENERAL MEDICAL CORP  MCKESSON GENERAL MEDICAL CORP   \n",
       "3  MCKESSON GENERAL MEDICAL CORP  MCKESSON GENERAL MEDICAL CORP   \n",
       "4  MCKESSON GENERAL MEDICAL CORP  MCKESSON GENERAL MEDICAL CORP   \n",
       "\n",
       "  DISTRIBUTOR PRODUCT NUMBER Manufacturer Part Number Item ID Contract ID  \\\n",
       "0                        NAN                      NAN     NAN         NAN   \n",
       "1                        NAN                      NAN     NAN         NAN   \n",
       "2                        NAN                      NAN     NAN         NAN   \n",
       "3                        NAN                      NAN     NAN         NAN   \n",
       "4                        NAN                      NAN     NAN         NAN   \n",
       "\n",
       "   ... Quantity Unit Price before Discount Final_Cost Facility ID    Facility  \\\n",
       "0  ...      1.0                      26.46      26.46        74.0  LEOMINSTER   \n",
       "1  ...      1.0                       7.47       7.47        74.0  LEOMINSTER   \n",
       "2  ...      5.0                       7.35      36.75        74.0  LEOMINSTER   \n",
       "3  ...      4.0                        1.2        4.8        74.0  LEOMINSTER   \n",
       "4  ...      1.0                      12.88      12.88        74.0  LEOMINSTER   \n",
       "\n",
       "                                Facility Address                     Dept ID  \\\n",
       "0  225 NEW LANCASTER ROAD, LEOMINSTER, US, 01453  40.074.2310.611210.99.9999   \n",
       "1  225 NEW LANCASTER ROAD, LEOMINSTER, US, 01453  40.074.2310.611210.99.9999   \n",
       "2  225 NEW LANCASTER ROAD, LEOMINSTER, US, 01453  40.074.2310.611210.99.9999   \n",
       "3  225 NEW LANCASTER ROAD, LEOMINSTER, US, 01453  40.074.2310.611210.99.9999   \n",
       "4  225 NEW LANCASTER ROAD, LEOMINSTER, US, 01453  40.074.2310.611210.99.9999   \n",
       "\n",
       "  HOSPITAL DEPARTMENTS   PO Date Order Type  \n",
       "0           PEDIATRICS  1-MAY-19   STANDARD  \n",
       "1           PEDIATRICS  1-MAY-19   STANDARD  \n",
       "2           PEDIATRICS  1-MAY-19   STANDARD  \n",
       "3           PEDIATRICS  1-MAY-19   STANDARD  \n",
       "4           PEDIATRICS  1-MAY-19   STANDARD  \n",
       "\n",
       "[5 rows x 26 columns]"
      ]
     },
     "execution_count": 45,
     "metadata": {},
     "output_type": "execute_result"
    }
   ],
   "source": [
    "data.head()"
   ]
  },
  {
   "cell_type": "code",
   "execution_count": 35,
   "metadata": {},
   "outputs": [
    {
     "name": "stdout",
     "output_type": "stream",
     "text": [
      "Please enter CDO Name : Reliant\n"
     ]
    }
   ],
   "source": [
    "cdo_name= input(prompt='Please enter CDO Name : ')"
   ]
  },
  {
   "cell_type": "code",
   "execution_count": 36,
   "metadata": {},
   "outputs": [
    {
     "name": "stdout",
     "output_type": "stream",
     "text": [
      "Enter the SC number: 8\n"
     ]
    }
   ],
   "source": [
    "SC_id= input(prompt='Enter the SC number: ')"
   ]
  },
  {
   "cell_type": "code",
   "execution_count": 37,
   "metadata": {},
   "outputs": [],
   "source": [
    "PK=cdo_name+'_SC'+SC_id+'-'"
   ]
  },
  {
   "cell_type": "code",
   "execution_count": 38,
   "metadata": {},
   "outputs": [
    {
     "data": {
      "text/plain": [
       "'Reliant_SC8-'"
      ]
     },
     "execution_count": 38,
     "metadata": {},
     "output_type": "execute_result"
    }
   ],
   "source": [
    "PK"
   ]
  },
  {
   "cell_type": "code",
   "execution_count": 39,
   "metadata": {},
   "outputs": [],
   "source": [
    "data=data.reset_index()"
   ]
  },
  {
   "cell_type": "code",
   "execution_count": 41,
   "metadata": {},
   "outputs": [],
   "source": [
    "data.rename({'index':'Primary_Key'},axis=1,inplace=True)"
   ]
  },
  {
   "cell_type": "code",
   "execution_count": 42,
   "metadata": {},
   "outputs": [],
   "source": [
    "data['Primary_Key']=data.index+1"
   ]
  },
  {
   "cell_type": "code",
   "execution_count": 43,
   "metadata": {},
   "outputs": [],
   "source": [
    "data['Primary_Key']=data['Primary_Key'].astype(str)"
   ]
  },
  {
   "cell_type": "code",
   "execution_count": 44,
   "metadata": {},
   "outputs": [],
   "source": [
    "data['Primary_Key']=PK+data['Primary_Key']"
   ]
  },
  {
   "cell_type": "markdown",
   "metadata": {},
   "source": [
    "# Save the file which has primary key assigned"
   ]
  },
  {
   "cell_type": "code",
   "execution_count": null,
   "metadata": {},
   "outputs": [],
   "source": []
  },
  {
   "cell_type": "code",
   "execution_count": 46,
   "metadata": {},
   "outputs": [],
   "source": [
    "data.to_csv('XXFHS_Reliant_Optum_Core_PO_Da_May19_Primary_Key_assigned.csv')"
   ]
  },
  {
   "cell_type": "code",
   "execution_count": null,
   "metadata": {},
   "outputs": [],
   "source": [
    "data.columns"
   ]
  },
  {
   "cell_type": "code",
   "execution_count": null,
   "metadata": {},
   "outputs": [],
   "source": [
    "data['manufacturer_part_number']=\"\"\n",
    "data['manufacturer_name']=\"\"\n"
   ]
  },
  {
   "cell_type": "code",
   "execution_count": null,
   "metadata": {},
   "outputs": [],
   "source": [
    "data['supplier_part_number']=\"\""
   ]
  },
  {
   "cell_type": "markdown",
   "metadata": {},
   "source": [
    "# Below step values have to be manually replaced"
   ]
  },
  {
   "cell_type": "code",
   "execution_count": null,
   "metadata": {},
   "outputs": [],
   "source": [
    "data.rename({'PARTDESC':'product_desc', 'MANPARTNUM':'manufacturer_part_number',\n",
    "             'MANUFDESC':'manufacturer_name','SUPPLIERDESC':'supplier_name','SUPPARTNUM':'supplier_part_number'}\n",
    "            ,axis=1,inplace=True)"
   ]
  },
  {
   "cell_type": "code",
   "execution_count": null,
   "metadata": {},
   "outputs": [],
   "source": [
    "extract_data=data[['Primary_Key','product_desc','manufacturer_part_number','manufacturer_name','supplier_part_number','supplier_name']]"
   ]
  },
  {
   "cell_type": "code",
   "execution_count": 79,
   "metadata": {},
   "outputs": [],
   "source": [
    "os.chdir(\"C:/Users/Ganesh P Umarani/Desktop/Optum/Optum_Raw_Initial_Conversion/PO Files/product master files/All PM's with dup\")"
   ]
  },
  {
   "cell_type": "code",
   "execution_count": null,
   "metadata": {},
   "outputs": [],
   "source": [
    "pwd"
   ]
  },
  {
   "cell_type": "code",
   "execution_count": null,
   "metadata": {},
   "outputs": [],
   "source": [
    "product_master=pd.read_csv('Product_master_stage_1_with_dup.csv')"
   ]
  },
  {
   "cell_type": "code",
   "execution_count": null,
   "metadata": {},
   "outputs": [],
   "source": [
    "len(extract_data)"
   ]
  },
  {
   "cell_type": "code",
   "execution_count": null,
   "metadata": {},
   "outputs": [],
   "source": [
    "product_master=product_master.append(extract_data,ignore_index=True)"
   ]
  },
  {
   "cell_type": "code",
   "execution_count": null,
   "metadata": {},
   "outputs": [],
   "source": [
    "len(product_master)"
   ]
  },
  {
   "cell_type": "code",
   "execution_count": null,
   "metadata": {},
   "outputs": [],
   "source": [
    "product_master.to_csv('Product_master_stage_2_with_dup.csv')"
   ]
  },
  {
   "cell_type": "code",
   "execution_count": null,
   "metadata": {},
   "outputs": [],
   "source": []
  },
  {
   "cell_type": "code",
   "execution_count": 80,
   "metadata": {},
   "outputs": [],
   "source": [
    "patch_work=pd.read_csv('Product_master_stage_2_with_dup.csv')"
   ]
  },
  {
   "cell_type": "code",
   "execution_count": 84,
   "metadata": {},
   "outputs": [],
   "source": [
    "clip=pd.read_clipboard()"
   ]
  },
  {
   "cell_type": "code",
   "execution_count": 89,
   "metadata": {},
   "outputs": [],
   "source": [
    "srch_list=list(clip['Primary_Key'])"
   ]
  },
  {
   "cell_type": "code",
   "execution_count": 90,
   "metadata": {},
   "outputs": [],
   "source": [
    "idx_list=[]"
   ]
  },
  {
   "cell_type": "code",
   "execution_count": 91,
   "metadata": {},
   "outputs": [
    {
     "name": "stdout",
     "output_type": "stream",
     "text": [
      "DMG_TEC_SC1-8230\n",
      "DMG_TEC_SC1-8315\n",
      "DMG_TEC_SC1-8434\n",
      "DMG_TEC_SC1-8446\n",
      "DMG_TEC_SC1-8611\n",
      "DMG_TEC_SC1-9471\n",
      "DMG_TEC_SC1-9479\n",
      "DMG_TEC_SC1-9532\n",
      "DMG_TEC_SC1-9620\n",
      "DMG_TEC_SC1-9725\n",
      "DMG_TEC_SC1-9859\n",
      "DMG_TEC_SC1-10045\n",
      "DMG_TEC_SC1-10264\n",
      "DMG_TEC_SC1-10492\n",
      "DMG_TEC_SC1-10732\n",
      "DMG_TEC_SC1-10876\n",
      "DMG_TEC_SC1-11051\n",
      "DMG_TEC_SC1-11728\n",
      "DMG_TEC_SC1-11832\n",
      "DMG_TEC_SC1-12033\n",
      "DMG_TEC_SC1-12168\n",
      "DMG_TEC_SC1-12201\n",
      "DMG_TEC_SC1-12270\n",
      "DMG_TEC_SC1-12370\n",
      "DMG_TEC_SC1-12410\n",
      "DMG_TEC_SC1-12434\n",
      "DMG_TEC_SC1-12462\n",
      "DMG_TEC_SC1-12533\n",
      "DMG_TEC_SC1-12563\n",
      "DMG_TEC_SC1-13150\n",
      "DMG_TEC_SC1-13822\n",
      "DMG_TEC_SC1-14335\n",
      "DMG_TEC_SC1-18498\n",
      "DMG_TEC_SC1-19238\n",
      "DMG_TEC_SC1-20727\n",
      "DMG_TEC_SC1-20749\n",
      "DMG_TEC_SC1-22257\n",
      "DMG_TEC_SC1-24413\n",
      "DMG_TEC_SC1-25661\n",
      "DMG_TEC_SC1-26613\n",
      "DMG_TEC_SC1-26676\n",
      "DMG_TEC_SC1-26682\n",
      "DMG_TEC_SC1-30407\n",
      "DMG_TEC_SC1-31122\n",
      "DMG_TEC_SC1-33445\n",
      "DMG_TEC_SC1-34279\n",
      "DMG_TEC_SC1-35742\n"
     ]
    }
   ],
   "source": [
    "for ind, row in patch_work.iterrows():\n",
    "    if row['Primary_Key'] in srch_list:\n",
    "        print(row['Primary_Key'])\n",
    "        idx_list.append(ind)\n",
    "    "
   ]
  },
  {
   "cell_type": "code",
   "execution_count": 95,
   "metadata": {},
   "outputs": [],
   "source": [
    "patch_work.drop(labels=idx_list,axis=0,inplace=True)"
   ]
  },
  {
   "cell_type": "code",
   "execution_count": 96,
   "metadata": {},
   "outputs": [
    {
     "data": {
      "text/plain": [
       "886039"
      ]
     },
     "execution_count": 96,
     "metadata": {},
     "output_type": "execute_result"
    }
   ],
   "source": [
    "len(patch_work)"
   ]
  },
  {
   "cell_type": "code",
   "execution_count": 97,
   "metadata": {},
   "outputs": [],
   "source": [
    "patch_work.to_csv(\"Product_master_stage_3_with_dup.csv\")"
   ]
  },
  {
   "cell_type": "code",
   "execution_count": 98,
   "metadata": {},
   "outputs": [],
   "source": [
    "product_master=pd.read_csv('Product_master_stage_3_with_dup.csv')"
   ]
  },
  {
   "cell_type": "code",
   "execution_count": 104,
   "metadata": {},
   "outputs": [
    {
     "data": {
      "text/plain": [
       "Index(['Primary_Key', 'product_desc', 'manufacturer_part_number',\n",
       "       'manufacturer_name', 'supplier_part_number', 'supplier_name'],\n",
       "      dtype='object')"
      ]
     },
     "execution_count": 104,
     "metadata": {},
     "output_type": "execute_result"
    }
   ],
   "source": [
    "product_master.columns"
   ]
  },
  {
   "cell_type": "code",
   "execution_count": 103,
   "metadata": {},
   "outputs": [],
   "source": [
    "product_master.drop(labels=['S. No'],axis=1,inplace=True)"
   ]
  },
  {
   "cell_type": "code",
   "execution_count": null,
   "metadata": {},
   "outputs": [],
   "source": []
  },
  {
   "cell_type": "code",
   "execution_count": 106,
   "metadata": {},
   "outputs": [],
   "source": [
    "product_master.replace(to_replace=np.nan,value='NAN',inplace=True)"
   ]
  },
  {
   "cell_type": "code",
   "execution_count": 99,
   "metadata": {},
   "outputs": [
    {
     "data": {
      "text/plain": [
       "886086"
      ]
     },
     "execution_count": 99,
     "metadata": {},
     "output_type": "execute_result"
    }
   ],
   "source": [
    "len(product_master)"
   ]
  },
  {
   "cell_type": "code",
   "execution_count": null,
   "metadata": {},
   "outputs": [],
   "source": [
    "pwd"
   ]
  },
  {
   "cell_type": "code",
   "execution_count": null,
   "metadata": {},
   "outputs": [],
   "source": []
  },
  {
   "cell_type": "code",
   "execution_count": 107,
   "metadata": {},
   "outputs": [],
   "source": [
    "f = {c: ','.join if c == 'Primary_Key' else 'first' for c in ['Primary_Key']}\n",
    "\n",
    "product_master=product_master.groupby(['product_desc', 'manufacturer_part_number','manufacturer_name', 'supplier_part_number', 'supplier_name']).agg(f).reset_index()"
   ]
  },
  {
   "cell_type": "code",
   "execution_count": 108,
   "metadata": {},
   "outputs": [
    {
     "data": {
      "text/plain": [
       "178094"
      ]
     },
     "execution_count": 108,
     "metadata": {},
     "output_type": "execute_result"
    }
   ],
   "source": [
    "len(product_master)"
   ]
  },
  {
   "cell_type": "code",
   "execution_count": null,
   "metadata": {},
   "outputs": [],
   "source": []
  },
  {
   "cell_type": "code",
   "execution_count": 109,
   "metadata": {},
   "outputs": [],
   "source": [
    "os.chdir(\"C:/Users/Ganesh P Umarani/Desktop/Optum/Optum_Raw_Initial_Conversion/PO Files/product master files/All PM's without dup\")"
   ]
  },
  {
   "cell_type": "code",
   "execution_count": 110,
   "metadata": {},
   "outputs": [],
   "source": [
    "product_master.to_csv('product_master_stage_3_without_duplicates.csv')"
   ]
  },
  {
   "cell_type": "markdown",
   "metadata": {},
   "source": [
    "# Clean the without duplicate file"
   ]
  },
  {
   "cell_type": "code",
   "execution_count": null,
   "metadata": {},
   "outputs": [],
   "source": []
  },
  {
   "cell_type": "code",
   "execution_count": 2,
   "metadata": {},
   "outputs": [],
   "source": [
    "os.chdir(\"C:/Users/Ganesh P Umarani/Desktop/Optum/Ganesh_Merged_Files/Merged files duplicates/Unique item master files\")"
   ]
  },
  {
   "cell_type": "code",
   "execution_count": 3,
   "metadata": {},
   "outputs": [
    {
     "name": "stderr",
     "output_type": "stream",
     "text": [
      "c:\\users\\ganesh p umarani\\appdata\\local\\programs\\python\\python37\\lib\\site-packages\\IPython\\core\\interactiveshell.py:3058: DtypeWarning: Columns (1) have mixed types. Specify dtype option on import or set low_memory=False.\n",
      "  interactivity=interactivity, compiler=compiler, result=result)\n"
     ]
    }
   ],
   "source": [
    "to_clean=pd.read_csv(\"All_files_merged_no_dup_with_spend_new_2.csv\")"
   ]
  },
  {
   "cell_type": "code",
   "execution_count": 5,
   "metadata": {},
   "outputs": [
    {
     "data": {
      "text/plain": [
       "325075"
      ]
     },
     "execution_count": 5,
     "metadata": {},
     "output_type": "execute_result"
    }
   ],
   "source": [
    "len(to_clean)"
   ]
  },
  {
   "cell_type": "code",
   "execution_count": 6,
   "metadata": {},
   "outputs": [],
   "source": [
    "to_clean.replace(to_replace=np.nan,value='NAN',inplace=True)"
   ]
  },
  {
   "cell_type": "code",
   "execution_count": 11,
   "metadata": {},
   "outputs": [
    {
     "data": {
      "text/plain": [
       "Secodary_key        int64\n",
       "Dist_part_num_x    object\n",
       "Distributor_x      object\n",
       "Manufacturer_x     object\n",
       "Mfg_part_num_x     object\n",
       "Prod_desc_x        object\n",
       "dtype: object"
      ]
     },
     "execution_count": 11,
     "metadata": {},
     "output_type": "execute_result"
    }
   ],
   "source": [
    "to_clean.dtypes"
   ]
  },
  {
   "cell_type": "code",
   "execution_count": 10,
   "metadata": {},
   "outputs": [],
   "source": [
    "to_clean.drop(labels=['Final_cost_x'],axis=1,inplace=True)"
   ]
  },
  {
   "cell_type": "code",
   "execution_count": 12,
   "metadata": {},
   "outputs": [],
   "source": [
    "grouped_res= to_clean.groupby(['Dist_part_num_x','Mfg_part_num_x'])"
   ]
  },
  {
   "cell_type": "code",
   "execution_count": 15,
   "metadata": {},
   "outputs": [],
   "source": [
    "df_grpby_res=grouped_res.count()"
   ]
  },
  {
   "cell_type": "code",
   "execution_count": 16,
   "metadata": {},
   "outputs": [],
   "source": [
    "df_grpby_res=pd.DataFrame(df_grpby_res.to_records())"
   ]
  },
  {
   "cell_type": "code",
   "execution_count": 22,
   "metadata": {},
   "outputs": [
    {
     "data": {
      "text/plain": [
       "14354"
      ]
     },
     "execution_count": 22,
     "metadata": {},
     "output_type": "execute_result"
    }
   ],
   "source": [
    "len(df_grpby_res)"
   ]
  },
  {
   "cell_type": "code",
   "execution_count": null,
   "metadata": {},
   "outputs": [],
   "source": []
  },
  {
   "cell_type": "code",
   "execution_count": null,
   "metadata": {},
   "outputs": [],
   "source": []
  },
  {
   "cell_type": "code",
   "execution_count": 19,
   "metadata": {},
   "outputs": [
    {
     "data": {
      "text/plain": [
       "['Dist_part_num_x',\n",
       " 'Mfg_part_num_x',\n",
       " 'Secodary_key',\n",
       " 'Distributor_x',\n",
       " 'Manufacturer_x',\n",
       " 'Prod_desc_x']"
      ]
     },
     "execution_count": 19,
     "metadata": {},
     "output_type": "execute_result"
    }
   ],
   "source": [
    "list_cols"
   ]
  },
  {
   "cell_type": "code",
   "execution_count": 18,
   "metadata": {},
   "outputs": [],
   "source": [
    "list_cols=list(df_grpby_res.columns)"
   ]
  },
  {
   "cell_type": "code",
   "execution_count": 83,
   "metadata": {},
   "outputs": [],
   "source": [
    "# df_grpby_res.drop(labels=list_cols,axis=1,inplace=True)"
   ]
  },
  {
   "cell_type": "code",
   "execution_count": null,
   "metadata": {},
   "outputs": [],
   "source": []
  },
  {
   "cell_type": "code",
   "execution_count": 21,
   "metadata": {},
   "outputs": [],
   "source": [
    "df_grpby_res=df_grpby_res[df_grpby_res['Prod_desc_x']>1]"
   ]
  },
  {
   "cell_type": "code",
   "execution_count": 30,
   "metadata": {},
   "outputs": [],
   "source": [
    "fin_res_smae_mpn_spn_combo=pd.DataFrame(columns=['Secondary_key','manufacturer_part_number','supplier_part_number','product_desc','manufacturer_name','supplier_name'])"
   ]
  },
  {
   "cell_type": "code",
   "execution_count": 112,
   "metadata": {},
   "outputs": [],
   "source": [
    "a=df_grpby_res['manufacturer_part_number'][0]\n",
    "b=df_grpby_res['supplier_part_number'][0]\n",
    "recs=to_clean[(to_clean['manufacturer_part_number']==a)&(to_clean['supplier_part_number']==b)]"
   ]
  },
  {
   "cell_type": "code",
   "execution_count": 120,
   "metadata": {},
   "outputs": [
    {
     "data": {
      "text/html": [
       "<div>\n",
       "<style scoped>\n",
       "    .dataframe tbody tr th:only-of-type {\n",
       "        vertical-align: middle;\n",
       "    }\n",
       "\n",
       "    .dataframe tbody tr th {\n",
       "        vertical-align: top;\n",
       "    }\n",
       "\n",
       "    .dataframe thead th {\n",
       "        text-align: right;\n",
       "    }\n",
       "</style>\n",
       "<table border=\"1\" class=\"dataframe\">\n",
       "  <thead>\n",
       "    <tr style=\"text-align: right;\">\n",
       "      <th></th>\n",
       "      <th>product_desc</th>\n",
       "      <th>manufacturer_part_number</th>\n",
       "      <th>manufacturer_name</th>\n",
       "      <th>supplier_part_number</th>\n",
       "      <th>supplier_name</th>\n",
       "      <th>Primary_Key</th>\n",
       "    </tr>\n",
       "  </thead>\n",
       "  <tbody>\n",
       "    <tr>\n",
       "      <th>62609</th>\n",
       "      <td>EMBROIDERY DEPTARTMENT NAME</td>\n",
       "      <td>0</td>\n",
       "      <td>MEDLINE</td>\n",
       "      <td>0</td>\n",
       "      <td>000059 / MEDLINE INDUSTRIES INC</td>\n",
       "      <td>Mountain_west_SC1-18621,Mountain_west_SC1-1862...</td>\n",
       "    </tr>\n",
       "    <tr>\n",
       "      <th>62616</th>\n",
       "      <td>EMBROIDERY PROVIDER NAME</td>\n",
       "      <td>0</td>\n",
       "      <td>MEDLINE</td>\n",
       "      <td>0</td>\n",
       "      <td>000059 / MEDLINE INDUSTRIES INC</td>\n",
       "      <td>Mountain_west_SC1-12668,Mountain_west_SC1-1266...</td>\n",
       "    </tr>\n",
       "  </tbody>\n",
       "</table>\n",
       "</div>"
      ],
      "text/plain": [
       "                      product_desc manufacturer_part_number manufacturer_name  \\\n",
       "62609  EMBROIDERY DEPTARTMENT NAME                        0           MEDLINE   \n",
       "62616     EMBROIDERY PROVIDER NAME                        0           MEDLINE   \n",
       "\n",
       "      supplier_part_number                    supplier_name  \\\n",
       "62609                    0  000059 / MEDLINE INDUSTRIES INC   \n",
       "62616                    0  000059 / MEDLINE INDUSTRIES INC   \n",
       "\n",
       "                                             Primary_Key  \n",
       "62609  Mountain_west_SC1-18621,Mountain_west_SC1-1862...  \n",
       "62616  Mountain_west_SC1-12668,Mountain_west_SC1-1266...  "
      ]
     },
     "execution_count": 120,
     "metadata": {},
     "output_type": "execute_result"
    }
   ],
   "source": [
    "recs"
   ]
  },
  {
   "cell_type": "code",
   "execution_count": 26,
   "metadata": {},
   "outputs": [
    {
     "data": {
      "text/plain": [
       "Index(['Secodary_key', 'Dist_part_num_x', 'Distributor_x', 'Manufacturer_x',\n",
       "       'Mfg_part_num_x', 'Prod_desc_x'],\n",
       "      dtype='object')"
      ]
     },
     "execution_count": 26,
     "metadata": {},
     "output_type": "execute_result"
    }
   ],
   "source": [
    "to_clean.columns"
   ]
  },
  {
   "cell_type": "code",
   "execution_count": 31,
   "metadata": {},
   "outputs": [
    {
     "data": {
      "text/plain": [
       "Index(['Secondary_key', 'manufacturer_part_number', 'supplier_part_number',\n",
       "       'product_desc', 'manufacturer_name', 'supplier_name'],\n",
       "      dtype='object')"
      ]
     },
     "execution_count": 31,
     "metadata": {},
     "output_type": "execute_result"
    }
   ],
   "source": [
    "fin_res_smae_mpn_spn_combo.columns"
   ]
  },
  {
   "cell_type": "code",
   "execution_count": 37,
   "metadata": {},
   "outputs": [
    {
     "name": "stderr",
     "output_type": "stream",
     "text": [
      "c:\\users\\ganesh p umarani\\appdata\\local\\programs\\python\\python37\\lib\\site-packages\\pandas\\core\\frame.py:4097: SettingWithCopyWarning: \n",
      "A value is trying to be set on a copy of a slice from a DataFrame\n",
      "\n",
      "See the caveats in the documentation: http://pandas.pydata.org/pandas-docs/stable/user_guide/indexing.html#returning-a-view-versus-a-copy\n",
      "  errors=errors,\n"
     ]
    }
   ],
   "source": [
    "df_grpby_res.drop(labels=['index'],axis=1,inplace=True)"
   ]
  },
  {
   "cell_type": "code",
   "execution_count": 38,
   "metadata": {},
   "outputs": [
    {
     "data": {
      "text/plain": [
       "Index(['Dist_part_num_x', 'Mfg_part_num_x', 'Secodary_key', 'Distributor_x',\n",
       "       'Manufacturer_x', 'Prod_desc_x'],\n",
       "      dtype='object')"
      ]
     },
     "execution_count": 38,
     "metadata": {},
     "output_type": "execute_result"
    }
   ],
   "source": [
    "df_grpby_res.columns"
   ]
  },
  {
   "cell_type": "code",
   "execution_count": 40,
   "metadata": {},
   "outputs": [
    {
     "data": {
      "text/plain": [
       "'NAN'"
      ]
     },
     "execution_count": 40,
     "metadata": {},
     "output_type": "execute_result"
    }
   ],
   "source": [
    "df_grpby_res['Mfg_part_num_x'][0]"
   ]
  },
  {
   "cell_type": "code",
   "execution_count": null,
   "metadata": {},
   "outputs": [],
   "source": []
  },
  {
   "cell_type": "code",
   "execution_count": 41,
   "metadata": {},
   "outputs": [],
   "source": [
    "for i in range(len(df_grpby_res)):\n",
    "    a=df_grpby_res['Mfg_part_num_x'][i]\n",
    "    b=df_grpby_res['Dist_part_num_x'][i]\n",
    "    records=to_clean[(to_clean['Mfg_part_num_x']==a)&(to_clean['Dist_part_num_x']==b)]\n",
    "    for index, row in records.iterrows():\n",
    "        fin_res_smae_mpn_spn_combo=fin_res_smae_mpn_spn_combo.append({'manufacturer_part_number':row['Mfg_part_num_x'],\n",
    "                                                                 'supplier_part_number':row['Dist_part_num_x'],\n",
    "                                                                 'product_desc':row['Prod_desc_x'],\n",
    "                                                                 'supplier_name':row['Distributor_x'],\n",
    "                                                                 'manufacturer_name':row['Manufacturer_x'],\n",
    "                                                                 'Secondary_key':row['Secodary_key']},ignore_index=True)\n",
    "    "
   ]
  },
  {
   "cell_type": "code",
   "execution_count": 42,
   "metadata": {},
   "outputs": [],
   "source": [
    "fin_res_smae_mpn_spn_combo.to_csv('fin_res_smae_mpn_spn_combo_1.csv')"
   ]
  },
  {
   "cell_type": "code",
   "execution_count": null,
   "metadata": {},
   "outputs": [],
   "source": []
  },
  {
   "cell_type": "code",
   "execution_count": 60,
   "metadata": {},
   "outputs": [],
   "source": [
    "df_grpby_res.to_csv('same_mpn_spns.csv')"
   ]
  },
  {
   "cell_type": "code",
   "execution_count": 68,
   "metadata": {},
   "outputs": [],
   "source": [
    "df_grpby_res=df_grpby_res[df_grpby_res['manufacturer_part_number']==df_grpby_res['supplier_part_number']]"
   ]
  },
  {
   "cell_type": "code",
   "execution_count": null,
   "metadata": {},
   "outputs": [],
   "source": []
  },
  {
   "cell_type": "code",
   "execution_count": null,
   "metadata": {},
   "outputs": [],
   "source": []
  },
  {
   "cell_type": "code",
   "execution_count": null,
   "metadata": {},
   "outputs": [],
   "source": []
  },
  {
   "cell_type": "markdown",
   "metadata": {},
   "source": [
    "# Case Analysis"
   ]
  },
  {
   "cell_type": "code",
   "execution_count": null,
   "metadata": {},
   "outputs": [],
   "source": [
    "from itertools import combinations"
   ]
  },
  {
   "cell_type": "code",
   "execution_count": null,
   "metadata": {},
   "outputs": [],
   "source": [
    "count_list=[]"
   ]
  },
  {
   "cell_type": "code",
   "execution_count": null,
   "metadata": {},
   "outputs": [],
   "source": [
    "product_master.replace(to_replace='NAN',value=np.nan,inplace=True)\n",
    "product_master.replace(to_replace='',value=np.nan,inplace=True)\n",
    "\n",
    "count_product_desc=product_master[(product_master.product_desc.notnull())&(product_master.manufacturer_part_number.isnull())&(product_master.manufacturer_name.isnull())&(product_master.supplier_part_number.isnull())&(product_master.supplier_name.isnull())]\n",
    "count_list.append(len(count_product_desc))\n",
    "\n",
    "count_manufacturer_part_number=product_master[(product_master.product_desc.isnull())&(product_master.manufacturer_part_number.notnull())&(product_master.manufacturer_name.isnull())&(product_master.supplier_part_number.isnull())&(product_master.supplier_name.isnull())]\n",
    "count_list.append(len(count_manufacturer_part_number))\n",
    "\n",
    "count_manufacturer_name=product_master[(product_master.product_desc.isnull())&(product_master.manufacturer_part_number.isnull())&(product_master.manufacturer_name.notnull())&(product_master.supplier_part_number.isnull())&(product_master.supplier_name.isnull())]\n",
    "count_list.append(len(count_manufacturer_name))\n",
    "\n",
    "count_supplier_part_number=product_master[(product_master.product_desc.isnull())&(product_master.manufacturer_part_number.isnull())&(product_master.manufacturer_name.isnull())&(product_master.supplier_part_number.notnull())&(product_master.supplier_name.isnull())]\n",
    "count_list.append(len(count_supplier_part_number))\n",
    "\n",
    "count_supplier_name=product_master[(product_master.product_desc.isnull())&(product_master.manufacturer_part_number.isnull())&(product_master.manufacturer_name.isnull())&(product_master.supplier_part_number.isnull())&(product_master.supplier_name.notnull())]\n",
    "count_list.append(len(count_supplier_name))\n",
    "\n",
    "count_product_desc_manufacturer_part_number=product_master[(product_master.product_desc.notnull())&(product_master.manufacturer_part_number.notnull())&(product_master.manufacturer_name.isnull())&(product_master.supplier_part_number.isnull())&(product_master.supplier_name.isnull())]\n",
    "count_list.append(len(count_product_desc_manufacturer_part_number))\n",
    "\n",
    "count_product_desc_manufacturer_name=product_master[(product_master.product_desc.notnull())&(product_master.manufacturer_part_number.isnull())&(product_master.manufacturer_name.notnull())&(product_master.supplier_part_number.isnull())&(product_master.supplier_name.isnull())]\n",
    "count_list.append(len(count_product_desc_manufacturer_name))\n",
    "\n",
    "count_product_desc_supplier_part_number=product_master[(product_master.product_desc.notnull())&(product_master.manufacturer_part_number.isnull())&(product_master.manufacturer_name.isnull())&(product_master.supplier_part_number.notnull())&(product_master.supplier_name.isnull())]\n",
    "count_list.append(len(count_product_desc_supplier_part_number))\n",
    "\n",
    "count_product_desc_supplier_name=product_master[(product_master.product_desc.notnull())&(product_master.manufacturer_part_number.isnull())&(product_master.manufacturer_name.isnull())&(product_master.supplier_part_number.isnull())&(product_master.supplier_name.notnull())]\n",
    "count_list.append(len(count_product_desc_supplier_name))\n",
    "\n",
    "count_manufacturer_part_number_manufacturer_name=product_master[(product_master.product_desc.isnull())&(product_master.manufacturer_part_number.notnull())&(product_master.manufacturer_name.notnull())&(product_master.supplier_part_number.isnull())&(product_master.supplier_name.isnull())]\n",
    "count_list.append(len(count_manufacturer_part_number_manufacturer_name))\n",
    "\n",
    "count_manufacturer_part_number_supplier_part_number=product_master[(product_master.product_desc.isnull())&(product_master.manufacturer_part_number.notnull())&(product_master.manufacturer_name.isnull())&(product_master.supplier_part_number.notnull())&(product_master.supplier_name.isnull())]\n",
    "count_list.append(len(count_manufacturer_part_number_supplier_part_number))\n",
    "\n",
    "count_manufacturer_part_number_supplier_name=product_master[(product_master.product_desc.isnull())&(product_master.manufacturer_part_number.notnull())&(product_master.manufacturer_name.isnull())&(product_master.supplier_part_number.isnull())&(product_master.supplier_name.notnull())]\n",
    "count_list.append(len(count_manufacturer_part_number_supplier_name))\n",
    "\n",
    "count_manufacturer_name_supplier_part_number=product_master[(product_master.product_desc.isnull())&(product_master.manufacturer_part_number.isnull())&(product_master.manufacturer_name.notnull())&(product_master.supplier_part_number.notnull())&(product_master.supplier_name.isnull())]\n",
    "count_list.append(len(count_manufacturer_name_supplier_part_number))\n",
    "\n",
    "count_manufacturer_name_supplier_name=product_master[(product_master.product_desc.isnull())&(product_master.manufacturer_part_number.isnull())&(product_master.manufacturer_name.notnull())&(product_master.supplier_part_number.isnull())&(product_master.supplier_name.notnull())]\n",
    "count_list.append(len(count_manufacturer_name_supplier_name))\n",
    "\n",
    "count_supplier_part_number_supplier_name=product_master[(product_master.product_desc.isnull())&(product_master.manufacturer_part_number.isnull())&(product_master.manufacturer_name.isnull())&(product_master.supplier_part_number.notnull())&(product_master.supplier_name.notnull())]\n",
    "count_list.append(len(count_supplier_part_number_supplier_name))\n",
    "\n",
    "count_product_desc_manufacturer_part_number_manufacturer_name=product_master[(product_master.product_desc.notnull())&(product_master.manufacturer_part_number.notnull())&(product_master.manufacturer_name.notnull())&(product_master.supplier_part_number.isnull())&(product_master.supplier_name.isnull())]\n",
    "count_list.append(len(count_product_desc_manufacturer_part_number_manufacturer_name))\n",
    "\n",
    "count_product_desc_manufacturer_part_number_supplier_part_number=product_master[(product_master.product_desc.notnull())&(product_master.manufacturer_part_number.notnull())&(product_master.manufacturer_name.isnull())&(product_master.supplier_part_number.notnull())&(product_master.supplier_name.isnull())]\n",
    "count_list.append(len(count_product_desc_manufacturer_part_number_supplier_part_number))\n",
    "\n",
    "count_product_desc_manufacturer_part_number_supplier_name=product_master[(product_master.product_desc.notnull())&(product_master.manufacturer_part_number.notnull())&(product_master.manufacturer_name.isnull())&(product_master.supplier_part_number.isnull())&(product_master.supplier_name.notnull())]\n",
    "count_list.append(len(count_product_desc_manufacturer_part_number_supplier_name))\n",
    "\n",
    "count_product_desc_manufacturer_name_supplier_part_number=product_master[(product_master.product_desc.notnull())&(product_master.manufacturer_part_number.isnull())&(product_master.manufacturer_name.notnull())&(product_master.supplier_part_number.notnull())&(product_master.supplier_name.isnull())]\n",
    "count_list.append(len(count_product_desc_manufacturer_name_supplier_part_number))\n",
    "\n",
    "count_product_desc_manufacturer_name_supplier_name=product_master[(product_master.product_desc.notnull())&(product_master.manufacturer_part_number.isnull())&(product_master.manufacturer_name.notnull())&(product_master.supplier_part_number.isnull())&(product_master.supplier_name.notnull())]\n",
    "count_list.append(len(count_product_desc_manufacturer_name_supplier_name))\n",
    "\n",
    "count_product_desc_supplier_part_number_supplier_name=product_master[(product_master.product_desc.notnull())&(product_master.manufacturer_part_number.isnull())&(product_master.manufacturer_name.isnull())&(product_master.supplier_part_number.notnull())&(product_master.supplier_name.notnull())]\n",
    "count_list.append(len(count_product_desc_supplier_part_number_supplier_name))\n",
    "\n",
    "count_manufacturer_part_number_manufacturer_name_supplier_part_number=product_master[(product_master.product_desc.isnull())&(product_master.manufacturer_part_number.notnull())&(product_master.manufacturer_name.notnull())&(product_master.supplier_part_number.notnull())&(product_master.supplier_name.isnull())]\n",
    "count_list.append(len(count_manufacturer_part_number_manufacturer_name_supplier_part_number))\n",
    "\n",
    "count_manufacturer_part_number_manufacturer_name_supplier_name=product_master[(product_master.product_desc.isnull())&(product_master.manufacturer_part_number.notnull())&(product_master.manufacturer_name.notnull())&(product_master.supplier_part_number.isnull())&(product_master.supplier_name.notnull())]\n",
    "count_list.append(len(count_manufacturer_part_number_manufacturer_name_supplier_name))\n",
    "\n",
    "count_manufacturer_part_number_supplier_part_number_supplier_name=product_master[(product_master.product_desc.isnull())&(product_master.manufacturer_part_number.notnull())&(product_master.manufacturer_name.isnull())&(product_master.supplier_part_number.notnull())&(product_master.supplier_name.notnull())]\n",
    "count_list.append(len(count_manufacturer_part_number_supplier_part_number_supplier_name))\n",
    "\n",
    "count_manufacturer_name_supplier_part_number_supplier_name=product_master[(product_master.product_desc.isnull())&(product_master.manufacturer_part_number.isnull())&(product_master.manufacturer_name.notnull())&(product_master.supplier_part_number.notnull())&(product_master.supplier_name.notnull())]\n",
    "count_list.append(len(count_manufacturer_name_supplier_part_number_supplier_name))\n",
    "\n",
    "count_product_desc_manufacturer_part_number_manufacturer_name_supplier_part_number=product_master[(product_master.product_desc.notnull())&(product_master.manufacturer_part_number.notnull())&(product_master.manufacturer_name.notnull())&(product_master.supplier_part_number.notnull())&(product_master.supplier_name.isnull())]\n",
    "count_list.append(len(count_product_desc_manufacturer_part_number_manufacturer_name_supplier_part_number))\n",
    "\n",
    "count_product_desc_manufacturer_part_number_manufacturer_name_supplier_name=product_master[(product_master.product_desc.notnull())&(product_master.manufacturer_part_number.notnull())&(product_master.manufacturer_name.notnull())&(product_master.supplier_part_number.isnull())&(product_master.supplier_name.notnull())]\n",
    "count_list.append(len(count_product_desc_manufacturer_part_number_manufacturer_name_supplier_name))\n",
    "\n",
    "count_product_desc_manufacturer_part_number_supplier_part_number_supplier_name=product_master[(product_master.product_desc.notnull())&(product_master.manufacturer_part_number.notnull())&(product_master.manufacturer_name.isnull())&(product_master.supplier_part_number.notnull())&(product_master.supplier_name.notnull())]\n",
    "count_list.append(len(count_product_desc_manufacturer_part_number_supplier_part_number_supplier_name))\n",
    "\n",
    "count_product_desc_manufacturer_name_supplier_part_number_supplier_name=product_master[(product_master.product_desc.notnull())&(product_master.manufacturer_part_number.isnull())&(product_master.manufacturer_name.notnull())&(product_master.supplier_part_number.notnull())&(product_master.supplier_name.notnull())]\n",
    "count_list.append(len(count_product_desc_manufacturer_name_supplier_part_number_supplier_name))\n",
    "\n",
    "count_manufacturer_part_number_manufacturer_name_supplier_part_number_supplier_name=product_master[(product_master.product_desc.isnull())&(product_master.manufacturer_part_number.notnull())&(product_master.manufacturer_name.notnull())&(product_master.supplier_part_number.notnull())&(product_master.supplier_name.notnull())]\n",
    "count_list.append(len(count_manufacturer_part_number_manufacturer_name_supplier_part_number_supplier_name))\n",
    "\n",
    "count_product_desc_manufacturer_part_number_manufacturer_name_supplier_part_number_supplier_name=product_master[(product_master.product_desc.notnull())&(product_master.manufacturer_part_number.notnull())&(product_master.manufacturer_name.notnull())&(product_master.supplier_part_number.notnull())&(product_master.supplier_name.notnull())]\n",
    "count_list.append(len(count_product_desc_manufacturer_part_number_manufacturer_name_supplier_part_number_supplier_name))"
   ]
  },
  {
   "cell_type": "code",
   "execution_count": null,
   "metadata": {},
   "outputs": [],
   "source": []
  },
  {
   "cell_type": "code",
   "execution_count": null,
   "metadata": {},
   "outputs": [],
   "source": [
    "matrix=pd.DataFrame(columns=['Combination','Count of Cases'])\n",
    "for i in range(1,6,1):\n",
    "    comb = list(combinations(['product_desc', 'manufacturer_part_number', 'manufacturer_name','supplier_part_number', 'supplier_name'],i))\n",
    "    for j in range(len(comb)):\n",
    "        matrix=matrix.append({'Combination': comb[j]}, ignore_index=True)\n",
    "        "
   ]
  },
  {
   "cell_type": "code",
   "execution_count": null,
   "metadata": {},
   "outputs": [],
   "source": [
    "for i in range(len(count_list)):\n",
    "    matrix['Count of Cases'][i]=count_list[i]"
   ]
  },
  {
   "cell_type": "code",
   "execution_count": null,
   "metadata": {},
   "outputs": [],
   "source": [
    "matrix"
   ]
  },
  {
   "cell_type": "code",
   "execution_count": null,
   "metadata": {},
   "outputs": [],
   "source": []
  },
  {
   "cell_type": "code",
   "execution_count": null,
   "metadata": {},
   "outputs": [],
   "source": [
    "matrix.to_excel('Case_Analysis_14_PO_files_3.xlsx')"
   ]
  },
  {
   "cell_type": "markdown",
   "metadata": {},
   "source": [
    "#Manufacturer based break-up of cases"
   ]
  },
  {
   "cell_type": "code",
   "execution_count": null,
   "metadata": {},
   "outputs": [],
   "source": [
    "product_master_pd_mpn_mfg_name=prod_master_with_duplicates.groupby(['product_desc', 'manufacturer_part_number','manufacturer_name']).agg(f).reset_index()"
   ]
  },
  {
   "cell_type": "code",
   "execution_count": null,
   "metadata": {},
   "outputs": [],
   "source": [
    "len(product_master_pd_mpn_mfg_name)"
   ]
  },
  {
   "cell_type": "code",
   "execution_count": null,
   "metadata": {},
   "outputs": [],
   "source": []
  },
  {
   "cell_type": "code",
   "execution_count": null,
   "metadata": {},
   "outputs": [],
   "source": [
    "count_list_by_mfg"
   ]
  },
  {
   "cell_type": "code",
   "execution_count": null,
   "metadata": {},
   "outputs": [],
   "source": []
  },
  {
   "cell_type": "code",
   "execution_count": null,
   "metadata": {},
   "outputs": [],
   "source": []
  },
  {
   "cell_type": "code",
   "execution_count": null,
   "metadata": {},
   "outputs": [],
   "source": [
    "product_master_pd_mpn_mfg_name.replace(to_replace='',value=np.nan,inplace=True)"
   ]
  },
  {
   "cell_type": "code",
   "execution_count": null,
   "metadata": {},
   "outputs": [],
   "source": [
    "product_master_pd_mpn_mfg_name.replace(to_replace='NAN',value=np.nan,inplace=True)"
   ]
  },
  {
   "cell_type": "code",
   "execution_count": null,
   "metadata": {},
   "outputs": [],
   "source": []
  },
  {
   "cell_type": "code",
   "execution_count": null,
   "metadata": {},
   "outputs": [],
   "source": [
    "len(product_master_pd_mpn_mfg_name)"
   ]
  },
  {
   "cell_type": "code",
   "execution_count": null,
   "metadata": {},
   "outputs": [],
   "source": [
    "product_master_pd_mpn_mfg_name.to_csv('without_duplicate_by_mfg.csv')"
   ]
  },
  {
   "cell_type": "code",
   "execution_count": null,
   "metadata": {},
   "outputs": [],
   "source": [
    "count_list_by_mfg=[]"
   ]
  },
  {
   "cell_type": "code",
   "execution_count": null,
   "metadata": {},
   "outputs": [],
   "source": [
    "cnt_pd=product_master_pd_mpn_mfg_name[(product_master_pd_mpn_mfg_name.product_desc.notnull())&(product_master_pd_mpn_mfg_name.manufacturer_name.isnull())&(product_master_pd_mpn_mfg_name.manufacturer_part_number.isnull())]\n",
    "count_list_by_mfg.append(len(cnt_pd))"
   ]
  },
  {
   "cell_type": "code",
   "execution_count": null,
   "metadata": {},
   "outputs": [],
   "source": [
    "cnt_mfg_name=product_master_pd_mpn_mfg_name[(product_master_pd_mpn_mfg_name.product_desc.isnull())&(product_master_pd_mpn_mfg_name.manufacturer_name.notnull())&(product_master_pd_mpn_mfg_name.manufacturer_part_number.isnull())]\n",
    "count_list_by_mfg.append(len(cnt_mfg_name))\n",
    "\n",
    "cnt_mpn=product_master_pd_mpn_mfg_name[(product_master_pd_mpn_mfg_name.product_desc.isnull())&(product_master_pd_mpn_mfg_name.manufacturer_name.isnull())&(product_master_pd_mpn_mfg_name.manufacturer_part_number.notnull())]\n",
    "count_list_by_mfg.append(len(cnt_mpn))\n",
    "\n",
    "cnt_pd_mfg_name=product_master_pd_mpn_mfg_name[(product_master_pd_mpn_mfg_name.product_desc.notnull())&(product_master_pd_mpn_mfg_name.manufacturer_name.notnull())&(product_master_pd_mpn_mfg_name.manufacturer_part_number.isnull())]\n",
    "count_list_by_mfg.append(len(cnt_pd_mfg_name))\n",
    "\n",
    "cnt_pd_mpn=product_master_pd_mpn_mfg_name[(product_master_pd_mpn_mfg_name.product_desc.notnull())&(product_master_pd_mpn_mfg_name.manufacturer_name.isnull())&(product_master_pd_mpn_mfg_name.manufacturer_part_number.notnull())]\n",
    "count_list_by_mfg.append(len(cnt_pd_mpn))\n",
    "\n",
    "cnt_mfg_name_mpn=product_master_pd_mpn_mfg_name[(product_master_pd_mpn_mfg_name.product_desc.isnull())&(product_master_pd_mpn_mfg_name.manufacturer_name.notnull())&(product_master_pd_mpn_mfg_name.manufacturer_part_number.notnull())]\n",
    "count_list_by_mfg.append(len(cnt_mfg_name_mpn))\n",
    "\n",
    "cnt_pd_mfg_name_mpn=product_master_pd_mpn_mfg_name[(product_master_pd_mpn_mfg_name.product_desc.notnull())&(product_master_pd_mpn_mfg_name.manufacturer_name.notnull())&(product_master_pd_mpn_mfg_name.manufacturer_part_number.notnull())]\n",
    "count_list_by_mfg.append(len(cnt_pd_mfg_name_mpn))\n",
    "\n",
    "cnt_none_of_the_three=product_master_pd_mpn_mfg_name[(product_master_pd_mpn_mfg_name.product_desc.isnull())&(product_master_pd_mpn_mfg_name.manufacturer_name.isnull())&(product_master_pd_mpn_mfg_name.manufacturer_part_number.isnull())]\n",
    "count_list_by_mfg.append(len(cnt_none_of_the_three))"
   ]
  },
  {
   "cell_type": "code",
   "execution_count": null,
   "metadata": {},
   "outputs": [],
   "source": [
    "matrix_by_mfg=pd.DataFrame(columns=['Combination','Count of Cases'])\n",
    "for i in range(1,4,1):\n",
    "    comb = list(combinations(['product_desc', 'manufacturer_name', 'manufacturer_part_number'],i))\n",
    "    for j in range(len(comb)):\n",
    "        matrix_by_mfg=matrix_by_mfg.append({'Combination': comb[j]}, ignore_index=True)"
   ]
  },
  {
   "cell_type": "code",
   "execution_count": null,
   "metadata": {},
   "outputs": [],
   "source": [
    "for i in range(len(count_list_by_mfg)):\n",
    "    matrix_by_mfg['Count of Cases'][i]=count_list_by_mfg[i]"
   ]
  },
  {
   "cell_type": "code",
   "execution_count": null,
   "metadata": {},
   "outputs": [],
   "source": [
    "matrix_by_mfg['Count of Cases'].sum()"
   ]
  },
  {
   "cell_type": "code",
   "execution_count": null,
   "metadata": {},
   "outputs": [],
   "source": []
  },
  {
   "cell_type": "code",
   "execution_count": null,
   "metadata": {},
   "outputs": [],
   "source": [
    "matrix_by_mfg.to_csv('case_analysis_by_mfg_2.csv')"
   ]
  },
  {
   "cell_type": "markdown",
   "metadata": {},
   "source": [
    "# Now after dropping the duplicates from the product master and getting the case analysis\n",
    "# We will index each row from all the PO file into Elastic search"
   ]
  },
  {
   "cell_type": "code",
   "execution_count": 62,
   "metadata": {},
   "outputs": [],
   "source": [
    "os.chdir(\"C:/Users/Ganesh P Umarani/Desktop/Optum/Optum_Raw_Initial_Conversion/PO Files/PO files with primary key\")"
   ]
  },
  {
   "cell_type": "code",
   "execution_count": 39,
   "metadata": {},
   "outputs": [
    {
     "data": {
      "text/plain": [
       "['Copy of UHG_EXP_REPORT_W _DELIVERY_INFO_114511_155343_Primary_Key_assigned.csv',\n",
       " 'COUPA_PO_line_list-cube - Feb 2019-May 2019_Primary_Key_assigned.csv',\n",
       " 'FHSC Purchase History_5mo_Jan 2019-May 2019_Primary_Key_assigned.csv',\n",
       " 'Optum Request 1 (POs) (1)_Primary_Key_assigned.csv',\n",
       " 'OptumCare-PO Data Jan18_May19_Primary_Key_assigned.csv',\n",
       " 'PO Data_DMG Markets_1-1-18 to 6-30-19_Updated GPO+Non GPO_Primary_Key_assigned.csv',\n",
       " 'Reliant_PO_06012019_06302019_June19_Primary_Key_assigned.csv',\n",
       " 'Reliant_PO_07012019_07312019_V1_Primary_Key_assigned.csv',\n",
       " 'SCA_Purchase_Pull_CSV_Primary_Key_assigned.csv',\n",
       " 'TEC_PO_01012018_07312019_Primary_Key_assigned.csv',\n",
       " 'TPC Purchase History_5mo_Jan 2019-June 2019_Primary_Key_assigned.csv',\n",
       " 'TPC_PO_01012018_12312018_v1_Primary_Key_assigned.csv',\n",
       " 'USMD File Files-Cube Request PO_Tied_To_Vendor_Bill_Line Item  Jan-2019 -v2_Primary_Key_assigned.csv',\n",
       " 'XXFHS_Reliant_Optum_Core_PO_Da_Jan18_Dec18_Primary_Key_assigned.csv']"
      ]
     },
     "execution_count": 39,
     "metadata": {},
     "output_type": "execute_result"
    }
   ],
   "source": [
    "glob.glob(\"*.*\")"
   ]
  },
  {
   "cell_type": "code",
   "execution_count": 63,
   "metadata": {},
   "outputs": [],
   "source": [
    "po_file=pd.read_csv('SCA_Purchase_Pull_CSV_Primary_Key_assigned.csv')"
   ]
  },
  {
   "cell_type": "code",
   "execution_count": 64,
   "metadata": {},
   "outputs": [
    {
     "data": {
      "text/plain": [
       "65499"
      ]
     },
     "execution_count": 64,
     "metadata": {},
     "output_type": "execute_result"
    }
   ],
   "source": [
    "len(po_file)"
   ]
  },
  {
   "cell_type": "code",
   "execution_count": 69,
   "metadata": {},
   "outputs": [
    {
     "data": {
      "text/plain": [
       "Index(['Primary_Key', 'ID', 'Category', 'FACILITY', '6DIGIT', 'PO Number',\n",
       "       'Invoice number', 'DISTRIBUTOR', 'Manufacturer', 'FINALNAME',\n",
       "       'DISTRIBUTOR PRODUCT NUMBER', 'ALPHASUPPARTNUM',\n",
       "       'Manufacturer Part Number', 'ALPHAMANPARTNUM', 'FINALPARTNUM',\n",
       "       'Product Description', 'QOE', 'Quantity', 'Primary UOM',\n",
       "       'Unit Price after Discount', ' Final_Cost ', 'GLACCT', 'PO DATE',\n",
       "       'ORDERTYPE', 'AHFS_NUMBER', 'AHFS_DESCRIPTION', 'NDC', 'ITEMID',\n",
       "       'CLEANITEMID', 'CLEANCATMASTERID', 'CLEANDATE', 'BUYRIGHTNAME',\n",
       "       'BUYRIGHTSTATUS', 'SEQ', 'RECEIVEDDATE'],\n",
       "      dtype='object')"
      ]
     },
     "execution_count": 69,
     "metadata": {},
     "output_type": "execute_result"
    }
   ],
   "source": [
    "po_file.columns"
   ]
  },
  {
   "cell_type": "code",
   "execution_count": 66,
   "metadata": {},
   "outputs": [],
   "source": [
    "po_file.drop(labels='Unnamed: 0',axis=1,inplace=True)"
   ]
  },
  {
   "cell_type": "code",
   "execution_count": 68,
   "metadata": {},
   "outputs": [],
   "source": [
    "po_file.rename({'PO#':'PO Number','INVOICENUM':'Invoice number','SUPPLIERDESC':'DISTRIBUTOR','MANUFDESC':'Manufacturer',\n",
    "                'SUPPARTNUM':'DISTRIBUTOR PRODUCT NUMBER','MANPARTNUM':'Manufacturer Part Number',\n",
    "               'PARTDESC':'Product Description', 'PACKQTY':'QOE', 'QTY':'Quantity', 'UOM':'Primary UOM',\n",
    "               'QUOTEDPRICE':'Unit Price after Discount', 'TOTAL':' Final_Cost '},axis=1,inplace=True)"
   ]
  },
  {
   "cell_type": "code",
   "execution_count": 70,
   "metadata": {},
   "outputs": [
    {
     "data": {
      "text/html": [
       "<div>\n",
       "<style scoped>\n",
       "    .dataframe tbody tr th:only-of-type {\n",
       "        vertical-align: middle;\n",
       "    }\n",
       "\n",
       "    .dataframe tbody tr th {\n",
       "        vertical-align: top;\n",
       "    }\n",
       "\n",
       "    .dataframe thead th {\n",
       "        text-align: right;\n",
       "    }\n",
       "</style>\n",
       "<table border=\"1\" class=\"dataframe\">\n",
       "  <thead>\n",
       "    <tr style=\"text-align: right;\">\n",
       "      <th></th>\n",
       "      <th>Primary_Key</th>\n",
       "      <th>ID</th>\n",
       "      <th>Category</th>\n",
       "      <th>FACILITY</th>\n",
       "      <th>6DIGIT</th>\n",
       "      <th>PO Number</th>\n",
       "      <th>Invoice number</th>\n",
       "      <th>DISTRIBUTOR</th>\n",
       "      <th>Manufacturer</th>\n",
       "      <th>FINALNAME</th>\n",
       "      <th>...</th>\n",
       "      <th>AHFS_DESCRIPTION</th>\n",
       "      <th>NDC</th>\n",
       "      <th>ITEMID</th>\n",
       "      <th>CLEANITEMID</th>\n",
       "      <th>CLEANCATMASTERID</th>\n",
       "      <th>CLEANDATE</th>\n",
       "      <th>BUYRIGHTNAME</th>\n",
       "      <th>BUYRIGHTSTATUS</th>\n",
       "      <th>SEQ</th>\n",
       "      <th>RECEIVEDDATE</th>\n",
       "    </tr>\n",
       "  </thead>\n",
       "  <tbody>\n",
       "    <tr>\n",
       "      <th>0</th>\n",
       "      <td>SCA_SC1-1</td>\n",
       "      <td>31862697</td>\n",
       "      <td>42132205.0</td>\n",
       "      <td>50173</td>\n",
       "      <td>50173</td>\n",
       "      <td>H2020546</td>\n",
       "      <td>1871593185</td>\n",
       "      <td>MEDLINE</td>\n",
       "      <td>MEDLINE</td>\n",
       "      <td>MEDLINE</td>\n",
       "      <td>...</td>\n",
       "      <td>NAN</td>\n",
       "      <td>NAN</td>\n",
       "      <td>1527763</td>\n",
       "      <td>NAN</td>\n",
       "      <td>NAN</td>\n",
       "      <td>NAN</td>\n",
       "      <td>SURGICAL GLOVES</td>\n",
       "      <td>Y</td>\n",
       "      <td>29</td>\n",
       "      <td>2019-03-06 00:25:05.000;;;;;;</td>\n",
       "    </tr>\n",
       "    <tr>\n",
       "      <th>1</th>\n",
       "      <td>SCA_SC1-2</td>\n",
       "      <td>31862947</td>\n",
       "      <td>42311512.0</td>\n",
       "      <td>50441</td>\n",
       "      <td>50441</td>\n",
       "      <td>H2020704</td>\n",
       "      <td>1871590718</td>\n",
       "      <td>MEDLINE</td>\n",
       "      <td>MEDLINE</td>\n",
       "      <td>MEDLINE</td>\n",
       "      <td>...</td>\n",
       "      <td>NAN</td>\n",
       "      <td>NAN</td>\n",
       "      <td>1580765</td>\n",
       "      <td>NAN</td>\n",
       "      <td>NAN</td>\n",
       "      <td>NAN</td>\n",
       "      <td>NAN</td>\n",
       "      <td>Y</td>\n",
       "      <td>7</td>\n",
       "      <td>2019-03-06 00:20:05.000;;;;;;;</td>\n",
       "    </tr>\n",
       "    <tr>\n",
       "      <th>2</th>\n",
       "      <td>SCA_SC1-3</td>\n",
       "      <td>31863029</td>\n",
       "      <td>42131606.0</td>\n",
       "      <td>50104</td>\n",
       "      <td>50104</td>\n",
       "      <td>H2020611</td>\n",
       "      <td>1871627581</td>\n",
       "      <td>MEDLINE</td>\n",
       "      <td>MEDLINE</td>\n",
       "      <td>MEDLINE</td>\n",
       "      <td>...</td>\n",
       "      <td>NAN</td>\n",
       "      <td>NAN</td>\n",
       "      <td>197157</td>\n",
       "      <td>NAN</td>\n",
       "      <td>NAN</td>\n",
       "      <td>NAN</td>\n",
       "      <td>SURGICAL MASKS</td>\n",
       "      <td>Y</td>\n",
       "      <td>19</td>\n",
       "      <td>2019-03-06 01:05:06.000;;;;;;;</td>\n",
       "    </tr>\n",
       "    <tr>\n",
       "      <th>3</th>\n",
       "      <td>SCA_SC1-4</td>\n",
       "      <td>31863301</td>\n",
       "      <td>42312201.0</td>\n",
       "      <td>50373</td>\n",
       "      <td>50373</td>\n",
       "      <td>H2020667</td>\n",
       "      <td>A1947380</td>\n",
       "      <td>SUTURE EXPRESS</td>\n",
       "      <td>ETHICON</td>\n",
       "      <td>ETHICON</td>\n",
       "      <td>...</td>\n",
       "      <td>NAN</td>\n",
       "      <td>NAN</td>\n",
       "      <td>70108</td>\n",
       "      <td>NAN</td>\n",
       "      <td>NAN</td>\n",
       "      <td>NAN</td>\n",
       "      <td>SURGICAL SUTURES</td>\n",
       "      <td>Y</td>\n",
       "      <td>15</td>\n",
       "      <td>2019-03-05 08:10:06.000;;;;;;</td>\n",
       "    </tr>\n",
       "    <tr>\n",
       "      <th>4</th>\n",
       "      <td>SCA_SC1-5</td>\n",
       "      <td>31863405</td>\n",
       "      <td>42131702.0</td>\n",
       "      <td>50373</td>\n",
       "      <td>50373</td>\n",
       "      <td>H2020663</td>\n",
       "      <td>1871639316</td>\n",
       "      <td>MEDLINE</td>\n",
       "      <td>MEDLINE</td>\n",
       "      <td>MEDLINE</td>\n",
       "      <td>...</td>\n",
       "      <td>NAN</td>\n",
       "      <td>NAN</td>\n",
       "      <td>241243</td>\n",
       "      <td>NAN</td>\n",
       "      <td>NAN</td>\n",
       "      <td>NAN</td>\n",
       "      <td>DRAPES &amp; GOWNS</td>\n",
       "      <td>Y</td>\n",
       "      <td>27</td>\n",
       "      <td>2019-03-06 01:20:06.000;;;;;;;;</td>\n",
       "    </tr>\n",
       "  </tbody>\n",
       "</table>\n",
       "<p>5 rows × 35 columns</p>\n",
       "</div>"
      ],
      "text/plain": [
       "  Primary_Key        ID    Category  FACILITY  6DIGIT PO Number  \\\n",
       "0   SCA_SC1-1  31862697  42132205.0     50173   50173  H2020546   \n",
       "1   SCA_SC1-2  31862947  42311512.0     50441   50441  H2020704   \n",
       "2   SCA_SC1-3  31863029  42131606.0     50104   50104  H2020611   \n",
       "3   SCA_SC1-4  31863301  42312201.0     50373   50373  H2020667   \n",
       "4   SCA_SC1-5  31863405  42131702.0     50373   50373  H2020663   \n",
       "\n",
       "  Invoice number     DISTRIBUTOR Manufacturer FINALNAME  ... AHFS_DESCRIPTION  \\\n",
       "0     1871593185         MEDLINE      MEDLINE   MEDLINE  ...              NAN   \n",
       "1     1871590718         MEDLINE      MEDLINE   MEDLINE  ...              NAN   \n",
       "2     1871627581         MEDLINE      MEDLINE   MEDLINE  ...              NAN   \n",
       "3       A1947380  SUTURE EXPRESS      ETHICON   ETHICON  ...              NAN   \n",
       "4     1871639316         MEDLINE      MEDLINE   MEDLINE  ...              NAN   \n",
       "\n",
       "   NDC   ITEMID CLEANITEMID CLEANCATMASTERID CLEANDATE      BUYRIGHTNAME  \\\n",
       "0  NAN  1527763         NAN              NAN       NAN   SURGICAL GLOVES   \n",
       "1  NAN  1580765         NAN              NAN       NAN               NAN   \n",
       "2  NAN   197157         NAN              NAN       NAN    SURGICAL MASKS   \n",
       "3  NAN    70108         NAN              NAN       NAN  SURGICAL SUTURES   \n",
       "4  NAN   241243         NAN              NAN       NAN    DRAPES & GOWNS   \n",
       "\n",
       "   BUYRIGHTSTATUS SEQ                     RECEIVEDDATE  \n",
       "0               Y  29    2019-03-06 00:25:05.000;;;;;;  \n",
       "1               Y   7   2019-03-06 00:20:05.000;;;;;;;  \n",
       "2               Y  19   2019-03-06 01:05:06.000;;;;;;;  \n",
       "3               Y  15    2019-03-05 08:10:06.000;;;;;;  \n",
       "4               Y  27  2019-03-06 01:20:06.000;;;;;;;;  \n",
       "\n",
       "[5 rows x 35 columns]"
      ]
     },
     "execution_count": 70,
     "metadata": {},
     "output_type": "execute_result"
    }
   ],
   "source": [
    "po_file.head()"
   ]
  },
  {
   "cell_type": "code",
   "execution_count": 71,
   "metadata": {},
   "outputs": [],
   "source": [
    "os.chdir(\"C:/Users/Ganesh P Umarani/Desktop/Optum/Optum_Raw_Initial_Conversion/PO Files/PO Files used in ES\")"
   ]
  },
  {
   "cell_type": "code",
   "execution_count": 72,
   "metadata": {},
   "outputs": [],
   "source": [
    "#Export this file to above folder for future use/reference\n",
    "po_file.to_csv('SCA_Purchase_Pull_CSV_Primary_Key_assigned_ES.csv')"
   ]
  },
  {
   "cell_type": "code",
   "execution_count": null,
   "metadata": {},
   "outputs": [],
   "source": []
  },
  {
   "cell_type": "code",
   "execution_count": null,
   "metadata": {},
   "outputs": [],
   "source": []
  },
  {
   "cell_type": "code",
   "execution_count": null,
   "metadata": {},
   "outputs": [],
   "source": []
  },
  {
   "cell_type": "code",
   "execution_count": null,
   "metadata": {},
   "outputs": [],
   "source": []
  },
  {
   "cell_type": "code",
   "execution_count": 73,
   "metadata": {},
   "outputs": [],
   "source": [
    "# 1) get each PO file with standardized column headers\n",
    "# 2) conver data type of each column to String\n",
    "# 3) Index it into ES"
   ]
  },
  {
   "cell_type": "code",
   "execution_count": 111,
   "metadata": {},
   "outputs": [],
   "source": [
    "os.chdir(\"C:/Users/Ganesh P Umarani/Desktop/Optum/Optum_Raw_Initial_Conversion/PO Files/PO Files used in ES\")"
   ]
  },
  {
   "cell_type": "code",
   "execution_count": 112,
   "metadata": {},
   "outputs": [],
   "source": [
    "files_for_ES= glob.glob(\"*.*\")"
   ]
  },
  {
   "cell_type": "code",
   "execution_count": 298,
   "metadata": {},
   "outputs": [
    {
     "ename": "IndexError",
     "evalue": "list index out of range",
     "output_type": "error",
     "traceback": [
      "\u001b[1;31m---------------------------------------------------------------------------\u001b[0m",
      "\u001b[1;31mIndexError\u001b[0m                                Traceback (most recent call last)",
      "\u001b[1;32m<ipython-input-298-2a253f758e31>\u001b[0m in \u001b[0;36m<module>\u001b[1;34m\u001b[0m\n\u001b[1;32m----> 1\u001b[1;33m \u001b[0mfile\u001b[0m\u001b[1;33m=\u001b[0m\u001b[0mfiles_for_ES\u001b[0m\u001b[1;33m[\u001b[0m\u001b[1;36m14\u001b[0m\u001b[1;33m]\u001b[0m\u001b[1;33m\u001b[0m\u001b[1;33m\u001b[0m\u001b[0m\n\u001b[0m",
      "\u001b[1;31mIndexError\u001b[0m: list index out of range"
     ]
    }
   ],
   "source": [
    "file=files_for_ES[14]"
   ]
  },
  {
   "cell_type": "code",
   "execution_count": 287,
   "metadata": {},
   "outputs": [
    {
     "data": {
      "text/plain": [
       "'XXFHS_Reliant_Optum_Core_PO_Da_Jan18_Dec18_Primary_Key_assigned_ES.csv'"
      ]
     },
     "execution_count": 287,
     "metadata": {},
     "output_type": "execute_result"
    }
   ],
   "source": [
    "file"
   ]
  },
  {
   "cell_type": "code",
   "execution_count": 288,
   "metadata": {},
   "outputs": [],
   "source": [
    "data=pd.read_csv(file)\n",
    "col_names=data.columns.tolist()\n",
    "for col_name in col_names:\n",
    "    data[col_name]=data[col_name].astype(str)\n",
    "    data[col_name]=data[col_name].str.strip()\n",
    "    data[col_name]=data[col_name].str.rstrip(',')\n",
    "    #data[col_name]=data[col_name].str.replace(',','')\n",
    "    data[col_name]=data[col_name].apply(lambda x: rm_consec_space(x))\n",
    "    #data[col_name]=data[col_name].map(lambda x: re.sub(r'\\W+','',x))\n",
    "    data[col_name]=data[col_name].str.upper()\n",
    "    "
   ]
  },
  {
   "cell_type": "code",
   "execution_count": 289,
   "metadata": {},
   "outputs": [
    {
     "data": {
      "text/plain": [
       "Index(['Unnamed: 0', 'Primary_Key', 'ID', 'PO Number', 'PO Line Item Number',\n",
       "       'DISTRIBUTOR', 'Manufacturer', 'DISTRIBUTOR PRODUCT NUMBER',\n",
       "       'Manufacturer Part Number', 'Item ID', 'CONTRACT NUMBER',\n",
       "       'Contract Type', 'Product Description', 'UNSPSC_Segment_Code',\n",
       "       '11 Digit NDC Code', 'Primary UOM', 'Primary UOM Qty', 'Quantity',\n",
       "       'Unit Price before Discount', 'Final_Cost', 'Facility', 'Facility Name',\n",
       "       'Facility Address', 'Dept ID', 'HOSPITAL DEPARTMENTS', 'PO Date',\n",
       "       'Order Type'],\n",
       "      dtype='object')"
      ]
     },
     "execution_count": 289,
     "metadata": {},
     "output_type": "execute_result"
    }
   ],
   "source": [
    "data.columns"
   ]
  },
  {
   "cell_type": "code",
   "execution_count": 290,
   "metadata": {},
   "outputs": [],
   "source": [
    "data.drop(labels=['Unnamed: 0'],axis=1,inplace=True)"
   ]
  },
  {
   "cell_type": "code",
   "execution_count": 291,
   "metadata": {},
   "outputs": [
    {
     "data": {
      "text/plain": [
       "'Unnamed: 0'"
      ]
     },
     "execution_count": 291,
     "metadata": {},
     "output_type": "execute_result"
    }
   ],
   "source": [
    "col_names.pop(0)"
   ]
  },
  {
   "cell_type": "code",
   "execution_count": 292,
   "metadata": {},
   "outputs": [
    {
     "name": "stdout",
     "output_type": "stream",
     "text": [
      "<class 'str'>\n",
      "<class 'str'>\n",
      "<class 'str'>\n",
      "<class 'str'>\n",
      "<class 'str'>\n",
      "<class 'str'>\n",
      "<class 'str'>\n",
      "<class 'str'>\n",
      "<class 'str'>\n",
      "<class 'str'>\n",
      "<class 'str'>\n",
      "<class 'str'>\n",
      "<class 'str'>\n",
      "<class 'str'>\n",
      "<class 'str'>\n",
      "<class 'str'>\n",
      "<class 'str'>\n",
      "<class 'str'>\n",
      "<class 'str'>\n",
      "<class 'str'>\n",
      "<class 'str'>\n",
      "<class 'str'>\n",
      "<class 'str'>\n",
      "<class 'str'>\n",
      "<class 'str'>\n",
      "<class 'str'>\n"
     ]
    }
   ],
   "source": [
    "for col_name in col_names:\n",
    "    print(type(data[col_name][0]))"
   ]
  },
  {
   "cell_type": "code",
   "execution_count": null,
   "metadata": {},
   "outputs": [],
   "source": []
  },
  {
   "cell_type": "code",
   "execution_count": null,
   "metadata": {},
   "outputs": [],
   "source": []
  },
  {
   "cell_type": "code",
   "execution_count": null,
   "metadata": {},
   "outputs": [],
   "source": []
  },
  {
   "cell_type": "code",
   "execution_count": 1,
   "metadata": {},
   "outputs": [],
   "source": [
    "from elasticsearch import Elasticsearch\n",
    "from elasticsearch.helpers import bulk"
   ]
  },
  {
   "cell_type": "code",
   "execution_count": 2,
   "metadata": {},
   "outputs": [],
   "source": [
    "es = Elasticsearch()"
   ]
  },
  {
   "cell_type": "code",
   "execution_count": 3,
   "metadata": {},
   "outputs": [
    {
     "data": {
      "text/plain": [
       "{'po_file': {'aliases': {}},\n",
       " '.kibana_task_manager': {'aliases': {}},\n",
       " '.kibana_1': {'aliases': {'.kibana': {}}}}"
      ]
     },
     "execution_count": 3,
     "metadata": {},
     "output_type": "execute_result"
    }
   ],
   "source": [
    "es.indices.get_alias(\"*\")"
   ]
  },
  {
   "cell_type": "code",
   "execution_count": 293,
   "metadata": {},
   "outputs": [
    {
     "data": {
      "text/plain": [
       "'1569508709 14:38:29 855838\\n'"
      ]
     },
     "execution_count": 293,
     "metadata": {},
     "output_type": "execute_result"
    }
   ],
   "source": [
    "es.indices.refresh('po_file')\n",
    "es.cat.count('po_file')"
   ]
  },
  {
   "cell_type": "code",
   "execution_count": 294,
   "metadata": {},
   "outputs": [
    {
     "data": {
      "text/plain": [
       "40860"
      ]
     },
     "execution_count": 294,
     "metadata": {},
     "output_type": "execute_result"
    }
   ],
   "source": [
    "len(data)"
   ]
  },
  {
   "cell_type": "code",
   "execution_count": 295,
   "metadata": {},
   "outputs": [
    {
     "data": {
      "text/plain": [
       "(40860, [])"
      ]
     },
     "execution_count": 295,
     "metadata": {},
     "output_type": "execute_result"
    }
   ],
   "source": [
    "documents = data.to_dict(orient='records')\n",
    "bulk(es, documents, index='po_file',doc_type='raw_files', raise_on_error=True)"
   ]
  },
  {
   "cell_type": "code",
   "execution_count": 296,
   "metadata": {},
   "outputs": [],
   "source": [
    "res = es.search(index=\"po_file\",body = {\n",
    "    \"query\": {\n",
    "        \"match_phrase\" : {\n",
    "            \"Primary_Key\" : 'Reliant_SC3-1'\n",
    "        }\n",
    "    }\n",
    "})"
   ]
  },
  {
   "cell_type": "code",
   "execution_count": 297,
   "metadata": {},
   "outputs": [
    {
     "data": {
      "text/plain": [
       "{'took': 7,\n",
       " 'timed_out': False,\n",
       " '_shards': {'total': 1, 'successful': 1, 'skipped': 0, 'failed': 0},\n",
       " 'hits': {'total': {'value': 1, 'relation': 'eq'},\n",
       "  'max_score': 14.120883,\n",
       "  'hits': [{'_index': 'po_file',\n",
       "    '_type': 'raw_files',\n",
       "    '_id': 'C14Cbm0BvoFd6VeWeEB9',\n",
       "    '_score': 14.120883,\n",
       "    '_source': {'Primary_Key': 'RELIANT_SC3-1',\n",
       "     'ID': '380639',\n",
       "     'PO Number': '623899',\n",
       "     'PO Line Item Number': '1',\n",
       "     'DISTRIBUTOR': 'MCKESSON GENERAL MEDICAL CORP',\n",
       "     'Manufacturer': 'MCKESSON GENERAL MEDICAL CORP',\n",
       "     'DISTRIBUTOR PRODUCT NUMBER': 'NAN',\n",
       "     'Manufacturer Part Number': '1232',\n",
       "     'Item ID': '12196',\n",
       "     'CONTRACT NUMBER': 'NAN',\n",
       "     'Contract Type': 'NAN',\n",
       "     'Product Description': '234181 BOWL, 1 QUART STERILE DISPOSABLE',\n",
       "     'UNSPSC_Segment_Code': 'NAN',\n",
       "     '11 Digit NDC Code': 'NAN',\n",
       "     'Primary UOM': 'CASE',\n",
       "     'Primary UOM Qty': '5.0',\n",
       "     'Quantity': '5.0',\n",
       "     'Unit Price before Discount': '36.4',\n",
       "     'Final_Cost': '182.0',\n",
       "     'Facility': '60',\n",
       "     'Facility Name': 'AUBURN-42 SOUTHBRIDGE ST.',\n",
       "     'Facility Address': '42 SOUTHBRIDGE ST., AUBURN, US, 01501',\n",
       "     'Dept ID': '40.999.0000.131031.99.9999',\n",
       "     'HOSPITAL DEPARTMENTS': 'BALANCE SHEET',\n",
       "     'PO Date': '2-JAN-18',\n",
       "     'Order Type': 'STANDARD'}}]}}"
      ]
     },
     "execution_count": 297,
     "metadata": {},
     "output_type": "execute_result"
    }
   ],
   "source": [
    "res"
   ]
  },
  {
   "cell_type": "code",
   "execution_count": null,
   "metadata": {},
   "outputs": [],
   "source": []
  }
 ],
 "metadata": {
  "kernelspec": {
   "display_name": "Python 3",
   "language": "python",
   "name": "python3"
  },
  "language_info": {
   "codemirror_mode": {
    "name": "ipython",
    "version": 3
   },
   "file_extension": ".py",
   "mimetype": "text/x-python",
   "name": "python",
   "nbconvert_exporter": "python",
   "pygments_lexer": "ipython3",
   "version": "3.7.4"
  }
 },
 "nbformat": 4,
 "nbformat_minor": 2
}
