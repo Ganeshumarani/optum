{
 "cells": [
  {
   "cell_type": "code",
   "execution_count": 1,
   "metadata": {},
   "outputs": [],
   "source": [
    "import pandas as pd\n",
    "import numpy as np\n",
    "import glob\n",
    "import os"
   ]
  },
  {
   "cell_type": "code",
   "execution_count": 69,
   "metadata": {},
   "outputs": [],
   "source": [
    "os.chdir(\"C:/Users/Ganesh P Umarani/Desktop/Optum/Distributor/Distributor/Besse Supply\")"
   ]
  },
  {
   "cell_type": "code",
   "execution_count": 70,
   "metadata": {},
   "outputs": [
    {
     "data": {
      "text/plain": [
       "['Besse - OptumCare Data Template.xlsx',\n",
       " 'Besse - OptumCare Data Template_Primary_Key_assigned.csv',\n",
       " 'Master_Besse_Supply_distributor_file.csv',\n",
       " 'OptumCare Data Prior Month August 2019.xlsx',\n",
       " 'OptumCare Data Prior Month August 2019_Primary_Key_assigned.csv',\n",
       " 'OptumCare Data Prior Month July 2019.xlsx',\n",
       " 'OptumCare Data Prior Month July 2019_Primary_Key_assigned.csv']"
      ]
     },
     "execution_count": 70,
     "metadata": {},
     "output_type": "execute_result"
    }
   ],
   "source": [
    "glob.glob(\"*.*\")"
   ]
  },
  {
   "cell_type": "code",
   "execution_count": 32,
   "metadata": {},
   "outputs": [],
   "source": [
    "dfgm=pd.read_excel(\"Distributor Facility Group mapping.xlsx\",sheet_name=3)"
   ]
  },
  {
   "cell_type": "code",
   "execution_count": 41,
   "metadata": {},
   "outputs": [
    {
     "name": "stderr",
     "output_type": "stream",
     "text": [
      "c:\\users\\ganesh p umarani\\appdata\\local\\programs\\python\\python37\\lib\\site-packages\\IPython\\core\\interactiveshell.py:3058: DtypeWarning: Columns (4,19,20,21,28,29,39,46,49,56,58) have mixed types. Specify dtype option on import or set low_memory=False.\n",
      "  interactivity=interactivity, compiler=compiler, result=result)\n"
     ]
    }
   ],
   "source": [
    "medline=pd.read_csv('Master_Medline_distributor_file.csv')"
   ]
  },
  {
   "cell_type": "code",
   "execution_count": 44,
   "metadata": {},
   "outputs": [
    {
     "data": {
      "text/plain": [
       "Index(['Unnamed: 0', 'ADDRESS1', 'ADDRESS2', 'Atomic UOM (oz, dose, ml)',\n",
       "       'BILL', 'CATEGORY UPDATED', 'Category', 'City',\n",
       "       'Commodity (Med Supplies, Vaccines, Pharma, Office Supplies)',\n",
       "       'Contract #', 'Contract Class of Trade', 'Contract Description',\n",
       "       'Contract Number', 'Contract Source', 'Contract Type',\n",
       "       'Contract Valid-To', 'Cost (Contracted)', 'Customer Line Num',\n",
       "       'Customer PO Num', 'Customer Paid Freight Fee Amt', 'Date - Invoice',\n",
       "       'Date- Invoice', 'Distributor', 'Division (High Level)',\n",
       "       'Extended Price', 'Facility Grouping',\n",
       "       'Generic Description (Pharma Only)', 'High Level', 'Internal Item #',\n",
       "       'Internal Item#', 'Invoice Num', 'Invoice Price', 'Invoiced Price',\n",
       "       'Item Description', 'M', 'Manufacturer #', 'Manufacturer Contract #',\n",
       "       'Manufacturer Name', 'NDC/UPC', 'O', 'OWNED BRAND', 'Order Method Desc',\n",
       "       'Previous PRICE', 'Primary_Key', 'Qty', 'Quantity', 'SHIP', 'SHIP NAME',\n",
       "       'START DATE', 'Sales Tax Amt', 'Source', 'State', 'Sub Category',\n",
       "       'Tier', 'Tier 2', 'Time Frame', 'U', 'UHG Preferred', 'UNSPSC', 'Zip'],\n",
       "      dtype='object')"
      ]
     },
     "execution_count": 44,
     "metadata": {},
     "output_type": "execute_result"
    }
   ],
   "source": [
    "medline.columns"
   ]
  },
  {
   "cell_type": "code",
   "execution_count": 45,
   "metadata": {},
   "outputs": [],
   "source": [
    "medline_applecare=medline[medline['Facility Grouping']=='APPLECARE']"
   ]
  },
  {
   "cell_type": "code",
   "execution_count": 47,
   "metadata": {},
   "outputs": [],
   "source": [
    "medline_applecare=medline_applecare[['Facility Grouping','City','Extended Price','State']]"
   ]
  },
  {
   "cell_type": "code",
   "execution_count": 51,
   "metadata": {},
   "outputs": [
    {
     "data": {
      "text/html": [
       "<div>\n",
       "<style scoped>\n",
       "    .dataframe tbody tr th:only-of-type {\n",
       "        vertical-align: middle;\n",
       "    }\n",
       "\n",
       "    .dataframe tbody tr th {\n",
       "        vertical-align: top;\n",
       "    }\n",
       "\n",
       "    .dataframe thead th {\n",
       "        text-align: right;\n",
       "    }\n",
       "</style>\n",
       "<table border=\"1\" class=\"dataframe\">\n",
       "  <thead>\n",
       "    <tr style=\"text-align: right;\">\n",
       "      <th></th>\n",
       "      <th>Facility Grouping</th>\n",
       "      <th>City</th>\n",
       "      <th>Extended Price</th>\n",
       "      <th>State</th>\n",
       "    </tr>\n",
       "  </thead>\n",
       "  <tbody>\n",
       "    <tr>\n",
       "      <th>347536</th>\n",
       "      <td>APPLECARE</td>\n",
       "      <td>LA PALMA</td>\n",
       "      <td>2880.0</td>\n",
       "      <td>CA</td>\n",
       "    </tr>\n",
       "    <tr>\n",
       "      <th>347537</th>\n",
       "      <td>APPLECARE</td>\n",
       "      <td>LA PALMA</td>\n",
       "      <td>2850.0</td>\n",
       "      <td>CA</td>\n",
       "    </tr>\n",
       "    <tr>\n",
       "      <th>347538</th>\n",
       "      <td>APPLECARE</td>\n",
       "      <td>LA PALMA</td>\n",
       "      <td>2850.0</td>\n",
       "      <td>CA</td>\n",
       "    </tr>\n",
       "    <tr>\n",
       "      <th>347539</th>\n",
       "      <td>APPLECARE</td>\n",
       "      <td>LA PALMA</td>\n",
       "      <td>1920.0</td>\n",
       "      <td>CA</td>\n",
       "    </tr>\n",
       "  </tbody>\n",
       "</table>\n",
       "</div>"
      ],
      "text/plain": [
       "       Facility Grouping      City  Extended Price State\n",
       "347536         APPLECARE  LA PALMA          2880.0    CA\n",
       "347537         APPLECARE  LA PALMA          2850.0    CA\n",
       "347538         APPLECARE  LA PALMA          2850.0    CA\n",
       "347539         APPLECARE  LA PALMA          1920.0    CA"
      ]
     },
     "execution_count": 51,
     "metadata": {},
     "output_type": "execute_result"
    }
   ],
   "source": [
    "medline_applecare"
   ]
  },
  {
   "cell_type": "code",
   "execution_count": 54,
   "metadata": {},
   "outputs": [
    {
     "name": "stderr",
     "output_type": "stream",
     "text": [
      "c:\\users\\ganesh p umarani\\appdata\\local\\programs\\python\\python37\\lib\\site-packages\\IPython\\core\\interactiveshell.py:3058: DtypeWarning: Columns (19) have mixed types. Specify dtype option on import or set low_memory=False.\n",
      "  interactivity=interactivity, compiler=compiler, result=result)\n"
     ]
    }
   ],
   "source": [
    "hs=pd.read_csv('Optum Invoice Register 01.01.2018-06.05.2019_Primary_Key_assigned.csv')"
   ]
  },
  {
   "cell_type": "code",
   "execution_count": null,
   "metadata": {},
   "outputs": [],
   "source": []
  },
  {
   "cell_type": "code",
   "execution_count": 58,
   "metadata": {},
   "outputs": [],
   "source": [
    "hs_filtered=hs[hs['BillTo Name'].isin(list_of_fg_hs)]"
   ]
  },
  {
   "cell_type": "code",
   "execution_count": 62,
   "metadata": {},
   "outputs": [
    {
     "data": {
      "text/plain": [
       "Index(['Primary_Key', 'BillTo #', 'BillTo Name', 'ShipTo #', 'ShipTo Name',\n",
       "       'Address', 'City', 'State', 'Zip', 'Order #', 'Order Source',\n",
       "       'Order Source Desc', 'Order Type', 'Order Type Desc', 'Order Date',\n",
       "       'PO Number', 'Invoice #', 'Invoice Date', 'Contract Type', 'Item #',\n",
       "       'Item Desc', 'MELP Category', 'UNSPSC Taxonomy', 'UNSPSC Taxonomy Desc',\n",
       "       'NDC#', 'Mfg Item', 'Brand', 'Brand Desc', 'Drug Class', 'Drug Desc',\n",
       "       'Primary UOM', 'Strength', 'Size', 'Quantity', 'Unit Price',\n",
       "       'Extended Purchase Amount', 'Freight Charge', 'Tax Charge',\n",
       "       'Received Status', 'Approved Status'],\n",
       "      dtype='object')"
      ]
     },
     "execution_count": 62,
     "metadata": {},
     "output_type": "execute_result"
    }
   ],
   "source": [
    "hs_filtered.columns"
   ]
  },
  {
   "cell_type": "code",
   "execution_count": 63,
   "metadata": {},
   "outputs": [],
   "source": [
    "hs_filtered=hs_filtered[['BillTo Name','City','State','Extended Purchase Amount']]"
   ]
  },
  {
   "cell_type": "code",
   "execution_count": 68,
   "metadata": {},
   "outputs": [],
   "source": [
    "pd.DataFrame(hs_filtered.groupby(['BillTo Name','City','State']).sum().to_records()).to_csv(\"HS_filtered_facility_groups.csv\")"
   ]
  },
  {
   "cell_type": "code",
   "execution_count": null,
   "metadata": {},
   "outputs": [],
   "source": []
  },
  {
   "cell_type": "code",
   "execution_count": 71,
   "metadata": {},
   "outputs": [],
   "source": [
    "besse=pd.read_csv(\"Master_Besse_Supply_distributor_file.csv\")"
   ]
  },
  {
   "cell_type": "code",
   "execution_count": null,
   "metadata": {},
   "outputs": [],
   "source": []
  },
  {
   "cell_type": "code",
   "execution_count": 73,
   "metadata": {},
   "outputs": [],
   "source": [
    "besse_filtered=besse[besse['Facility Grouping'].isin(list_of_fg_besse)]"
   ]
  },
  {
   "cell_type": "code",
   "execution_count": 76,
   "metadata": {},
   "outputs": [
    {
     "data": {
      "text/plain": [
       "Index(['Unnamed: 0', 'Primary_Key', 'Tiem Frame', 'Distributor',\n",
       "       'Facility Grouping', 'CDO', 'Internal Item #', 'NDC/UPC',\n",
       "       'Item Description', 'UHG Preferred', 'Generic Description',\n",
       "       'Manufacturer #', 'Manufacturer Name', 'U', 'O', 'M',\n",
       "       'Atomic UOM (oz, dose,ml)', 'Cost (Contracted WAC)', 'Invoiced Price',\n",
       "       'Qty', 'Extended Price', 'Contract Type', 'Contract Source',\n",
       "       'Contract Class of Trade', 'Contract Number', 'Contract Tier',\n",
       "       'Contract Description', 'Contract Valid-To', 'Manufacturer Contract #',\n",
       "       'Commodity (Med Supplies, Vaccines, Pharma, Office Supplies)',\n",
       "       'Division (High Level)', 'Category', 'Sub Category', 'Previous Price',\n",
       "       'Start Date', 'Contract #', 'Tier 2', 'Source', 'Owned Brand',\n",
       "       'Category updated', 'High Level', 'Bill', 'Ship', 'Ship Name', 'Addr1',\n",
       "       'Addr2', 'City1', 'State', 'ZipCd', 'Date - Invoice', 'Customer PO Num',\n",
       "       'Order Method Desc', 'Sales Tax Amt', 'Customer Line Num', 'InvoiceNbr',\n",
       "       'UNSPSC', 'HCPC'],\n",
       "      dtype='object')"
      ]
     },
     "execution_count": 76,
     "metadata": {},
     "output_type": "execute_result"
    }
   ],
   "source": [
    "besse_filtered.columns"
   ]
  },
  {
   "cell_type": "code",
   "execution_count": 77,
   "metadata": {},
   "outputs": [],
   "source": [
    "besse_filtered=besse_filtered[['Facility Grouping','City1', 'State','Extended Price']]"
   ]
  },
  {
   "cell_type": "code",
   "execution_count": 80,
   "metadata": {},
   "outputs": [],
   "source": [
    "pd.DataFrame(besse_filtered.groupby(['Facility Grouping','City1', 'State']).sum().to_records()).to_csv(\"Besse_filtered_facility_groups.csv\")"
   ]
  },
  {
   "cell_type": "code",
   "execution_count": null,
   "metadata": {},
   "outputs": [],
   "source": []
  },
  {
   "cell_type": "code",
   "execution_count": 31,
   "metadata": {},
   "outputs": [],
   "source": [
    "list_of_fg_hs=dfgm['Facility Grouping - Henry Schein'].tolist()"
   ]
  },
  {
   "cell_type": "code",
   "execution_count": 37,
   "metadata": {},
   "outputs": [],
   "source": [
    "list_of_fg_besse=dfgm['Facility Grouping - Besse'].tolist()"
   ]
  },
  {
   "cell_type": "code",
   "execution_count": null,
   "metadata": {},
   "outputs": [],
   "source": []
  },
  {
   "cell_type": "code",
   "execution_count": null,
   "metadata": {},
   "outputs": [],
   "source": []
  },
  {
   "cell_type": "code",
   "execution_count": 124,
   "metadata": {},
   "outputs": [],
   "source": [
    "os.chdir(\"C:/Users/Ganesh P Umarani/Desktop/Optum/Ganesh_Merged_Files/Merged files duplicates/Unique item master files\")"
   ]
  },
  {
   "cell_type": "code",
   "execution_count": 82,
   "metadata": {},
   "outputs": [
    {
     "name": "stderr",
     "output_type": "stream",
     "text": [
      "c:\\users\\ganesh p umarani\\appdata\\local\\programs\\python\\python37\\lib\\site-packages\\IPython\\core\\interactiveshell.py:3058: DtypeWarning: Columns (1) have mixed types. Specify dtype option on import or set low_memory=False.\n",
      "  interactivity=interactivity, compiler=compiler, result=result)\n"
     ]
    }
   ],
   "source": [
    "all_files_no_dup=pd.read_csv(\"All_files_merged_no_dup_with_spend_new_2.csv\")"
   ]
  },
  {
   "cell_type": "code",
   "execution_count": 126,
   "metadata": {},
   "outputs": [],
   "source": [
    "cr_bard=all_files_no_dup[all_files_no_dup['Manufacturer_x'].isin(lis_of_mfg)]"
   ]
  },
  {
   "cell_type": "code",
   "execution_count": 86,
   "metadata": {},
   "outputs": [],
   "source": [
    "lis_of_mfg=['CR BARD','C.R. BARD','BARD MEDICAL','CR BARD UROLOGIC',\n",
    "           'BARD ACCESS SYSTEMS','BARD PERIPHERAL','DAVOL - DIV OF BARD',\n",
    "           'C.R. BARD, INC.','C R BARD-DAVOL','BARD ACCESS SYST','BARD PERIPHERAL VASCULAR INC.']"
   ]
  },
  {
   "cell_type": "code",
   "execution_count": 91,
   "metadata": {},
   "outputs": [
    {
     "data": {
      "text/plain": [
       "6106"
      ]
     },
     "execution_count": 91,
     "metadata": {},
     "output_type": "execute_result"
    }
   ],
   "source": [
    "len(bard_data)"
   ]
  },
  {
   "cell_type": "code",
   "execution_count": 98,
   "metadata": {},
   "outputs": [],
   "source": [
    "os.chdir(\"C:/Users/Ganesh P Umarani/Desktop/crawlers_data_as_on_15_july_2019/CR Bard\")"
   ]
  },
  {
   "cell_type": "code",
   "execution_count": 99,
   "metadata": {},
   "outputs": [],
   "source": [
    "bard_data=pd.read_excel(\"Read_Bard_Data (2).xlsx\")"
   ]
  },
  {
   "cell_type": "code",
   "execution_count": 130,
   "metadata": {},
   "outputs": [
    {
     "data": {
      "text/plain": [
       "Index(['Secodary_key', 'supplier_part_number', 'supplier_name',\n",
       "       'manufacturer_name', 'manufacturer_part_number', 'product_desc'],\n",
       "      dtype='object')"
      ]
     },
     "execution_count": 130,
     "metadata": {},
     "output_type": "execute_result"
    }
   ],
   "source": [
    "cr_bard.columns"
   ]
  },
  {
   "cell_type": "code",
   "execution_count": 128,
   "metadata": {},
   "outputs": [
    {
     "name": "stderr",
     "output_type": "stream",
     "text": [
      "c:\\users\\ganesh p umarani\\appdata\\local\\programs\\python\\python37\\lib\\site-packages\\pandas\\core\\frame.py:4097: SettingWithCopyWarning: \n",
      "A value is trying to be set on a copy of a slice from a DataFrame\n",
      "\n",
      "See the caveats in the documentation: http://pandas.pydata.org/pandas-docs/stable/user_guide/indexing.html#returning-a-view-versus-a-copy\n",
      "  errors=errors,\n"
     ]
    }
   ],
   "source": [
    "cr_bard.drop(['Final_cost_x'],axis=1,inplace=True)"
   ]
  },
  {
   "cell_type": "code",
   "execution_count": 129,
   "metadata": {},
   "outputs": [
    {
     "name": "stderr",
     "output_type": "stream",
     "text": [
      "c:\\users\\ganesh p umarani\\appdata\\local\\programs\\python\\python37\\lib\\site-packages\\pandas\\core\\frame.py:4218: SettingWithCopyWarning: \n",
      "A value is trying to be set on a copy of a slice from a DataFrame\n",
      "\n",
      "See the caveats in the documentation: http://pandas.pydata.org/pandas-docs/stable/user_guide/indexing.html#returning-a-view-versus-a-copy\n",
      "  return super().rename(**kwargs)\n"
     ]
    }
   ],
   "source": [
    "cr_bard.rename({'Dist_part_num_x':'supplier_part_number',\n",
    "                'Distributor_x':'supplier_name',\n",
    "                'Manufacturer_x':'manufacturer_name',\n",
    "                'Mfg_part_num_x':'manufacturer_part_number',\n",
    "                'Prod_desc_x':'product_desc'},axis=1,inplace=True)"
   ]
  },
  {
   "cell_type": "code",
   "execution_count": 101,
   "metadata": {},
   "outputs": [],
   "source": [
    "bard_data=bard_data[['Bard_key', 'Product Item ID']]"
   ]
  },
  {
   "cell_type": "code",
   "execution_count": null,
   "metadata": {},
   "outputs": [],
   "source": []
  },
  {
   "cell_type": "code",
   "execution_count": 104,
   "metadata": {},
   "outputs": [],
   "source": [
    "temp=['Secodary_key', 'supplier_part_number', 'supplier_name','manufacturer_name', 'manufacturer_part_number',\n",
    "      'product_desc','Bard_key', 'Product Item ID']\n",
    "output_result=pd.DataFrame(columns=temp)"
   ]
  },
  {
   "cell_type": "code",
   "execution_count": null,
   "metadata": {},
   "outputs": [],
   "source": []
  },
  {
   "cell_type": "code",
   "execution_count": 115,
   "metadata": {},
   "outputs": [
    {
     "data": {
      "text/plain": [
       "Index(['Secodary_key', 'supplier_part_number', 'supplier_name',\n",
       "       'manufacturer_name', 'manufacturer_part_number', 'product_desc',\n",
       "       'Bard_key', 'Product Item ID'],\n",
       "      dtype='object')"
      ]
     },
     "execution_count": 115,
     "metadata": {},
     "output_type": "execute_result"
    }
   ],
   "source": [
    "output_result.columns"
   ]
  },
  {
   "cell_type": "code",
   "execution_count": 133,
   "metadata": {},
   "outputs": [
    {
     "data": {
      "text/plain": [
       "Index(['Secodary_key', 'supplier_part_number', 'supplier_name',\n",
       "       'manufacturer_name', 'manufacturer_part_number', 'product_desc'],\n",
       "      dtype='object')"
      ]
     },
     "execution_count": 133,
     "metadata": {},
     "output_type": "execute_result"
    }
   ],
   "source": [
    "cr_bard.columns"
   ]
  },
  {
   "cell_type": "code",
   "execution_count": 134,
   "metadata": {},
   "outputs": [
    {
     "name": "stdout",
     "output_type": "stream",
     "text": [
      "0102L14\n",
      "0102L16\n",
      "0102L16\n",
      "0166C16S\n",
      "0196L18\n",
      "0196L20\n",
      "0102L14\n",
      "0102L14\n",
      "0102L18\n",
      "112720\n",
      "112750\n",
      "112760\n",
      "112770\n",
      "113215\n",
      "113215\n",
      "113230\n",
      "115320\n",
      "115320\n",
      "115311\n",
      "115311\n"
     ]
    },
    {
     "name": "stderr",
     "output_type": "stream",
     "text": [
      "c:\\users\\ganesh p umarani\\appdata\\local\\programs\\python\\python37\\lib\\site-packages\\ipykernel_launcher.py:14: FutureWarning: The 'get_values' method is deprecated and will be removed in a future version. Use '.to_numpy()' or '.array' instead.\n",
      "  \n",
      "c:\\users\\ganesh p umarani\\appdata\\local\\programs\\python\\python37\\lib\\site-packages\\ipykernel_launcher.py:15: FutureWarning: The 'get_values' method is deprecated and will be removed in a future version. Use '.to_numpy()' or '.array' instead.\n",
      "  from ipykernel import kernelapp as app\n"
     ]
    },
    {
     "name": "stdout",
     "output_type": "stream",
     "text": [
      "115320\n",
      "115321\n",
      "115321\n",
      "115321\n",
      "115321\n",
      "772414\n",
      "772414\n",
      "782100\n",
      "772416\n",
      "35380\n",
      "35820\n",
      "35830\n",
      "38460\n",
      "38460\n",
      "94080\n",
      "94080\n",
      "94100\n",
      "94100\n",
      "94100\n",
      "94120\n",
      "94140\n",
      "94140\n",
      "94140\n",
      "94160\n",
      "94160\n",
      "94160\n",
      "94160\n",
      "35810\n",
      "912010\n",
      "912010\n",
      "912030\n",
      "912030\n",
      "918010\n",
      "918030\n",
      "918050\n",
      "918070\n",
      "918070\n",
      "141910\n",
      "141910\n",
      "141910\n",
      "141910\n",
      "898316\n",
      "898316\n",
      "898316\n",
      "898318\n",
      "898318\n",
      "898318\n",
      "154002\n",
      "123514A\n",
      "123614A\n",
      "123614A\n",
      "123616A\n",
      "123616A\n",
      "123616A\n",
      "123620A\n",
      "123620A\n",
      "123622A\n",
      "123622A\n",
      "123622A\n",
      "123624A\n",
      "123624A\n",
      "150615\n",
      "0165L14\n",
      "0165L16\n",
      "0165L16\n",
      "0165L18\n",
      "0165L20\n",
      "0165L22\n",
      "0165L24\n",
      "150507\n",
      "150615\n",
      "150615\n",
      "897216\n",
      "165812\n",
      "165812\n",
      "150732\n",
      "150332\n",
      "35630\n",
      "35630\n",
      "35640\n",
      "7000A\n",
      "21110\n",
      "21112\n",
      "21116\n",
      "21110\n",
      "21112\n",
      "7000U\n",
      "150103\n",
      "150103\n",
      "7008A\n",
      "35860\n",
      "7018A\n",
      "7018A\n",
      "123400\n",
      "123400\n",
      "76\n",
      "76\n",
      "898314\n",
      "898314\n",
      "LH-0031\n",
      "7000L\n",
      "672034\n",
      "7024A\n",
      "150103\n",
      "150103\n",
      "150102\n",
      "150102\n",
      "10114\n",
      "10116\n",
      "0102L18\n",
      "0168L22\n",
      "0196L16\n",
      "0196L18\n",
      "120614\n",
      "MC1820\n",
      "120616\n",
      "36400\n",
      "36400\n",
      "750301\n",
      "56112\n",
      "56116\n",
      "56116\n",
      "0168L16\n",
      "0168L16\n",
      "72186\n",
      "72188\n",
      "82238\n",
      "165816\n",
      "165816\n",
      "165816\n",
      "165816\n",
      "165816\n",
      "165816\n",
      "165816\n",
      "165818\n",
      "165818\n",
      "165818\n",
      "165818\n",
      "165822\n",
      "4A4194\n",
      "4A4194\n",
      "4A4194\n",
      "0168L18\n",
      "165820\n",
      "165820\n",
      "165820\n",
      "165820\n",
      "165820\n",
      "FOL0102\n",
      "FOL0102\n",
      "165814\n",
      "165814\n",
      "165814\n",
      "1608062\n",
      "1608062\n",
      "56108\n",
      "5950007\n",
      "5950007\n",
      "5950007\n",
      "5950008\n",
      "5950008\n",
      "5950008\n",
      "5950009\n",
      "5950009\n",
      "5950009\n",
      "5950030\n",
      "5954450\n",
      "10114\n",
      "10114\n",
      "10114\n",
      "672034\n",
      "672034\n",
      "4054\n",
      "4054\n",
      "FOL0101\n",
      "710016S\n",
      "2631910\n",
      "2632010\n",
      "4053\n",
      "750307\n",
      "PA-0031YN\n",
      "153504\n",
      "153504\n",
      "9001C0197\n",
      "9001C0197\n",
      "4052\n",
      "4052\n",
      "VPPCSP\n",
      "21100\n",
      "VEDCAML6\n",
      "35630\n",
      "VPPCSP\n",
      "123400\n",
      "3640\n",
      "3640\n",
      "36410\n",
      "36410\n",
      "LH-0031\n",
      "LH-0031\n",
      "LH-0031\n",
      "LH-0032\n",
      "LH-0032\n",
      "LH-0032\n",
      "LH-0037\n",
      "LH-0037\n",
      "LH-0037\n",
      "LH-0040\n",
      "LH-0040\n",
      "MC1820\n",
      "MC1820\n",
      "MN1820\n",
      "MN1820\n",
      "LH-0031\n",
      "LH-0031\n",
      "S02020-75\n",
      "S02020-75\n"
     ]
    }
   ],
   "source": [
    "for index,row in cr_bard.iterrows():\n",
    "    if (row.supplier_part_number not in [np.nan]):\n",
    "        spn_to_search=str(row['manufacturer_part_number'])\n",
    "        print(spn_to_search)\n",
    "        output=bard_data[bard_data['Product Item ID'].str.contains(spn_to_search)]\n",
    "        if (len(output)!=0):\n",
    "            output=output[:1]\n",
    "            output_result=output_result.append({'product_desc':row['product_desc'],\n",
    "                                           'manufacturer_part_number':row['manufacturer_part_number'],\n",
    "                                           'manufacturer_name':row['manufacturer_name'],\n",
    "                                           'supplier_part_number':row['supplier_part_number'],\n",
    "                                           'supplier_name':row['supplier_name'],\n",
    "                                           'Secodary_key':row['Secodary_key'],\n",
    "                                           'Bard_key':output['Bard_key'].get_values()[0],\n",
    "                                           'Product Item ID':output['Product Item ID'].get_values()[0]},ignore_index=True)"
   ]
  },
  {
   "cell_type": "code",
   "execution_count": 136,
   "metadata": {},
   "outputs": [],
   "source": [
    "output_result.to_csv(\"Bard_mapped_2.csv\")"
   ]
  },
  {
   "cell_type": "code",
   "execution_count": 132,
   "metadata": {},
   "outputs": [],
   "source": [
    "cr_bard.to_csv(\"CR_Bard_only_1.csv\")"
   ]
  },
  {
   "cell_type": "code",
   "execution_count": 135,
   "metadata": {},
   "outputs": [
    {
     "data": {
      "text/plain": [
       "245"
      ]
     },
     "execution_count": 135,
     "metadata": {},
     "output_type": "execute_result"
    }
   ],
   "source": [
    "len(output_result)"
   ]
  },
  {
   "cell_type": "code",
   "execution_count": null,
   "metadata": {},
   "outputs": [],
   "source": []
  }
 ],
 "metadata": {
  "kernelspec": {
   "display_name": "Python 3",
   "language": "python",
   "name": "python3"
  },
  "language_info": {
   "codemirror_mode": {
    "name": "ipython",
    "version": 3
   },
   "file_extension": ".py",
   "mimetype": "text/x-python",
   "name": "python",
   "nbconvert_exporter": "python",
   "pygments_lexer": "ipython3",
   "version": "3.7.4"
  }
 },
 "nbformat": 4,
 "nbformat_minor": 2
}
