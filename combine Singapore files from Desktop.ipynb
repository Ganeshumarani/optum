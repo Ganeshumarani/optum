{
 "cells": [
  {
   "cell_type": "code",
   "execution_count": 1,
   "metadata": {},
   "outputs": [],
   "source": [
    "import pandas as pd\n",
    "import numpy as np\n",
    "import os\n",
    "import glob"
   ]
  },
  {
   "cell_type": "code",
   "execution_count": 2,
   "metadata": {},
   "outputs": [],
   "source": [
    "os.chdir(\"C:/Users/Ganesh P Umarani/Desktop/Optum/Distributor/Distributor/Medline\")"
   ]
  },
  {
   "cell_type": "code",
   "execution_count": 3,
   "metadata": {},
   "outputs": [],
   "source": [
    "files=glob.glob(\"*.*\")"
   ]
  },
  {
   "cell_type": "code",
   "execution_count": 4,
   "metadata": {},
   "outputs": [
    {
     "data": {
      "text/plain": [
       "['Master_Medline_distributor_file.csv',\n",
       " 'Medline Q1 2018 _ unmasked.xlsx',\n",
       " 'Medline Q1 2018_unmasked_Primary_Key_assigned.csv',\n",
       " 'UHG July 19 Data Request.xlsx',\n",
       " 'UHG July 19 Data Request_Primary_Key_assigned.csv',\n",
       " 'UHG Q1 2019 Data Request.xlsx',\n",
       " 'UHG Q1 2019 Data Request_Primary_Key_assigned.csv',\n",
       " 'UHG Q2 2018 Data Request.xlsx',\n",
       " 'UHG Q2 2018 Data Request_Primary_Key_assigned.csv',\n",
       " 'UHG Q2 2019 Data Request.xlsx',\n",
       " 'UHG Q2 2019 Data Request_Primary_Key_assigned.csv',\n",
       " 'UHG Q3 2018 Data Request.xlsx',\n",
       " 'UHG Q3 2018 Data Request_Primary_Key_assigned.csv',\n",
       " 'UHG Q4 2018 Data Request v2.xlsx',\n",
       " 'UHG Q4 2018 Data Request v2_Primary_Key_assigned.csv']"
      ]
     },
     "execution_count": 4,
     "metadata": {},
     "output_type": "execute_result"
    }
   ],
   "source": [
    "files"
   ]
  },
  {
   "cell_type": "code",
   "execution_count": 5,
   "metadata": {},
   "outputs": [
    {
     "name": "stderr",
     "output_type": "stream",
     "text": [
      "c:\\users\\ganesh p umarani\\appdata\\local\\programs\\python\\python37\\lib\\site-packages\\IPython\\core\\interactiveshell.py:3058: DtypeWarning: Columns (12) have mixed types. Specify dtype option on import or set low_memory=False.\n",
      "  interactivity=interactivity, compiler=compiler, result=result)\n"
     ]
    }
   ],
   "source": [
    "small_data=pd.read_csv('Medline Q1 2018_unmasked_Primary_Key_assigned.csv')"
   ]
  },
  {
   "cell_type": "code",
   "execution_count": null,
   "metadata": {},
   "outputs": [],
   "source": [
    "# small_data=pd.read_excel('<file_name>',sheet_name=0)"
   ]
  },
  {
   "cell_type": "code",
   "execution_count": null,
   "metadata": {},
   "outputs": [],
   "source": []
  },
  {
   "cell_type": "code",
   "execution_count": 6,
   "metadata": {},
   "outputs": [
    {
     "data": {
      "text/plain": [
       "55"
      ]
     },
     "execution_count": 6,
     "metadata": {},
     "output_type": "execute_result"
    }
   ],
   "source": [
    "lis=small_data.columns.tolist()\n",
    "len(lis)"
   ]
  },
  {
   "cell_type": "code",
   "execution_count": 14,
   "metadata": {},
   "outputs": [],
   "source": [
    "big_data.drop(['Unnamed: 0'],axis=1,inplace=True)"
   ]
  },
  {
   "cell_type": "code",
   "execution_count": 21,
   "metadata": {},
   "outputs": [],
   "source": [
    "small_data.rename({'Inv Line #':'Customer Line Num',\n",
    "                  'Freight':'Customer Paid Freight Fee Amt',\n",
    "                  'Tax':'Sales Tax Amt',\n",
    "                  'PO Number':'Customer PO Num',\n",
    "                  'Manufacturer':'Manufacturer Name',\n",
    "                  'Invoice Date':'Date - Invoice',\n",
    "                  'Invoice #':'Invoice Num',\n",
    "                  'Mfr# Item #':'Manufacturer #'},axis=1,inplace=True)"
   ]
  },
  {
   "cell_type": "code",
   "execution_count": 24,
   "metadata": {},
   "outputs": [
    {
     "data": {
      "text/plain": [
       "[]"
      ]
     },
     "execution_count": 24,
     "metadata": {},
     "output_type": "execute_result"
    }
   ],
   "source": [
    "(list(set(sd_list) - set(bd_list)))"
   ]
  },
  {
   "cell_type": "code",
   "execution_count": 19,
   "metadata": {},
   "outputs": [
    {
     "data": {
      "text/plain": [
       "Index(['ADDRESS1', 'ADDRESS2', 'Atomic UOM (oz, dose, ml)', 'BILL',\n",
       "       'CATEGORY UPDATED', 'Category', 'City',\n",
       "       'Commodity (Med Supplies, Vaccines, Pharma, Office Supplies)',\n",
       "       'Contract #', 'Contract Class of Trade', 'Contract Description',\n",
       "       'Contract Number', 'Contract Source', 'Contract Type',\n",
       "       'Contract Valid-To', 'Cost (Contracted)', 'Customer Line Num',\n",
       "       'Customer PO Num', 'Customer Paid Freight Fee Amt', 'Date - Invoice',\n",
       "       'Date- Invoice', 'Distributor', 'Division (High Level)',\n",
       "       'Extended Price', 'Facility Grouping',\n",
       "       'Generic Description (Pharma Only)', 'High Level', 'Internal Item #',\n",
       "       'Internal Item#', 'Invoice Num', 'Invoice Price', 'Invoiced Price',\n",
       "       'Item Description', 'M', 'Manufacturer #', 'Manufacturer Contract #',\n",
       "       'Manufacturer Name', 'NDC/UPC', 'O', 'OWNED BRAND', 'Order Method Desc',\n",
       "       'Previous PRICE', 'Primary_Key', 'Qty', 'Quantity', 'SHIP', 'SHIP NAME',\n",
       "       'START DATE', 'Sales Tax Amt', 'Source', 'State', 'Sub Category',\n",
       "       'Tier', 'Tier 2', 'Time Frame', 'U', 'UHG Preferred', 'UNSPSC', 'Zip'],\n",
       "      dtype='object')"
      ]
     },
     "execution_count": 19,
     "metadata": {},
     "output_type": "execute_result"
    }
   ],
   "source": [
    "big_data.columns"
   ]
  },
  {
   "cell_type": "code",
   "execution_count": null,
   "metadata": {},
   "outputs": [],
   "source": []
  },
  {
   "cell_type": "code",
   "execution_count": null,
   "metadata": {},
   "outputs": [],
   "source": []
  },
  {
   "cell_type": "code",
   "execution_count": 22,
   "metadata": {},
   "outputs": [],
   "source": [
    "sd_list=small_data.columns.tolist()"
   ]
  },
  {
   "cell_type": "code",
   "execution_count": 23,
   "metadata": {},
   "outputs": [],
   "source": [
    "bd_list=big_data.columns.tolist()"
   ]
  },
  {
   "cell_type": "code",
   "execution_count": null,
   "metadata": {},
   "outputs": [],
   "source": []
  },
  {
   "cell_type": "code",
   "execution_count": 187,
   "metadata": {},
   "outputs": [],
   "source": [
    "# col_names=['Primary_Key', 'Tiem Frame', 'Distributor', 'Facility Grouping',\n",
    "#        'Internal Item #', 'NDC/UPC', 'Item Description', 'UHG Preferred',\n",
    "#        'Generic Description', 'Manufacturer #', 'Manufacturer Name', 'U', 'O',\n",
    "#        'M', 'Atomic UOM (oz, dose,ml)', 'Cost (Contracted WAC)',\n",
    "#        'Invoiced Price', 'Qty', 'Extended Price', 'Contract Type',\n",
    "#        'Contract Source', 'Contract Class of Trade', 'Contract Number',\n",
    "#        'Contract Tier', 'Contract Description', 'Contract Valid-To',\n",
    "#        'Manufacturer Contract #',\n",
    "#        'Commodity (Med Supplies, Vaccines, Pharma, Office Supplies)',\n",
    "#        'Division (High Level)', 'Category', 'Sub Category', 'Previous Price',\n",
    "#        'Start Date', 'Contract #', 'Tier 2', 'Source', 'Owned Brand',\n",
    "#        'Category updated', 'High Level', 'Bill', 'Ship', 'Ship Name', 'Addr1',\n",
    "#        'Addr2', 'City1', 'State', 'ZipCd', 'Date - Invoice', 'Customer PO Num',\n",
    "#        'Order Method Desc', 'Sales Tax Amt', 'Customer Line Num', 'InvoiceNbr',\n",
    "#        'UNSPSC', 'HCPC']"
   ]
  },
  {
   "cell_type": "code",
   "execution_count": 188,
   "metadata": {},
   "outputs": [],
   "source": [
    "# big_data=pd.DataFrame(columns=col_names)"
   ]
  },
  {
   "cell_type": "code",
   "execution_count": 8,
   "metadata": {},
   "outputs": [
    {
     "name": "stderr",
     "output_type": "stream",
     "text": [
      "c:\\users\\ganesh p umarani\\appdata\\local\\programs\\python\\python37\\lib\\site-packages\\IPython\\core\\interactiveshell.py:3058: DtypeWarning: Columns (4,19,20,21,28,29,39,46,49,56,58) have mixed types. Specify dtype option on import or set low_memory=False.\n",
      "  interactivity=interactivity, compiler=compiler, result=result)\n"
     ]
    }
   ],
   "source": [
    "big_data=pd.read_csv(\"Master_Medline_distributor_file.csv\")"
   ]
  },
  {
   "cell_type": "code",
   "execution_count": 9,
   "metadata": {},
   "outputs": [
    {
     "data": {
      "text/plain": [
       "['Unnamed: 0',\n",
       " 'ADDRESS1',\n",
       " 'ADDRESS2',\n",
       " 'Atomic UOM (oz, dose, ml)',\n",
       " 'BILL',\n",
       " 'CATEGORY UPDATED',\n",
       " 'Category',\n",
       " 'City',\n",
       " 'Commodity (Med Supplies, Vaccines, Pharma, Office Supplies)',\n",
       " 'Contract #',\n",
       " 'Contract Class of Trade',\n",
       " 'Contract Description',\n",
       " 'Contract Number',\n",
       " 'Contract Source',\n",
       " 'Contract Type',\n",
       " 'Contract Valid-To',\n",
       " 'Cost (Contracted)',\n",
       " 'Customer Line Num',\n",
       " 'Customer PO Num',\n",
       " 'Customer Paid Freight Fee Amt',\n",
       " 'Date - Invoice',\n",
       " 'Date- Invoice',\n",
       " 'Distributor',\n",
       " 'Division (High Level)',\n",
       " 'Extended Price',\n",
       " 'Facility Grouping',\n",
       " 'Generic Description (Pharma Only)',\n",
       " 'High Level',\n",
       " 'Internal Item #',\n",
       " 'Internal Item#',\n",
       " 'Invoice Num',\n",
       " 'Invoice Price',\n",
       " 'Invoiced Price',\n",
       " 'Item Description',\n",
       " 'M',\n",
       " 'Manufacturer #',\n",
       " 'Manufacturer Contract #',\n",
       " 'Manufacturer Name',\n",
       " 'NDC/UPC',\n",
       " 'O',\n",
       " 'OWNED BRAND',\n",
       " 'Order Method Desc',\n",
       " 'Previous PRICE',\n",
       " 'Primary_Key',\n",
       " 'Qty',\n",
       " 'Quantity',\n",
       " 'SHIP',\n",
       " 'SHIP NAME',\n",
       " 'START DATE',\n",
       " 'Sales Tax Amt',\n",
       " 'Source',\n",
       " 'State',\n",
       " 'Sub Category',\n",
       " 'Tier',\n",
       " 'Tier 2',\n",
       " 'Time Frame',\n",
       " 'U',\n",
       " 'UHG Preferred',\n",
       " 'UNSPSC',\n",
       " 'Zip']"
      ]
     },
     "execution_count": 9,
     "metadata": {},
     "output_type": "execute_result"
    }
   ],
   "source": [
    "big_data.columns.tolist()"
   ]
  },
  {
   "cell_type": "code",
   "execution_count": null,
   "metadata": {},
   "outputs": [],
   "source": []
  },
  {
   "cell_type": "code",
   "execution_count": 27,
   "metadata": {},
   "outputs": [
    {
     "name": "stderr",
     "output_type": "stream",
     "text": [
      "c:\\users\\ganesh p umarani\\appdata\\local\\programs\\python\\python37\\lib\\site-packages\\ipykernel_launcher.py:1: FutureWarning: Sorting because non-concatenation axis is not aligned. A future version\n",
      "of pandas will change to not sort by default.\n",
      "\n",
      "To accept the future behavior, pass 'sort=False'.\n",
      "\n",
      "To retain the current behavior and silence the warning, pass 'sort=True'.\n",
      "\n",
      "  \"\"\"Entry point for launching an IPython kernel.\n"
     ]
    }
   ],
   "source": [
    "big_data=pd.concat(objs=[big_data,small_data],ignore_index=True,axis=0)"
   ]
  },
  {
   "cell_type": "code",
   "execution_count": 25,
   "metadata": {},
   "outputs": [
    {
     "data": {
      "text/plain": [
       "169983"
      ]
     },
     "execution_count": 25,
     "metadata": {},
     "output_type": "execute_result"
    }
   ],
   "source": [
    "len(small_data)"
   ]
  },
  {
   "cell_type": "code",
   "execution_count": 28,
   "metadata": {},
   "outputs": [
    {
     "data": {
      "text/plain": [
       "1167245"
      ]
     },
     "execution_count": 28,
     "metadata": {},
     "output_type": "execute_result"
    }
   ],
   "source": [
    "len(big_data)"
   ]
  },
  {
   "cell_type": "code",
   "execution_count": null,
   "metadata": {},
   "outputs": [],
   "source": []
  },
  {
   "cell_type": "code",
   "execution_count": null,
   "metadata": {},
   "outputs": [],
   "source": []
  },
  {
   "cell_type": "code",
   "execution_count": null,
   "metadata": {},
   "outputs": [],
   "source": []
  },
  {
   "cell_type": "code",
   "execution_count": null,
   "metadata": {},
   "outputs": [],
   "source": []
  },
  {
   "cell_type": "code",
   "execution_count": 29,
   "metadata": {},
   "outputs": [],
   "source": [
    "big_data.to_csv(\"Master_Medline_distributor_file_v2.csv\")"
   ]
  },
  {
   "cell_type": "code",
   "execution_count": null,
   "metadata": {},
   "outputs": [],
   "source": []
  }
 ],
 "metadata": {
  "kernelspec": {
   "display_name": "Python 3",
   "language": "python",
   "name": "python3"
  },
  "language_info": {
   "codemirror_mode": {
    "name": "ipython",
    "version": 3
   },
   "file_extension": ".py",
   "mimetype": "text/x-python",
   "name": "python",
   "nbconvert_exporter": "python",
   "pygments_lexer": "ipython3",
   "version": "3.7.4"
  }
 },
 "nbformat": 4,
 "nbformat_minor": 2
}
