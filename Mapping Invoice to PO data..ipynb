{
 "cells": [
  {
   "cell_type": "code",
   "execution_count": 15,
   "metadata": {},
   "outputs": [],
   "source": [
    "import os\n",
    "import numpy as np\n",
    "import pandas as pd\n",
    "import sys\n",
    "import re\n",
    "import glob"
   ]
  },
  {
   "cell_type": "code",
   "execution_count": 16,
   "metadata": {},
   "outputs": [],
   "source": [
    "os.chdir(\"C:/Users/Ganesh P Umarani/Desktop/Optum/Optum_Raw_Initial_Conversion/Invoice_PO_mapping/Invoice files\")"
   ]
  },
  {
   "cell_type": "code",
   "execution_count": 17,
   "metadata": {},
   "outputs": [
    {
     "data": {
      "text/plain": [
       "['All Markets (except NV) Invoice Data 01-01-18 to 6-30-19.csv',\n",
       " 'All Markets Concur (except NV) Invoice Data 01-01-18 to 6-30-19.csv',\n",
       " 'Coupa PO _ 1-1-18 _ 9-30-18.xlsx',\n",
       " 'COUPA_order_line_list-cube - Feb 2019-May 2019.xlsx',\n",
       " 'Optum Request 2 (Invoices) v2 (2).xlsx',\n",
       " 'OptumCareSpend_01012018-05312019.xlsx',\n",
       " 'Reliant_INV_06012019_06302019_V1.csv',\n",
       " 'Reliant_INV_07012019_07312019_V1.xlsx',\n",
       " 'SCA_Cardinal_Data_CSV.csv',\n",
       " 'TEC_Invoice_01012018_07312019.csv',\n",
       " 'TPC_AP_01012018_12312018_v1.xlsx',\n",
       " 'USMD File Files-Cube Request AP_Line Voucher  Jan 2018 - Dec 2018 with Item #.xlsx',\n",
       " 'USMD File Files-Cube Request AP_Line Voucher  Jan 2019 with Item #.xlsx',\n",
       " 'XXFHS_Reliant_Optum_Core_AP_Da_050619.csv',\n",
       " 'XXFHS_Reliant_Optum_Core_AP_Da_290519.csv']"
      ]
     },
     "execution_count": 17,
     "metadata": {},
     "output_type": "execute_result"
    }
   ],
   "source": [
    "glob.glob(\"*.*\")"
   ]
  },
  {
   "cell_type": "code",
   "execution_count": 186,
   "metadata": {},
   "outputs": [],
   "source": [
    "#Upload the file from above directory\n",
    "data=pd.read_excel('COUPA_order_line_list-cube - Feb 2019-May 2019.xlsx',encoding='unicode_escape')"
   ]
  },
  {
   "cell_type": "code",
   "execution_count": 187,
   "metadata": {},
   "outputs": [
    {
     "data": {
      "text/plain": [
       "Index(['PO Number (Header)', 'Order Date (Header)', 'Line', 'Supplier #',\n",
       "       'Supplier', 'Order Status (Header)', 'Item', 'Line Total', 'Commodity',\n",
       "       'Account', 'Period'],\n",
       "      dtype='object')"
      ]
     },
     "execution_count": 187,
     "metadata": {},
     "output_type": "execute_result"
    }
   ],
   "source": [
    "data.columns"
   ]
  },
  {
   "cell_type": "code",
   "execution_count": 188,
   "metadata": {},
   "outputs": [],
   "source": [
    "def rm_consec_space(x):\n",
    "    return re.sub(' +',' ',x)"
   ]
  },
  {
   "cell_type": "code",
   "execution_count": 189,
   "metadata": {},
   "outputs": [],
   "source": [
    "#Clean the column names and assign the standard name\n",
    "var1=data.columns.tolist()\n",
    "var2=data.columns.tolist()"
   ]
  },
  {
   "cell_type": "code",
   "execution_count": 190,
   "metadata": {},
   "outputs": [],
   "source": [
    "for i in range(len(var1)):\n",
    "    var1[i]=var1[i].strip()\n",
    "    var1[i]=rm_consec_space(var1[i])"
   ]
  },
  {
   "cell_type": "code",
   "execution_count": 191,
   "metadata": {},
   "outputs": [],
   "source": [
    "for i in range(len(var1)):\n",
    "    data.rename({var2[i]:var1[i]},axis=1,inplace=True)"
   ]
  },
  {
   "cell_type": "code",
   "execution_count": 192,
   "metadata": {},
   "outputs": [
    {
     "data": {
      "text/plain": [
       "Index(['PO Number (Header)', 'Order Date (Header)', 'Line', 'Supplier #',\n",
       "       'Supplier', 'Order Status (Header)', 'Item', 'Line Total', 'Commodity',\n",
       "       'Account', 'Period'],\n",
       "      dtype='object')"
      ]
     },
     "execution_count": 192,
     "metadata": {},
     "output_type": "execute_result"
    }
   ],
   "source": [
    "data.columns"
   ]
  },
  {
   "cell_type": "code",
   "execution_count": 193,
   "metadata": {},
   "outputs": [],
   "source": [
    "col_names=data.columns.tolist()"
   ]
  },
  {
   "cell_type": "code",
   "execution_count": 194,
   "metadata": {},
   "outputs": [],
   "source": [
    "for col_name in col_names:\n",
    "    data[col_name]=data[col_name].astype(str)\n",
    "    data[col_name]=data[col_name].str.strip()\n",
    "    data[col_name]=data[col_name].str.rstrip(',')\n",
    "    #data[col_name]=data[col_name].str.replace(',','')\n",
    "    data[col_name]=data[col_name].apply(lambda x: rm_consec_space(x))\n",
    "    #data[col_name]=data[col_name].map(lambda x: re.sub(r'\\W+','',x))\n",
    "    data[col_name]=data[col_name].str.upper()"
   ]
  },
  {
   "cell_type": "code",
   "execution_count": 195,
   "metadata": {},
   "outputs": [
    {
     "name": "stdout",
     "output_type": "stream",
     "text": [
      "Please enter CDO Name : USMD\n"
     ]
    }
   ],
   "source": [
    "cdo_name= input(prompt='Please enter CDO Name : ')"
   ]
  },
  {
   "cell_type": "code",
   "execution_count": 196,
   "metadata": {},
   "outputs": [
    {
     "name": "stdout",
     "output_type": "stream",
     "text": [
      "Enter the SC number: 5\n"
     ]
    }
   ],
   "source": [
    "SC_id= input(prompt='Enter the SC number: ')"
   ]
  },
  {
   "cell_type": "code",
   "execution_count": 197,
   "metadata": {},
   "outputs": [],
   "source": [
    "PK=cdo_name+'_SC'+SC_id+'-'"
   ]
  },
  {
   "cell_type": "code",
   "execution_count": 198,
   "metadata": {},
   "outputs": [
    {
     "data": {
      "text/plain": [
       "'USMD_SC5-'"
      ]
     },
     "execution_count": 198,
     "metadata": {},
     "output_type": "execute_result"
    }
   ],
   "source": [
    "PK"
   ]
  },
  {
   "cell_type": "code",
   "execution_count": 199,
   "metadata": {},
   "outputs": [],
   "source": [
    "data=data.reset_index()"
   ]
  },
  {
   "cell_type": "code",
   "execution_count": 200,
   "metadata": {},
   "outputs": [],
   "source": [
    "data.rename({'index':'Primary_Key'},axis=1,inplace=True)"
   ]
  },
  {
   "cell_type": "code",
   "execution_count": 201,
   "metadata": {},
   "outputs": [],
   "source": [
    "data['Primary_Key']=data.index+1"
   ]
  },
  {
   "cell_type": "code",
   "execution_count": 202,
   "metadata": {},
   "outputs": [],
   "source": [
    "data['Primary_Key']=data['Primary_Key'].astype(str)"
   ]
  },
  {
   "cell_type": "code",
   "execution_count": 203,
   "metadata": {},
   "outputs": [],
   "source": [
    "data['Primary_Key']=PK+data['Primary_Key']"
   ]
  },
  {
   "cell_type": "code",
   "execution_count": null,
   "metadata": {},
   "outputs": [],
   "source": []
  },
  {
   "cell_type": "code",
   "execution_count": null,
   "metadata": {},
   "outputs": [],
   "source": []
  },
  {
   "cell_type": "code",
   "execution_count": null,
   "metadata": {},
   "outputs": [],
   "source": []
  },
  {
   "cell_type": "code",
   "execution_count": 204,
   "metadata": {},
   "outputs": [],
   "source": [
    "data.to_csv('COUPA_order_line_list-cube - Feb 2019-May 2019_Primary_Key_assigned.csv')"
   ]
  },
  {
   "cell_type": "code",
   "execution_count": null,
   "metadata": {},
   "outputs": [],
   "source": []
  },
  {
   "cell_type": "code",
   "execution_count": null,
   "metadata": {},
   "outputs": [],
   "source": []
  },
  {
   "cell_type": "code",
   "execution_count": null,
   "metadata": {},
   "outputs": [],
   "source": []
  },
  {
   "cell_type": "code",
   "execution_count": null,
   "metadata": {},
   "outputs": [],
   "source": []
  },
  {
   "cell_type": "code",
   "execution_count": 11,
   "metadata": {},
   "outputs": [],
   "source": [
    "PO_file=pd.read_csv('Reliant_PO_06012019_06302019_June19_Primary_Key_assigned.csv')"
   ]
  },
  {
   "cell_type": "code",
   "execution_count": 12,
   "metadata": {},
   "outputs": [],
   "source": [
    "Inv_file=pd.read_csv('Reliant_INV_06012019_06302019_V1.csv',encoding='unicode escape')"
   ]
  },
  {
   "cell_type": "code",
   "execution_count": 14,
   "metadata": {},
   "outputs": [
    {
     "data": {
      "text/plain": [
       "Primary_Key              object\n",
       "ID                        int64\n",
       "PO Number               float64\n",
       "PO Line Item Number       int64\n",
       "Vendor Name              object\n",
       "Manufacturer Name        object\n",
       "Supplier Part No         object\n",
       "Manufacturer Part No     object\n",
       "Item ID                  object\n",
       "Contract ID              object\n",
       "Contract Type            object\n",
       "Item Description         object\n",
       "UNSPSC Code              object\n",
       "NDC Code                 object\n",
       "UOM                      object\n",
       "UOM Quantity             object\n",
       "Quantity Ordered         object\n",
       "Quoted Price/UOM         object\n",
       "PO Price                 object\n",
       "Facility ID              object\n",
       "Facility Name            object\n",
       "Facility Address         object\n",
       "Dept ID                  object\n",
       "Dept Name                object\n",
       "PO Date                  object\n",
       "Order Type               object\n",
       "dtype: object"
      ]
     },
     "execution_count": 14,
     "metadata": {},
     "output_type": "execute_result"
    }
   ],
   "source": [
    "PO_file.dtypes"
   ]
  },
  {
   "cell_type": "code",
   "execution_count": null,
   "metadata": {},
   "outputs": [],
   "source": []
  },
  {
   "cell_type": "code",
   "execution_count": null,
   "metadata": {},
   "outputs": [],
   "source": [
    "result=pd.merge(Inv_file, PO_file, on='PO Number', how='inner')"
   ]
  },
  {
   "cell_type": "code",
   "execution_count": null,
   "metadata": {},
   "outputs": [],
   "source": [
    "result.to_csv('output_check_1.csv')"
   ]
  },
  {
   "cell_type": "code",
   "execution_count": null,
   "metadata": {},
   "outputs": [],
   "source": [
    "len(result)"
   ]
  },
  {
   "cell_type": "code",
   "execution_count": null,
   "metadata": {},
   "outputs": [],
   "source": [
    "len(PO_file)"
   ]
  },
  {
   "cell_type": "code",
   "execution_count": null,
   "metadata": {},
   "outputs": [],
   "source": []
  }
 ],
 "metadata": {
  "kernelspec": {
   "display_name": "Python 3",
   "language": "python",
   "name": "python3"
  },
  "language_info": {
   "codemirror_mode": {
    "name": "ipython",
    "version": 3
   },
   "file_extension": ".py",
   "mimetype": "text/x-python",
   "name": "python",
   "nbconvert_exporter": "python",
   "pygments_lexer": "ipython3",
   "version": "3.7.4"
  }
 },
 "nbformat": 4,
 "nbformat_minor": 2
}
