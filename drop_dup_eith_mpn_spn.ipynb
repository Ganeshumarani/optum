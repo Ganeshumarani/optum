{
 "cells": [
  {
   "cell_type": "code",
   "execution_count": 1,
   "metadata": {},
   "outputs": [],
   "source": [
    "import pandas as pd\n",
    "import numpy as np\n",
    "import os, glob"
   ]
  },
  {
   "cell_type": "code",
   "execution_count": 189,
   "metadata": {},
   "outputs": [],
   "source": [
    "os.chdir(\"C:/Users/Ganesh P Umarani/Desktop/Optum/Ganesh_Merged_Files/Merged files duplicates/Unique item master files\")"
   ]
  },
  {
   "cell_type": "code",
   "execution_count": 3,
   "metadata": {},
   "outputs": [],
   "source": [
    "mpn_spn=pd.read_csv(\"either_mpn_spn.csv\")"
   ]
  },
  {
   "cell_type": "code",
   "execution_count": 11,
   "metadata": {},
   "outputs": [],
   "source": [
    "# both mpn and spn present\n",
    "to_drop_mpn_spn=mpn_spn[(mpn_spn.manufacturer_part_number.notnull()) & (mpn_spn.supplier_part_number.notnull())]"
   ]
  },
  {
   "cell_type": "code",
   "execution_count": 13,
   "metadata": {},
   "outputs": [],
   "source": [
    "#only mpn\n",
    "to_drop_mpn=mpn_spn[(mpn_spn.manufacturer_part_number.notnull()) & (mpn_spn.supplier_part_number.isnull())]"
   ]
  },
  {
   "cell_type": "code",
   "execution_count": 15,
   "metadata": {},
   "outputs": [],
   "source": [
    "#only spn\n",
    "to_drop_spn=mpn_spn[(mpn_spn.manufacturer_part_number.isnull()) & (mpn_spn.supplier_part_number.notnull())]"
   ]
  },
  {
   "cell_type": "code",
   "execution_count": 118,
   "metadata": {},
   "outputs": [
    {
     "data": {
      "text/plain": [
       "Index(['Secondary_key', 'manufacturer_part_number', 'supplier_part_number',\n",
       "       'product_desc', 'manufacturer_name', 'supplier_name', 'len_char_desc'],\n",
       "      dtype='object')"
      ]
     },
     "execution_count": 118,
     "metadata": {},
     "output_type": "execute_result"
    }
   ],
   "source": [
    "to_drop_mpn.columns"
   ]
  },
  {
   "cell_type": "code",
   "execution_count": 12,
   "metadata": {},
   "outputs": [
    {
     "data": {
      "text/plain": [
       "12240"
      ]
     },
     "execution_count": 12,
     "metadata": {},
     "output_type": "execute_result"
    }
   ],
   "source": [
    "len(to_drop_mpn_spn)"
   ]
  },
  {
   "cell_type": "code",
   "execution_count": 119,
   "metadata": {},
   "outputs": [
    {
     "data": {
      "text/plain": [
       "316"
      ]
     },
     "execution_count": 119,
     "metadata": {},
     "output_type": "execute_result"
    }
   ],
   "source": [
    "len(to_drop_mpn)"
   ]
  },
  {
   "cell_type": "code",
   "execution_count": 157,
   "metadata": {},
   "outputs": [
    {
     "data": {
      "text/plain": [
       "31962"
      ]
     },
     "execution_count": 157,
     "metadata": {},
     "output_type": "execute_result"
    }
   ],
   "source": [
    "len(to_drop_spn)"
   ]
  },
  {
   "cell_type": "code",
   "execution_count": 165,
   "metadata": {},
   "outputs": [
    {
     "data": {
      "text/plain": [
       "array(['30', '29', '28', '15', '25', '33', '37', '26', '79', '91', '22',\n",
       "       '45', '17', '24', '41', '27', '19', '9', '20', '23', '21', '14',\n",
       "       '16', '42', '62', '51', '43', '53', '32', '35', '40', '31', '18',\n",
       "       '39', '36', '34', '0', '13', '6', '8', '10', '11', '55', '63',\n",
       "       '50', '49', '64', '65', '57', '59', '46', '54', '71', '75', '69',\n",
       "       '12', '47', '76', '52', '56', '66', '68', '74', '44', '7', '1',\n",
       "       '61', '48', '72', '73', '67', '38', '58', '60', '5', '70', '4',\n",
       "       '84', '3', '101', '80', '207', '108', '104', '89', '98', '2',\n",
       "       '131', '135', '120', '100', '78', '93', '82', '83', '180', '85',\n",
       "       '127', '117', '148', '150', '95', '77', '99', '88', '96', '105',\n",
       "       '125', '138', '134', '110', '109', '126', '255', '81', '86', '144',\n",
       "       '112', '115', '87', '137', '154', '141', '175', '132', '106', '90',\n",
       "       '92', '121', '113', '194', '107', '241', '216', '239', '114',\n",
       "       '118', '103', '152', '169', '153', '116', '129', '130', '149',\n",
       "       '122', '#NAME?', '111'], dtype=object)"
      ]
     },
     "execution_count": 165,
     "metadata": {},
     "output_type": "execute_result"
    }
   ],
   "source": [
    "to_drop_spn['len_char_desc'].unique()"
   ]
  },
  {
   "cell_type": "code",
   "execution_count": 167,
   "metadata": {},
   "outputs": [
    {
     "name": "stderr",
     "output_type": "stream",
     "text": [
      "c:\\users\\ganesh p umarani\\appdata\\local\\programs\\python\\python37\\lib\\site-packages\\pandas\\core\\generic.py:6788: SettingWithCopyWarning: \n",
      "A value is trying to be set on a copy of a slice from a DataFrame\n",
      "\n",
      "See the caveats in the documentation: http://pandas.pydata.org/pandas-docs/stable/user_guide/indexing.html#returning-a-view-versus-a-copy\n",
      "  self._update_inplace(new_data)\n"
     ]
    }
   ],
   "source": [
    "to_drop_spn['len_char_desc'].replace(to_replace='#NAME?',value=0,inplace=True)"
   ]
  },
  {
   "cell_type": "code",
   "execution_count": 168,
   "metadata": {},
   "outputs": [
    {
     "data": {
      "text/html": [
       "<div>\n",
       "<style scoped>\n",
       "    .dataframe tbody tr th:only-of-type {\n",
       "        vertical-align: middle;\n",
       "    }\n",
       "\n",
       "    .dataframe tbody tr th {\n",
       "        vertical-align: top;\n",
       "    }\n",
       "\n",
       "    .dataframe thead th {\n",
       "        text-align: right;\n",
       "    }\n",
       "</style>\n",
       "<table border=\"1\" class=\"dataframe\">\n",
       "  <thead>\n",
       "    <tr style=\"text-align: right;\">\n",
       "      <th></th>\n",
       "      <th>Secondary_key</th>\n",
       "      <th>manufacturer_part_number</th>\n",
       "      <th>supplier_part_number</th>\n",
       "      <th>product_desc</th>\n",
       "      <th>manufacturer_name</th>\n",
       "      <th>supplier_name</th>\n",
       "      <th>len_char_desc</th>\n",
       "    </tr>\n",
       "  </thead>\n",
       "  <tbody>\n",
       "  </tbody>\n",
       "</table>\n",
       "</div>"
      ],
      "text/plain": [
       "Empty DataFrame\n",
       "Columns: [Secondary_key, manufacturer_part_number, supplier_part_number, product_desc, manufacturer_name, supplier_name, len_char_desc]\n",
       "Index: []"
      ]
     },
     "execution_count": 168,
     "metadata": {},
     "output_type": "execute_result"
    }
   ],
   "source": [
    "to_drop_spn[to_drop_spn.len_char_desc=='#NAME?']"
   ]
  },
  {
   "cell_type": "code",
   "execution_count": 169,
   "metadata": {},
   "outputs": [
    {
     "name": "stderr",
     "output_type": "stream",
     "text": [
      "c:\\users\\ganesh p umarani\\appdata\\local\\programs\\python\\python37\\lib\\site-packages\\ipykernel_launcher.py:1: SettingWithCopyWarning: \n",
      "A value is trying to be set on a copy of a slice from a DataFrame.\n",
      "Try using .loc[row_indexer,col_indexer] = value instead\n",
      "\n",
      "See the caveats in the documentation: http://pandas.pydata.org/pandas-docs/stable/user_guide/indexing.html#returning-a-view-versus-a-copy\n",
      "  \"\"\"Entry point for launching an IPython kernel.\n"
     ]
    }
   ],
   "source": [
    "to_drop_spn['len_char_desc']=to_drop_spn['len_char_desc'].astype(int)"
   ]
  },
  {
   "cell_type": "code",
   "execution_count": 117,
   "metadata": {},
   "outputs": [
    {
     "data": {
      "text/plain": [
       "5820"
      ]
     },
     "execution_count": 117,
     "metadata": {},
     "output_type": "execute_result"
    }
   ],
   "source": [
    "len(result_op)"
   ]
  },
  {
   "cell_type": "code",
   "execution_count": 171,
   "metadata": {},
   "outputs": [
    {
     "data": {
      "text/html": [
       "<div>\n",
       "<style scoped>\n",
       "    .dataframe tbody tr th:only-of-type {\n",
       "        vertical-align: middle;\n",
       "    }\n",
       "\n",
       "    .dataframe tbody tr th {\n",
       "        vertical-align: top;\n",
       "    }\n",
       "\n",
       "    .dataframe thead th {\n",
       "        text-align: right;\n",
       "    }\n",
       "</style>\n",
       "<table border=\"1\" class=\"dataframe\">\n",
       "  <thead>\n",
       "    <tr style=\"text-align: right;\">\n",
       "      <th></th>\n",
       "      <th>Secondary_key</th>\n",
       "      <th>manufacturer_part_number</th>\n",
       "      <th>supplier_part_number</th>\n",
       "      <th>product_desc</th>\n",
       "      <th>manufacturer_name</th>\n",
       "      <th>supplier_name</th>\n",
       "      <th>len_char_desc</th>\n",
       "    </tr>\n",
       "  </thead>\n",
       "  <tbody>\n",
       "    <tr>\n",
       "      <th>0</th>\n",
       "      <td>3284</td>\n",
       "      <td>NaN</td>\n",
       "      <td># 152401</td>\n",
       "      <td>COMET CLEANSER POWDER 21OZ FRO</td>\n",
       "      <td>NaN</td>\n",
       "      <td>OFFICE DEPOT</td>\n",
       "      <td>30</td>\n",
       "    </tr>\n",
       "    <tr>\n",
       "      <th>1</th>\n",
       "      <td>3285</td>\n",
       "      <td>NaN</td>\n",
       "      <td># 152401</td>\n",
       "      <td>COMET DEODORIZING CLEANSER 21</td>\n",
       "      <td>NaN</td>\n",
       "      <td>OFFICE DEPOT</td>\n",
       "      <td>29</td>\n",
       "    </tr>\n",
       "    <tr>\n",
       "      <th>2</th>\n",
       "      <td>3287</td>\n",
       "      <td>NaN</td>\n",
       "      <td># 165076</td>\n",
       "      <td>OFFICE DEPOT BRAND ASSORTED CL</td>\n",
       "      <td>NaN</td>\n",
       "      <td>OFFICE DEPOT</td>\n",
       "      <td>30</td>\n",
       "    </tr>\n",
       "    <tr>\n",
       "      <th>3</th>\n",
       "      <td>3288</td>\n",
       "      <td>NaN</td>\n",
       "      <td># 165076</td>\n",
       "      <td>OFFICE DEPOT BRAND ASSORTED CO</td>\n",
       "      <td>NaN</td>\n",
       "      <td>OFFICE DEPOT</td>\n",
       "      <td>30</td>\n",
       "    </tr>\n",
       "    <tr>\n",
       "      <th>4</th>\n",
       "      <td>3290</td>\n",
       "      <td>NaN</td>\n",
       "      <td># 193259</td>\n",
       "      <td>POST - IT NOTES 3X3 YELLOW LI</td>\n",
       "      <td>NaN</td>\n",
       "      <td>OFFICE DEPOT</td>\n",
       "      <td>29</td>\n",
       "    </tr>\n",
       "  </tbody>\n",
       "</table>\n",
       "</div>"
      ],
      "text/plain": [
       "  Secondary_key manufacturer_part_number supplier_part_number  \\\n",
       "0          3284                      NaN             # 152401   \n",
       "1          3285                      NaN             # 152401   \n",
       "2          3287                      NaN             # 165076   \n",
       "3          3288                      NaN             # 165076   \n",
       "4          3290                      NaN             # 193259   \n",
       "\n",
       "                     product_desc manufacturer_name supplier_name  \\\n",
       "0  COMET CLEANSER POWDER 21OZ FRO               NaN  OFFICE DEPOT   \n",
       "1   COMET DEODORIZING CLEANSER 21               NaN  OFFICE DEPOT   \n",
       "2  OFFICE DEPOT BRAND ASSORTED CL               NaN  OFFICE DEPOT   \n",
       "3  OFFICE DEPOT BRAND ASSORTED CO               NaN  OFFICE DEPOT   \n",
       "4   POST - IT NOTES 3X3 YELLOW LI               NaN  OFFICE DEPOT   \n",
       "\n",
       "   len_char_desc  \n",
       "0             30  \n",
       "1             29  \n",
       "2             30  \n",
       "3             30  \n",
       "4             29  "
      ]
     },
     "execution_count": 171,
     "metadata": {},
     "output_type": "execute_result"
    }
   ],
   "source": [
    "to_drop_spn.head()"
   ]
  },
  {
   "cell_type": "code",
   "execution_count": 172,
   "metadata": {},
   "outputs": [
    {
     "name": "stderr",
     "output_type": "stream",
     "text": [
      "c:\\users\\ganesh p umarani\\appdata\\local\\programs\\python\\python37\\lib\\site-packages\\pandas\\core\\groupby\\generic.py:1455: FutureWarning: using a dict with renaming is deprecated and will be removed\n",
      "in a future version.\n",
      "\n",
      "For column-specific groupby renaming, use named aggregation\n",
      "\n",
      "    >>> df.groupby(...).agg(name=('column', aggfunc))\n",
      "\n",
      "  return super().aggregate(arg, *args, **kwargs)\n"
     ]
    }
   ],
   "source": [
    "f = {c: ','.join if c == 'Secondary_key' else 'first' for c in ['Secondary_key']}\n",
    "\n",
    "to_drop_spn_grouped=to_drop_spn.groupby(['supplier_part_number','supplier_name']).agg({'Secondary_key':f,\n",
    "                                                                                                  'len_char_desc':'max'}).reset_index()"
   ]
  },
  {
   "cell_type": "code",
   "execution_count": 176,
   "metadata": {},
   "outputs": [
    {
     "data": {
      "text/html": [
       "<div>\n",
       "<style scoped>\n",
       "    .dataframe tbody tr th:only-of-type {\n",
       "        vertical-align: middle;\n",
       "    }\n",
       "\n",
       "    .dataframe tbody tr th {\n",
       "        vertical-align: top;\n",
       "    }\n",
       "\n",
       "    .dataframe thead th {\n",
       "        text-align: right;\n",
       "    }\n",
       "</style>\n",
       "<table border=\"1\" class=\"dataframe\">\n",
       "  <thead>\n",
       "    <tr style=\"text-align: right;\">\n",
       "      <th></th>\n",
       "      <th>supplier_part_number</th>\n",
       "      <th>supplier_name</th>\n",
       "      <th>Secondary_key</th>\n",
       "      <th>len_char_desc</th>\n",
       "    </tr>\n",
       "  </thead>\n",
       "  <tbody>\n",
       "    <tr>\n",
       "      <th>0</th>\n",
       "      <td># 152401</td>\n",
       "      <td>OFFICE DEPOT</td>\n",
       "      <td>3284,3285</td>\n",
       "      <td>30</td>\n",
       "    </tr>\n",
       "    <tr>\n",
       "      <th>1</th>\n",
       "      <td># 165076</td>\n",
       "      <td>OFFICE DEPOT</td>\n",
       "      <td>3287,3288</td>\n",
       "      <td>30</td>\n",
       "    </tr>\n",
       "    <tr>\n",
       "      <th>2</th>\n",
       "      <td># 193259</td>\n",
       "      <td>OFFICE DEPOT</td>\n",
       "      <td>3290,3291</td>\n",
       "      <td>29</td>\n",
       "    </tr>\n",
       "    <tr>\n",
       "      <th>3</th>\n",
       "      <td># 2202337</td>\n",
       "      <td>OFFICE DEPOT</td>\n",
       "      <td>3300,3301</td>\n",
       "      <td>30</td>\n",
       "    </tr>\n",
       "    <tr>\n",
       "      <th>4</th>\n",
       "      <td># 388187</td>\n",
       "      <td>OFFICE DEPOT</td>\n",
       "      <td>3320,3321</td>\n",
       "      <td>30</td>\n",
       "    </tr>\n",
       "  </tbody>\n",
       "</table>\n",
       "</div>"
      ],
      "text/plain": [
       "  supplier_part_number supplier_name Secondary_key  len_char_desc\n",
       "0             # 152401  OFFICE DEPOT     3284,3285             30\n",
       "1             # 165076  OFFICE DEPOT     3287,3288             30\n",
       "2             # 193259  OFFICE DEPOT     3290,3291             29\n",
       "3            # 2202337  OFFICE DEPOT     3300,3301             30\n",
       "4             # 388187  OFFICE DEPOT     3320,3321             30"
      ]
     },
     "execution_count": 176,
     "metadata": {},
     "output_type": "execute_result"
    }
   ],
   "source": [
    "to_drop_spn_grouped.head()"
   ]
  },
  {
   "cell_type": "code",
   "execution_count": 175,
   "metadata": {},
   "outputs": [],
   "source": [
    "to_drop_spn_grouped=to_drop_spn_grouped.droplevel(1,axis=1)"
   ]
  },
  {
   "cell_type": "code",
   "execution_count": 64,
   "metadata": {},
   "outputs": [],
   "source": [
    "# to_drop_mpn_spn_grouped.to_csv(\"rename_columns.csv\")"
   ]
  },
  {
   "cell_type": "code",
   "execution_count": 65,
   "metadata": {},
   "outputs": [],
   "source": [
    "# to_drop_mpn_spn_join=pd.read_csv(\"rename_columns.csv\")"
   ]
  },
  {
   "cell_type": "code",
   "execution_count": 177,
   "metadata": {},
   "outputs": [
    {
     "data": {
      "text/plain": [
       "12604"
      ]
     },
     "execution_count": 177,
     "metadata": {},
     "output_type": "execute_result"
    }
   ],
   "source": [
    "len(to_drop_spn_grouped)"
   ]
  },
  {
   "cell_type": "code",
   "execution_count": 178,
   "metadata": {},
   "outputs": [],
   "source": [
    "col_names=['manufacturer_part_number', 'supplier_part_number', 'supplier_name',\n",
    "       'Secondary_key', 'len_char_desc','product_desc','mfg_name']"
   ]
  },
  {
   "cell_type": "code",
   "execution_count": 179,
   "metadata": {},
   "outputs": [],
   "source": [
    "result_op=pd.DataFrame(columns=col_names)"
   ]
  },
  {
   "cell_type": "code",
   "execution_count": 188,
   "metadata": {},
   "outputs": [],
   "source": [
    "result_op.to_csv(\"spn_only_sk_merged_final.csv\")"
   ]
  },
  {
   "cell_type": "code",
   "execution_count": null,
   "metadata": {},
   "outputs": [],
   "source": []
  },
  {
   "cell_type": "code",
   "execution_count": 190,
   "metadata": {},
   "outputs": [],
   "source": [
    "both=pd.read_csv(\"mpn_spn_sk_merged_final.csv\")"
   ]
  },
  {
   "cell_type": "code",
   "execution_count": 191,
   "metadata": {},
   "outputs": [],
   "source": [
    "mpn=pd.read_csv(\"mpn_only_sk_merged_final.csv\")"
   ]
  },
  {
   "cell_type": "code",
   "execution_count": 192,
   "metadata": {},
   "outputs": [],
   "source": [
    "spn=pd.read_csv(\"spn_only_sk_merged_final.csv\")"
   ]
  },
  {
   "cell_type": "code",
   "execution_count": 202,
   "metadata": {},
   "outputs": [
    {
     "data": {
      "text/plain": [
       "Index(['manufacturer_part_number', 'supplier_part_number', 'supplier_name',\n",
       "       'Secondary_key', 'len_char_desc', 'product_desc', 'mfg_name'],\n",
       "      dtype='object')"
      ]
     },
     "execution_count": 202,
     "metadata": {},
     "output_type": "execute_result"
    }
   ],
   "source": [
    "both.columns"
   ]
  },
  {
   "cell_type": "code",
   "execution_count": 201,
   "metadata": {},
   "outputs": [
    {
     "data": {
      "text/plain": [
       "Index(['manufacturer_part_number', 'supplier_part_number', 'supplier_name',\n",
       "       'Secondary_key', 'len_char_desc', 'product_desc', 'mfg_name'],\n",
       "      dtype='object')"
      ]
     },
     "execution_count": 201,
     "metadata": {},
     "output_type": "execute_result"
    }
   ],
   "source": [
    "mpn.columns"
   ]
  },
  {
   "cell_type": "code",
   "execution_count": 200,
   "metadata": {},
   "outputs": [
    {
     "data": {
      "text/plain": [
       "Index(['manufacturer_part_number', 'supplier_part_number', 'supplier_name',\n",
       "       'Secondary_key', 'len_char_desc', 'product_desc', 'mfg_name'],\n",
       "      dtype='object')"
      ]
     },
     "execution_count": 200,
     "metadata": {},
     "output_type": "execute_result"
    }
   ],
   "source": [
    "spn.columns"
   ]
  },
  {
   "cell_type": "code",
   "execution_count": 199,
   "metadata": {},
   "outputs": [],
   "source": [
    "spn.drop(['Unnamed: 0'],axis=1,inplace=True)"
   ]
  },
  {
   "cell_type": "code",
   "execution_count": 206,
   "metadata": {},
   "outputs": [],
   "source": [
    "combined=pd.concat(objs=[combined,spn],ignore_index=True,axis=0)"
   ]
  },
  {
   "cell_type": "code",
   "execution_count": 221,
   "metadata": {},
   "outputs": [],
   "source": [
    "combined.to_csv(\"all_files_no_dup_refined.csv\")"
   ]
  },
  {
   "cell_type": "code",
   "execution_count": 207,
   "metadata": {},
   "outputs": [
    {
     "data": {
      "text/plain": [
       "18601"
      ]
     },
     "execution_count": 207,
     "metadata": {},
     "output_type": "execute_result"
    }
   ],
   "source": [
    "len(combined)"
   ]
  },
  {
   "cell_type": "code",
   "execution_count": 208,
   "metadata": {},
   "outputs": [
    {
     "data": {
      "text/plain": [
       "18601"
      ]
     },
     "execution_count": 208,
     "metadata": {},
     "output_type": "execute_result"
    }
   ],
   "source": [
    "len(both)+len(mpn)+len(spn)"
   ]
  },
  {
   "cell_type": "code",
   "execution_count": 219,
   "metadata": {},
   "outputs": [],
   "source": [
    "combined['Secondary_key']=combined['Secondary_key'].apply(lambda x: x.replace(',','__'))"
   ]
  },
  {
   "cell_type": "code",
   "execution_count": 220,
   "metadata": {},
   "outputs": [
    {
     "data": {
      "text/html": [
       "<div>\n",
       "<style scoped>\n",
       "    .dataframe tbody tr th:only-of-type {\n",
       "        vertical-align: middle;\n",
       "    }\n",
       "\n",
       "    .dataframe tbody tr th {\n",
       "        vertical-align: top;\n",
       "    }\n",
       "\n",
       "    .dataframe thead th {\n",
       "        text-align: right;\n",
       "    }\n",
       "</style>\n",
       "<table border=\"1\" class=\"dataframe\">\n",
       "  <thead>\n",
       "    <tr style=\"text-align: right;\">\n",
       "      <th></th>\n",
       "      <th>manufacturer_part_number</th>\n",
       "      <th>supplier_part_number</th>\n",
       "      <th>supplier_name</th>\n",
       "      <th>Secondary_key</th>\n",
       "      <th>len_char_desc</th>\n",
       "      <th>product_desc</th>\n",
       "      <th>mfg_name</th>\n",
       "    </tr>\n",
       "  </thead>\n",
       "  <tbody>\n",
       "    <tr>\n",
       "      <th>0</th>\n",
       "      <td>0-52241-78001</td>\n",
       "      <td>1027004</td>\n",
       "      <td>MCKESSON MEDICAL-SURGICAL</td>\n",
       "      <td>6465__6466</td>\n",
       "      <td>28</td>\n",
       "      <td>WATER, DISTILLED 1GAL (3/CS)</td>\n",
       "      <td>MISTY MOUNTAIN S</td>\n",
       "    </tr>\n",
       "    <tr>\n",
       "      <th>1</th>\n",
       "      <td>0-52241-78001</td>\n",
       "      <td>1027004</td>\n",
       "      <td>V11199 MCKESSON MEDICAL SURGICAL - 715</td>\n",
       "      <td>6471</td>\n",
       "      <td>27</td>\n",
       "      <td>WATER DISTILLED 1GAL (3/CA)</td>\n",
       "      <td>MISTY MOUNTAIN WATER</td>\n",
       "    </tr>\n",
       "    <tr>\n",
       "      <th>2</th>\n",
       "      <td>000 AU/ML</td>\n",
       "      <td>GB70A02 10</td>\n",
       "      <td>GREER LABORATORIES INC.</td>\n",
       "      <td>71747__71748__71749</td>\n",
       "      <td>25</td>\n",
       "      <td>ADJUSMENT - INV PAR ROOMS</td>\n",
       "      <td>NaN</td>\n",
       "    </tr>\n",
       "    <tr>\n",
       "      <th>3</th>\n",
       "      <td>000 BAU</td>\n",
       "      <td>GTP27A02 100</td>\n",
       "      <td>GREER LABORATORIES INC.</td>\n",
       "      <td>72618__72619__72620</td>\n",
       "      <td>25</td>\n",
       "      <td>ADJUSMENT - INV PAR ROOMS</td>\n",
       "      <td>NaN</td>\n",
       "    </tr>\n",
       "    <tr>\n",
       "      <th>4</th>\n",
       "      <td>000 BAU/ML</td>\n",
       "      <td>GT2A01 10</td>\n",
       "      <td>GREER LABORATORIES INC.</td>\n",
       "      <td>72591__72592</td>\n",
       "      <td>25</td>\n",
       "      <td>ADJUSMENT - INV PAR ROOMS</td>\n",
       "      <td>NaN</td>\n",
       "    </tr>\n",
       "  </tbody>\n",
       "</table>\n",
       "</div>"
      ],
      "text/plain": [
       "  manufacturer_part_number supplier_part_number  \\\n",
       "0            0-52241-78001              1027004   \n",
       "1            0-52241-78001              1027004   \n",
       "2                000 AU/ML           GB70A02 10   \n",
       "3                  000 BAU         GTP27A02 100   \n",
       "4               000 BAU/ML            GT2A01 10   \n",
       "\n",
       "                            supplier_name        Secondary_key  len_char_desc  \\\n",
       "0               MCKESSON MEDICAL-SURGICAL           6465__6466             28   \n",
       "1  V11199 MCKESSON MEDICAL SURGICAL - 715                 6471             27   \n",
       "2                 GREER LABORATORIES INC.  71747__71748__71749             25   \n",
       "3                 GREER LABORATORIES INC.  72618__72619__72620             25   \n",
       "4                 GREER LABORATORIES INC.         72591__72592             25   \n",
       "\n",
       "                   product_desc              mfg_name  \n",
       "0  WATER, DISTILLED 1GAL (3/CS)      MISTY MOUNTAIN S  \n",
       "1   WATER DISTILLED 1GAL (3/CA)  MISTY MOUNTAIN WATER  \n",
       "2     ADJUSMENT - INV PAR ROOMS                   NaN  \n",
       "3     ADJUSMENT - INV PAR ROOMS                   NaN  \n",
       "4     ADJUSMENT - INV PAR ROOMS                   NaN  "
      ]
     },
     "execution_count": 220,
     "metadata": {},
     "output_type": "execute_result"
    }
   ],
   "source": [
    "combined.head()"
   ]
  },
  {
   "cell_type": "code",
   "execution_count": null,
   "metadata": {},
   "outputs": [],
   "source": []
  }
 ],
 "metadata": {
  "kernelspec": {
   "display_name": "Python 3",
   "language": "python",
   "name": "python3"
  },
  "language_info": {
   "codemirror_mode": {
    "name": "ipython",
    "version": 3
   },
   "file_extension": ".py",
   "mimetype": "text/x-python",
   "name": "python",
   "nbconvert_exporter": "python",
   "pygments_lexer": "ipython3",
   "version": "3.7.4"
  }
 },
 "nbformat": 4,
 "nbformat_minor": 2
}
