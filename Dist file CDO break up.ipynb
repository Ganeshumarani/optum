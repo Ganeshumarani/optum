{
 "cells": [
  {
   "cell_type": "code",
   "execution_count": 1,
   "metadata": {},
   "outputs": [],
   "source": [
    "import pandas as pd\n",
    "import numpy as np\n",
    "import os\n",
    "import sys\n",
    "import glob"
   ]
  },
  {
   "cell_type": "code",
   "execution_count": 2,
   "metadata": {},
   "outputs": [],
   "source": [
    "os.chdir(\"C:/Users/Ganesh P Umarani/Desktop/Dist CDO breakup rework/Distributor CDO Breakup Rework\")"
   ]
  },
  {
   "cell_type": "code",
   "execution_count": 3,
   "metadata": {},
   "outputs": [
    {
     "data": {
      "text/plain": [
       "['Master_Besse_Supply_distributor_file_with_cdo_mapping_HN.csv',\n",
       " 'Master_Medline_distributor_file_with_cdo_mapping_HN.csv',\n",
       " 'Master_Medline_distributor_file_with_cdo_mapping_HN_V3 (Q1 2018 done).csv',\n",
       " 'Master_msckesson_distributor_file_with_cdo_mapping_HN_V2.csv',\n",
       " 'Master_msckesson_speciality_healthcare_distributor_file_with_cdo_mapping_HN.csv',\n",
       " 'Master_Oncology_Supply_distributor_file_with_cdo_mapping_HN.csv',\n",
       " 'Optum Invoice Register 01.01.2018-06.05.2019_Primary_Key_assigned_with_cdo_mapping.csv']"
      ]
     },
     "execution_count": 3,
     "metadata": {},
     "output_type": "execute_result"
    }
   ],
   "source": [
    "glob.glob(\"*.*\")"
   ]
  },
  {
   "cell_type": "code",
   "execution_count": 56,
   "metadata": {},
   "outputs": [],
   "source": [
    "os.chdir(\"C:/Users/Ganesh P Umarani/Desktop/Dist CDO breakup rework/Distributor CDO Breakup Rework\")"
   ]
  },
  {
   "cell_type": "code",
   "execution_count": 4,
   "metadata": {},
   "outputs": [
    {
     "name": "stderr",
     "output_type": "stream",
     "text": [
      "c:\\users\\ganesh p umarani\\appdata\\local\\programs\\python\\python37\\lib\\site-packages\\IPython\\core\\interactiveshell.py:3058: DtypeWarning: Columns (0,1,4,5,10,12,15,17,22,24,25,26,32,35,37,41,43,44,45,49,52,53) have mixed types. Specify dtype option on import or set low_memory=False.\n",
      "  interactivity=interactivity, compiler=compiler, result=result)\n"
     ]
    }
   ],
   "source": [
    "dist_file=pd.read_csv('Master_Medline_distributor_file_with_cdo_mapping_HN_V3 (Q1 2018 done).csv')"
   ]
  },
  {
   "cell_type": "code",
   "execution_count": 5,
   "metadata": {},
   "outputs": [
    {
     "data": {
      "text/plain": [
       "Index([' Tax ', '11 Digit NDC Code', 'ADDRESS1', 'ADDRESS2', 'BILL',\n",
       "       'CATEGORY UPDATED', 'CDO', 'CONTRACT NUMBER', 'Category_SC', 'City',\n",
       "       'Commodity (Med Supplies, Vaccines, Pharma, Office Supplies)',\n",
       "       'Contract #', 'Contract Class of Trade', 'Contract Description',\n",
       "       'Contract Source', 'Contract Type', 'Contract Valid-To',\n",
       "       'Cost (Contracted)', 'Customer Line Num', 'DISTRIBUTOR',\n",
       "       'DISTRIBUTOR PRODUCT NUMBER', 'Division_SC', 'Dosage',\n",
       "       'Facility Grouping', 'Freight', 'Generic Description (Pharma Only)',\n",
       "       'High Level', 'Invoice Date', 'Invoice number', 'Manufacturer',\n",
       "       'Manufacturer Contract #', 'Manufacturer Part Number', 'OWNED BRAND',\n",
       "       'Order Method Desc', 'PO Number', 'Previous PRICE', 'Primary UOM',\n",
       "       'Primary UOM Quantity', 'Primary_Key', 'Product Description',\n",
       "       'Quantity', 'SHIP', 'SHIP NAME', 'START DATE', 'Secondary UOM',\n",
       "       'Source', 'State', 'Sub Category_SC', 'Tier', 'Tier 2', 'Time Frame',\n",
       "       'Total Cost', 'UHG Preferred', 'UNSPSC Comodity Code',\n",
       "       'Unit Price before Discount', 'Zip'],\n",
       "      dtype='object')"
      ]
     },
     "execution_count": 5,
     "metadata": {},
     "output_type": "execute_result"
    }
   ],
   "source": [
    "dist_file.columns"
   ]
  },
  {
   "cell_type": "code",
   "execution_count": 8,
   "metadata": {},
   "outputs": [
    {
     "data": {
      "text/plain": [
       "array(['SCA', 'MOUNTAIN WEST', 'TPC', 'WELLMED', nan,\n",
       "       'OPTUM CARE MEDICAL GROUP', 'PHNY', 'AHN', 'MEDEXPRESS'],\n",
       "      dtype=object)"
      ]
     },
     "execution_count": 8,
     "metadata": {},
     "output_type": "execute_result"
    }
   ],
   "source": [
    "dist_file['CDO'].unique()"
   ]
  },
  {
   "cell_type": "code",
   "execution_count": 7,
   "metadata": {},
   "outputs": [],
   "source": [
    "dist_file['CDO']=dist_file['CDO'].str.upper()"
   ]
  },
  {
   "cell_type": "code",
   "execution_count": null,
   "metadata": {},
   "outputs": [],
   "source": []
  },
  {
   "cell_type": "code",
   "execution_count": 13,
   "metadata": {},
   "outputs": [
    {
     "data": {
      "text/plain": [
       "216"
      ]
     },
     "execution_count": 13,
     "metadata": {},
     "output_type": "execute_result"
    }
   ],
   "source": [
    "len(OPTUM_CARE_MEDICAL_GROUP)"
   ]
  },
  {
   "cell_type": "code",
   "execution_count": 9,
   "metadata": {},
   "outputs": [],
   "source": [
    "# # PHNY=dist_file[dist_file.CDO == 'PHNY']\n",
    "# NEW_WEST=dist_file[dist_file.CDO == 'NEW WEST']\n",
    "# # USMD=dist_file[dist_file.CDO == 'USMD']\n",
    "MEDEXPRESS=dist_file[dist_file.CDO == 'MEDEXPRESS']\n",
    "# PHCT=dist_file[dist_file.CDO == 'PHCT']\n",
    "# # SCA=dist_file[dist_file.CDO == 'SCA']\n",
    "AHN=dist_file[dist_file.CDO == 'AHN']\n",
    "# RIVERSIDE=dist_file[dist_file.CDO == 'RIVERSIDE']\n",
    "# # # TPC=dist_file[dist_file.CDO == 'TPC']\n",
    "# RELIANT=dist_file[dist_file.CDO == 'RELIANT']\n",
    "# WELLMED=dist_file[dist_file.CDO == 'WELLMED']\n",
    "OPTUM_CARE_MEDICAL_GROUP=dist_file[dist_file.CDO == 'OPTUM CARE MEDICAL GROUP']\n",
    "# # # # # # TEC=dist_file[dist_file.CDO == 'TEC']\n",
    "# MOUNTAIN_WEST=dist_file[dist_file.CDO == 'MOUNTAIN WEST']"
   ]
  },
  {
   "cell_type": "code",
   "execution_count": 14,
   "metadata": {},
   "outputs": [],
   "source": [
    "os.chdir(\"C:/Users/Ganesh P Umarani/Desktop/Dist CDO breakup rework/Distributor CDO Breakup Rework/CDO_wise_break_up\")"
   ]
  },
  {
   "cell_type": "code",
   "execution_count": 15,
   "metadata": {},
   "outputs": [],
   "source": [
    "# # PHNY.to_csv(\"PHNY 5.csv\")\n",
    "# NEW_WEST.to_csv(\"NEW_WEST 3.csv\")\n",
    "# # USMD.to_csv(\"USMD 2.csv\")\n",
    "MEDEXPRESS.to_csv(\"MEDEXPRESS.csv\")\n",
    "# PHCT.to_csv(\"PHCT 1.csv\")\n",
    "# # SCA.to_csv(\"SCA 4.csv\")\n",
    "AHN.to_csv(\"AHN.csv\")\n",
    "# WELLMED.to_csv(\"WELLMED 4.csv\")\n",
    "OPTUM_CARE_MEDICAL_GROUP.to_csv(\"OPTUM_CARE_MEDICAL_GROUP.csv\")\n",
    "# RIVERSIDE.to_csv(\"RIVERSIDE 3.csv\")\n",
    "# RELIANT.to_csv(\"RELIANT 3.csv\")\n",
    "# # # TPC.to_csv(\"TPC 3.csv\")\n",
    "# # # # # # TEC.to_csv(\"TEC 1.csv\")\n",
    "# MOUNTAIN_WEST.to_csv(\"MOUNTAIN_WEST 5.csv\")"
   ]
  },
  {
   "cell_type": "markdown",
   "metadata": {},
   "source": [
    "MERGE ALL CDO DATA TO ONE MASTER FILE"
   ]
  },
  {
   "cell_type": "code",
   "execution_count": null,
   "metadata": {},
   "outputs": [],
   "source": []
  },
  {
   "cell_type": "code",
   "execution_count": null,
   "metadata": {},
   "outputs": [],
   "source": []
  },
  {
   "cell_type": "code",
   "execution_count": null,
   "metadata": {},
   "outputs": [],
   "source": []
  },
  {
   "cell_type": "code",
   "execution_count": null,
   "metadata": {},
   "outputs": [],
   "source": []
  },
  {
   "cell_type": "code",
   "execution_count": 16,
   "metadata": {},
   "outputs": [],
   "source": [
    "os.chdir(\"C:/Users/Ganesh P Umarani/Desktop/Dist CDO breakup rework/Distributor CDO Breakup Rework/CDO_wise_break_up\")"
   ]
  },
  {
   "cell_type": "code",
   "execution_count": 17,
   "metadata": {},
   "outputs": [
    {
     "data": {
      "text/plain": [
       "['AHN 1_v2.csv',\n",
       " 'AHN 2_v2.csv',\n",
       " 'AHN 3_v2.csv',\n",
       " 'AHN 4_v2.csv',\n",
       " 'AHN 5_v2.csv',\n",
       " 'AHN.csv',\n",
       " 'Master_AHN_from_dist_file_v2.csv',\n",
       " 'Master_AHN_from_dist_file_v2_no_duplicates.csv',\n",
       " 'Master_MEDEXPRESS_from_dist_file_v2.csv',\n",
       " 'Master_MEDEXPRESS_from_dist_file_v2_no_duplicates.csv',\n",
       " 'Master_NEW_WEST_from_dist_file_v2.csv',\n",
       " 'Master_NEW_WEST_from_dist_file_v2_no_duplicates.csv',\n",
       " 'Master_OPTUM_CARE_MEDICAL_GROUP_from_dist_file_v2.csv',\n",
       " 'Master_OPTUM_CARE_MEDICAL_GROUP_from_dist_file_v2_no_duplicates.csv',\n",
       " 'Master_PHCT_from_dist_file_v2_no_duplicates.csv',\n",
       " 'Master_RIVERSIDE_from_dist_file_v2.csv',\n",
       " 'Master_RIVERSIDE_from_dist_file_v2_no_duplicates.csv',\n",
       " 'MEDEXPRESS 1_v2.csv',\n",
       " 'MEDEXPRESS 2_v2.csv',\n",
       " 'MEDEXPRESS 3_v2.csv',\n",
       " 'MEDEXPRESS.csv',\n",
       " 'NEW_WEST 1_v2.csv',\n",
       " 'NEW_WEST 2_v2.csv',\n",
       " 'NEW_WEST 3_v2.csv',\n",
       " 'OPTUM_CARE_MEDICAL_GROUP 1_v2.csv',\n",
       " 'OPTUM_CARE_MEDICAL_GROUP 2_v2.csv',\n",
       " 'OPTUM_CARE_MEDICAL_GROUP 3_v2.csv',\n",
       " 'OPTUM_CARE_MEDICAL_GROUP.csv',\n",
       " 'PHCT 1_v2.csv',\n",
       " 'RIVERSIDE 1_v2.csv',\n",
       " 'RIVERSIDE 2_v2.csv',\n",
       " 'RIVERSIDE 3_v2.csv']"
      ]
     },
     "execution_count": 17,
     "metadata": {},
     "output_type": "execute_result"
    }
   ],
   "source": [
    "glob.glob(\"*.*\")"
   ]
  },
  {
   "cell_type": "code",
   "execution_count": 42,
   "metadata": {},
   "outputs": [],
   "source": [
    "small_data=pd.read_csv('OPTUM_CARE_MEDICAL_GROUP.csv')"
   ]
  },
  {
   "cell_type": "code",
   "execution_count": 45,
   "metadata": {},
   "outputs": [
    {
     "data": {
      "text/plain": [
       "Index([' Tax ', '11 Digit NDC Code', 'ADDRESS1', 'ADDRESS2', 'BILL',\n",
       "       'CATEGORY UPDATED', 'CDO', 'CONTRACT NUMBER', 'Category_SC', 'City',\n",
       "       'Commodity (Med Supplies, Vaccines, Pharma, Office Supplies)',\n",
       "       'Contract #', 'Contract Class of Trade', 'Contract Description',\n",
       "       'Contract Source', 'Contract Type', 'Contract Valid-To',\n",
       "       'Cost (Contracted)', 'Customer Line Num', 'DISTRIBUTOR',\n",
       "       'DISTRIBUTOR PRODUCT NUMBER', 'Division_SC', 'Dosage',\n",
       "       'Facility Grouping', 'Freight', 'Generic Description (Pharma Only)',\n",
       "       'High Level', 'Invoice Date', 'Invoice number', 'Manufacturer',\n",
       "       'Manufacturer Contract #', 'Manufacturer Part Number', 'OWNED BRAND',\n",
       "       'Order Method Desc', 'PO Number', 'Previous PRICE', 'Primary UOM',\n",
       "       'Primary UOM Quantity', 'Primary_Key', 'Product Description',\n",
       "       'Quantity', 'SHIP', 'SHIP NAME', 'START DATE', 'Secondary UOM',\n",
       "       'Source', 'State', 'Sub Category_SC', 'Tier', 'Tier 2', 'Time Frame',\n",
       "       'Total Cost', 'UHG Preferred', 'UNSPSC Comodity Code',\n",
       "       'Unit Price before Discount', 'Zip'],\n",
       "      dtype='object')"
      ]
     },
     "execution_count": 45,
     "metadata": {},
     "output_type": "execute_result"
    }
   ],
   "source": [
    "small_data.columns"
   ]
  },
  {
   "cell_type": "code",
   "execution_count": 44,
   "metadata": {},
   "outputs": [],
   "source": [
    "small_data.drop(labels=['Unnamed: 0'],axis=1,inplace=True)"
   ]
  },
  {
   "cell_type": "code",
   "execution_count": 46,
   "metadata": {},
   "outputs": [
    {
     "data": {
      "text/plain": [
       "56"
      ]
     },
     "execution_count": 46,
     "metadata": {},
     "output_type": "execute_result"
    }
   ],
   "source": [
    "len(small_data.columns.tolist())"
   ]
  },
  {
   "cell_type": "code",
   "execution_count": null,
   "metadata": {},
   "outputs": [],
   "source": []
  },
  {
   "cell_type": "code",
   "execution_count": null,
   "metadata": {},
   "outputs": [],
   "source": []
  },
  {
   "cell_type": "code",
   "execution_count": null,
   "metadata": {},
   "outputs": [],
   "source": []
  },
  {
   "cell_type": "code",
   "execution_count": 186,
   "metadata": {},
   "outputs": [],
   "source": [
    "# col_names=['Primary_Key', 'Time Frame', 'DISTRIBUTOR', 'Facility Grouping',\n",
    "#        'DISTRIBUTOR PRODUCT NUMBER', '11 Digit NDC Code',\n",
    "#        'Product Description', 'UHG Preferred', 'Generic Description',\n",
    "#        'Manufacturer Part Number', 'Manufacturer', 'U', 'O', 'Primary UOM',\n",
    "#        'Atomic UOM (oz, dose,ml)', 'Cost (Contracted WAC)',\n",
    "#        'Unit Price before Discount', 'Quantity', 'Total Cost', 'Contract Type',\n",
    "#        'Contract Source', 'Contract Class of Trade', 'CONTRACT NUMBER',\n",
    "#        'Contract Tier', 'Contract Description', 'Contract Valid-To',\n",
    "#        'Manufacturer Contract #', 'Commodity_SC', 'Division (High Level)',\n",
    "#        'Category', 'Sub Category', 'Previous Price', 'Start Date',\n",
    "#        'Contract #', 'Tier 2', 'Source', 'Owned Brand', 'Category updated',\n",
    "#        'High Level', 'Bill', 'Ship', 'Ship Name', 'Addr1', 'Addr2', 'City1',\n",
    "#        'State', 'ZipCd', 'Invoice Date', 'PO Number', 'Order Method Desc',\n",
    "#        'Tax', 'Customer Line Num', 'Invoice number', 'UNSPSC Comodity Code',\n",
    "#        'HCPC', 'CDO']"
   ]
  },
  {
   "cell_type": "code",
   "execution_count": 187,
   "metadata": {},
   "outputs": [],
   "source": [
    "# big_data=pd.DataFrame(columns=col_names)"
   ]
  },
  {
   "cell_type": "code",
   "execution_count": 47,
   "metadata": {},
   "outputs": [
    {
     "name": "stderr",
     "output_type": "stream",
     "text": [
      "c:\\users\\ganesh p umarani\\appdata\\local\\programs\\python\\python37\\lib\\site-packages\\IPython\\core\\interactiveshell.py:3058: DtypeWarning: Columns (1,5,6,7,10,12,13,14,17,18,20,21,24,28,29,31,32,33,35,37,38,39,40,41,48,51,53,54,60,65,66,67,69,73,76,77,78,81) have mixed types. Specify dtype option on import or set low_memory=False.\n",
      "  interactivity=interactivity, compiler=compiler, result=result)\n"
     ]
    }
   ],
   "source": [
    "big_data=pd.read_csv('Master_OPTUM_CARE_MEDICAL_GROUP_from_dist_file_v2.csv')"
   ]
  },
  {
   "cell_type": "code",
   "execution_count": 48,
   "metadata": {},
   "outputs": [
    {
     "data": {
      "text/plain": [
       "82"
      ]
     },
     "execution_count": 48,
     "metadata": {},
     "output_type": "execute_result"
    }
   ],
   "source": [
    "len(big_data.columns.tolist())"
   ]
  },
  {
   "cell_type": "code",
   "execution_count": 49,
   "metadata": {},
   "outputs": [
    {
     "data": {
      "text/plain": [
       "11236"
      ]
     },
     "execution_count": 49,
     "metadata": {},
     "output_type": "execute_result"
    }
   ],
   "source": [
    "len(big_data)"
   ]
  },
  {
   "cell_type": "code",
   "execution_count": 50,
   "metadata": {},
   "outputs": [
    {
     "data": {
      "text/plain": [
       "216"
      ]
     },
     "execution_count": 50,
     "metadata": {},
     "output_type": "execute_result"
    }
   ],
   "source": [
    "len(small_data)"
   ]
  },
  {
   "cell_type": "code",
   "execution_count": null,
   "metadata": {},
   "outputs": [],
   "source": []
  },
  {
   "cell_type": "code",
   "execution_count": 51,
   "metadata": {},
   "outputs": [
    {
     "name": "stderr",
     "output_type": "stream",
     "text": [
      "c:\\users\\ganesh p umarani\\appdata\\local\\programs\\python\\python37\\lib\\site-packages\\ipykernel_launcher.py:1: FutureWarning: Sorting because non-concatenation axis is not aligned. A future version\n",
      "of pandas will change to not sort by default.\n",
      "\n",
      "To accept the future behavior, pass 'sort=False'.\n",
      "\n",
      "To retain the current behavior and silence the warning, pass 'sort=True'.\n",
      "\n",
      "  \"\"\"Entry point for launching an IPython kernel.\n"
     ]
    }
   ],
   "source": [
    "big_data=pd.concat(objs=[big_data,small_data],ignore_index=True,axis=0)"
   ]
  },
  {
   "cell_type": "code",
   "execution_count": 52,
   "metadata": {},
   "outputs": [
    {
     "data": {
      "text/plain": [
       "11452"
      ]
     },
     "execution_count": 52,
     "metadata": {},
     "output_type": "execute_result"
    }
   ],
   "source": [
    "len(big_data)"
   ]
  },
  {
   "cell_type": "code",
   "execution_count": null,
   "metadata": {},
   "outputs": [],
   "source": []
  },
  {
   "cell_type": "code",
   "execution_count": null,
   "metadata": {},
   "outputs": [],
   "source": []
  },
  {
   "cell_type": "code",
   "execution_count": null,
   "metadata": {},
   "outputs": [],
   "source": []
  },
  {
   "cell_type": "code",
   "execution_count": null,
   "metadata": {},
   "outputs": [],
   "source": []
  },
  {
   "cell_type": "code",
   "execution_count": 53,
   "metadata": {},
   "outputs": [],
   "source": [
    "big_data.to_csv('Master_OPTUM_CARE_MEDICAL_GROUP_from_dist_file_v3.csv')"
   ]
  },
  {
   "cell_type": "code",
   "execution_count": null,
   "metadata": {},
   "outputs": [],
   "source": []
  },
  {
   "cell_type": "code",
   "execution_count": null,
   "metadata": {},
   "outputs": [],
   "source": []
  },
  {
   "cell_type": "markdown",
   "metadata": {},
   "source": [
    "# Each CDO Master file drop duplicates"
   ]
  },
  {
   "cell_type": "code",
   "execution_count": 54,
   "metadata": {},
   "outputs": [],
   "source": [
    "os.chdir(\"C:/Users/Ganesh P Umarani/Desktop/Dist CDO breakup rework/Distributor CDO Breakup Rework/CDO_wise_break_up\")"
   ]
  },
  {
   "cell_type": "code",
   "execution_count": 55,
   "metadata": {},
   "outputs": [
    {
     "data": {
      "text/plain": [
       "['AHN 1_v2.csv',\n",
       " 'AHN 2_v2.csv',\n",
       " 'AHN 3_v2.csv',\n",
       " 'AHN 4_v2.csv',\n",
       " 'AHN 5_v2.csv',\n",
       " 'AHN.csv',\n",
       " 'Master_AHN_from_dist_file_v2.csv',\n",
       " 'Master_AHN_from_dist_file_v2_no_duplicates.csv',\n",
       " 'Master_AHN_from_dist_file_v3.csv',\n",
       " 'Master_MEDEXPRESS_from_dist_file_v2.csv',\n",
       " 'Master_MEDEXPRESS_from_dist_file_v2_no_duplicates.csv',\n",
       " 'Master_MEDEXPRESS_from_dist_file_v3.csv',\n",
       " 'Master_NEW_WEST_from_dist_file_v2.csv',\n",
       " 'Master_NEW_WEST_from_dist_file_v2_no_duplicates.csv',\n",
       " 'Master_OPTUM_CARE_MEDICAL_GROUP_from_dist_file_v2.csv',\n",
       " 'Master_OPTUM_CARE_MEDICAL_GROUP_from_dist_file_v2_no_duplicates.csv',\n",
       " 'Master_OPTUM_CARE_MEDICAL_GROUP_from_dist_file_v3.csv',\n",
       " 'Master_PHCT_from_dist_file_v2_no_duplicates.csv',\n",
       " 'Master_RIVERSIDE_from_dist_file_v2.csv',\n",
       " 'Master_RIVERSIDE_from_dist_file_v2_no_duplicates.csv',\n",
       " 'MEDEXPRESS 1_v2.csv',\n",
       " 'MEDEXPRESS 2_v2.csv',\n",
       " 'MEDEXPRESS 3_v2.csv',\n",
       " 'MEDEXPRESS.csv',\n",
       " 'NEW_WEST 1_v2.csv',\n",
       " 'NEW_WEST 2_v2.csv',\n",
       " 'NEW_WEST 3_v2.csv',\n",
       " 'OPTUM_CARE_MEDICAL_GROUP 1_v2.csv',\n",
       " 'OPTUM_CARE_MEDICAL_GROUP 2_v2.csv',\n",
       " 'OPTUM_CARE_MEDICAL_GROUP 3_v2.csv',\n",
       " 'OPTUM_CARE_MEDICAL_GROUP.csv',\n",
       " 'PHCT 1_v2.csv',\n",
       " 'RIVERSIDE 1_v2.csv',\n",
       " 'RIVERSIDE 2_v2.csv',\n",
       " 'RIVERSIDE 3_v2.csv']"
      ]
     },
     "execution_count": 55,
     "metadata": {},
     "output_type": "execute_result"
    }
   ],
   "source": [
    "glob.glob(\"*.*\")"
   ]
  },
  {
   "cell_type": "code",
   "execution_count": 70,
   "metadata": {},
   "outputs": [
    {
     "name": "stderr",
     "output_type": "stream",
     "text": [
      "c:\\users\\ganesh p umarani\\appdata\\local\\programs\\python\\python37\\lib\\site-packages\\IPython\\core\\interactiveshell.py:3058: DtypeWarning: Columns (5,6,7,13,14,17,20,24,29,32,35,38,40,48,51,54,65,67,69,76,82) have mixed types. Specify dtype option on import or set low_memory=False.\n",
      "  interactivity=interactivity, compiler=compiler, result=result)\n"
     ]
    }
   ],
   "source": [
    "master_file=pd.read_csv('Master_OPTUM_CARE_MEDICAL_GROUP_from_dist_file_v3.csv')"
   ]
  },
  {
   "cell_type": "code",
   "execution_count": 71,
   "metadata": {},
   "outputs": [],
   "source": [
    "master_file.drop(labels=['Unnamed: 0'],axis=1,inplace=True)"
   ]
  },
  {
   "cell_type": "code",
   "execution_count": 72,
   "metadata": {},
   "outputs": [
    {
     "data": {
      "text/plain": [
       "Index([' Tax ', '11 Digit NDC Code', 'ADDRESS1', 'ADDRESS2', 'Addr1', 'Addr2',\n",
       "       'Atomic UOM (oz, dose,ml)', 'BILL', 'Bill', 'CATEGORY UPDATED', 'CDO',\n",
       "       'CONTRACT NUMBER', 'Category', 'Category updated', 'Category_SC',\n",
       "       'City', 'City1',\n",
       "       'Commodity (Med Supplies, Vaccines, Pharma, Office Supplies)',\n",
       "       'Commodity_SC', 'Contract #', 'Contract Class of Trade',\n",
       "       'Contract Description', 'Contract Source', 'Contract Tier',\n",
       "       'Contract Type', 'Contract Valid-To', 'Cost (Contracted WAC)',\n",
       "       'Cost (Contracted)', 'Customer Line Num', 'DISTRIBUTOR',\n",
       "       'DISTRIBUTOR PRODUCT NUMBER', 'Division (High Level)', 'Division_SC',\n",
       "       'Dosage', 'Facility', 'Facility Grouping', 'Freight',\n",
       "       'Generic Description', 'Generic Description (Pharma Only)', 'HCPC',\n",
       "       'High Level', 'Invoice Date', 'Invoice Price', 'Invoice number',\n",
       "       'Manufacturer', 'Manufacturer Contract #', 'Manufacturer Part Number',\n",
       "       'O', 'OWNED BRAND', 'Order Method Desc', 'Owned Brand', 'PO Number',\n",
       "       'Previous PRICE', 'Previous Price', 'Primary UOM',\n",
       "       'Primary UOM Quantity', 'Primary_Key', 'Product Description',\n",
       "       'Quantity', 'SHIP', 'SHIP NAME', 'START DATE', 'Secondary UOM', 'Ship',\n",
       "       'Ship Name', 'Source', 'Start Date', 'State', 'Sub Category',\n",
       "       'Sub Category_SC', 'Tax', 'Tier', 'Tier 2', 'Time Frame', 'Total Cost',\n",
       "       'U', 'UHG Preferred', 'UNSPSC Comodity Code',\n",
       "       'Unit Price before Discount', 'Unnamed: 0.1', 'Zip', 'ZipCd'],\n",
       "      dtype='object')"
      ]
     },
     "execution_count": 72,
     "metadata": {},
     "output_type": "execute_result"
    }
   ],
   "source": [
    "master_file.columns"
   ]
  },
  {
   "cell_type": "code",
   "execution_count": 73,
   "metadata": {},
   "outputs": [
    {
     "data": {
      "text/plain": [
       "11452"
      ]
     },
     "execution_count": 73,
     "metadata": {},
     "output_type": "execute_result"
    }
   ],
   "source": [
    "len(master_file)"
   ]
  },
  {
   "cell_type": "code",
   "execution_count": 74,
   "metadata": {},
   "outputs": [],
   "source": [
    "non_dup=master_file.drop_duplicates(subset=['DISTRIBUTOR',\n",
    "       'DISTRIBUTOR PRODUCT NUMBER','Manufacturer','Manufacturer Part Number','Product Description'],keep='first')"
   ]
  },
  {
   "cell_type": "code",
   "execution_count": 75,
   "metadata": {},
   "outputs": [
    {
     "data": {
      "text/plain": [
       "2417"
      ]
     },
     "execution_count": 75,
     "metadata": {},
     "output_type": "execute_result"
    }
   ],
   "source": [
    "len(non_dup)"
   ]
  },
  {
   "cell_type": "code",
   "execution_count": 76,
   "metadata": {},
   "outputs": [],
   "source": [
    "non_dup.to_csv('Master_OPTUM_CARE_MEDICAL_GROUP_from_dist_file_v3_no_duplicates.csv')"
   ]
  },
  {
   "cell_type": "code",
   "execution_count": null,
   "metadata": {},
   "outputs": [],
   "source": []
  },
  {
   "cell_type": "code",
   "execution_count": null,
   "metadata": {},
   "outputs": [],
   "source": []
  },
  {
   "cell_type": "code",
   "execution_count": null,
   "metadata": {},
   "outputs": [],
   "source": []
  },
  {
   "cell_type": "markdown",
   "metadata": {},
   "source": [
    "# Supplier and Mfg wise Spend and unique line items count"
   ]
  },
  {
   "cell_type": "code",
   "execution_count": 2,
   "metadata": {},
   "outputs": [],
   "source": [
    "os.chdir(\"C:/Users/Ganesh P Umarani/Desktop/Optum/Ganesh_Merged_Files/Merged files duplicates\")"
   ]
  },
  {
   "cell_type": "code",
   "execution_count": 3,
   "metadata": {},
   "outputs": [
    {
     "data": {
      "text/plain": [
       "['All_files_merged_with_spend.csv',\n",
       " 'DMG_Merged_010118_300619.csv',\n",
       " 'Gap_Spend.xlsx',\n",
       " 'MountainWest_Merge_010118_310519.csv',\n",
       " 'PHNY_Merged_010918_310519.csv',\n",
       " 'Reliant_Merged_010118_311218 (2).csv',\n",
       " 'Reliant_Merged_010619_300619.csv',\n",
       " 'Reliant_Merged_010719_310719.csv',\n",
       " 'Reliant_Merged_all.xlsx',\n",
       " 'SCA_Cardinal.csv',\n",
       " 'TEC_010118_310719.csv',\n",
       " 'TPC_Merged_010118_311218.csv',\n",
       " 'USMDCoupa_Merged_010219_310519.csv',\n",
       " 'USMDNetsuite_Merged_010119_310119.csv',\n",
       " 'WellMed_Merge_01012018_05312019.csv']"
      ]
     },
     "execution_count": 3,
     "metadata": {},
     "output_type": "execute_result"
    }
   ],
   "source": [
    "glob.glob(\"*.*\")"
   ]
  },
  {
   "cell_type": "code",
   "execution_count": 4,
   "metadata": {},
   "outputs": [],
   "source": [
    "merged_file=pd.read_csv('PHNY_Merged_010918_310519.csv')"
   ]
  },
  {
   "cell_type": "code",
   "execution_count": 7,
   "metadata": {},
   "outputs": [
    {
     "data": {
      "text/plain": [
       "Index(['Unnamed: 0', 'Primary_Key_x', 'Primary UOM_x', 'Tax',\n",
       "       'DISTRIBUTOR PRODUCT NUMBER_x', 'Freight', 'Product Description_x',\n",
       "       'Final_Cost_x', 'Quantity_x', 'CONTRACT NUMBER', 'Invoice number',\n",
       "       'PO Line #', 'Commodity_SC', 'Invoice Date', 'DISTRIBUTOR_x',\n",
       "       'PO Number_x', 'Concat', 'Primary_Key_y', 'Primary UOM_y',\n",
       "       'Final_Cost_y', 'PO Number_y', 'Line', 'DISTRIBUTOR_y',\n",
       "       'DISTRIBUTOR PRODUCT NUMBER_y', 'Product Description_y',\n",
       "       'Unit Price before Discount', 'Quantity_y'],\n",
       "      dtype='object')"
      ]
     },
     "execution_count": 7,
     "metadata": {},
     "output_type": "execute_result"
    }
   ],
   "source": [
    "merged_file.columns"
   ]
  },
  {
   "cell_type": "code",
   "execution_count": 8,
   "metadata": {},
   "outputs": [],
   "source": [
    "# Supplier wise spend\n",
    "supp_wise_spend=merged_file.groupby(['DISTRIBUTOR_x'])['Final_Cost_x'].sum().to_frame().reset_index()"
   ]
  },
  {
   "cell_type": "code",
   "execution_count": 647,
   "metadata": {},
   "outputs": [],
   "source": [
    "# Mfg wise spend\n",
    "mfg_wise_spend=merged_file.groupby(['Manufacturer_x'])['Final_Cost_x'].sum().to_frame().reset_index()"
   ]
  },
  {
   "cell_type": "code",
   "execution_count": null,
   "metadata": {},
   "outputs": [],
   "source": []
  },
  {
   "cell_type": "code",
   "execution_count": 10,
   "metadata": {},
   "outputs": [],
   "source": [
    "df_list=[supp_wise_spend,mfg_wise_spend]"
   ]
  },
  {
   "cell_type": "code",
   "execution_count": 11,
   "metadata": {},
   "outputs": [],
   "source": [
    "writer = pd.ExcelWriter('PHNY_Merged_010918_310519_numbers.xlsx')\n",
    "for i, df in enumerate(df_list):\n",
    "    df.to_excel(writer,'sheet{}'.format(i))\n",
    "writer.save()"
   ]
  },
  {
   "cell_type": "code",
   "execution_count": null,
   "metadata": {},
   "outputs": [],
   "source": []
  },
  {
   "cell_type": "code",
   "execution_count": null,
   "metadata": {},
   "outputs": [],
   "source": []
  },
  {
   "cell_type": "markdown",
   "metadata": {},
   "source": [
    "# Extract 5 + Primary Key+spend data from merged files to one file"
   ]
  },
  {
   "cell_type": "code",
   "execution_count": 404,
   "metadata": {},
   "outputs": [],
   "source": [
    "os.chdir(\"C:/Users/Ganesh P Umarani/Desktop/Optum/Ganesh_Merged_Files/Merged files duplicates\")"
   ]
  },
  {
   "cell_type": "code",
   "execution_count": 405,
   "metadata": {},
   "outputs": [],
   "source": [
    "master_file=pd.DataFrame(columns=['Primary_Key_x','Distributor_x',\n",
    "                                 'Dist_part_num_x','Manufacturer_x',\n",
    "                                 'Mfg_part_num_x','Prod_desc_x','Final_cost_x'])"
   ]
  },
  {
   "cell_type": "code",
   "execution_count": null,
   "metadata": {},
   "outputs": [],
   "source": []
  },
  {
   "cell_type": "code",
   "execution_count": null,
   "metadata": {},
   "outputs": [],
   "source": []
  },
  {
   "cell_type": "code",
   "execution_count": 406,
   "metadata": {},
   "outputs": [
    {
     "data": {
      "text/plain": [
       "['DMG_Merged_010118_300619.csv',\n",
       " 'Gap_Spend.xlsx',\n",
       " 'MountainWest_Merge_010118_310519.csv',\n",
       " 'PHNY_Merged_010918_310519.csv',\n",
       " 'Reliant_Merged_010118_311218 (2).csv',\n",
       " 'Reliant_Merged_010619_300619.csv',\n",
       " 'Reliant_Merged_010719_310719.csv',\n",
       " 'Reliant_Merged_all.xlsx',\n",
       " 'SCA_Cardinal.csv',\n",
       " 'TEC_010118_310719.csv',\n",
       " 'TPC_Merged_010118_311218.csv',\n",
       " 'USMDCoupa_Merged_010219_310519.csv',\n",
       " 'USMDNetsuite_Merged_010119_310119.csv',\n",
       " 'WellMed_Merge_01012018_05312019.csv']"
      ]
     },
     "execution_count": 406,
     "metadata": {},
     "output_type": "execute_result"
    }
   ],
   "source": [
    "glob.glob(\"*.*\")"
   ]
  },
  {
   "cell_type": "code",
   "execution_count": 515,
   "metadata": {},
   "outputs": [],
   "source": [
    "main_file=pd.read_excel('Reliant_Merged_all.xlsx')"
   ]
  },
  {
   "cell_type": "code",
   "execution_count": 518,
   "metadata": {},
   "outputs": [
    {
     "data": {
      "text/plain": [
       "Index(['Primary_Key_x', 'Invoice Date', 'PO Number_x', 'Distributor_x',\n",
       "       'Manufacturer_x', 'Invoice Number', 'CONTRACT NUMBER',\n",
       "       'Dist_part_num_x', 'Mfg_part_num_x', 'Product Code', 'Concat',\n",
       "       'Prod_desc_x', 'UNSPSC_Segment_Code_x', '11 Digit NDC Code_x',\n",
       "       'Primary UOM_x', 'Primary UOM Qty_x', 'Quantity_x',\n",
       "       'Unit Price after Discount', 'Final_cost_x', 'Tax', 'Freight',\n",
       "       'Facility_x', 'HOSPITAL DEPARTMENTS_x', 'Tax.1', 'Primary_Key_y',\n",
       "       'PO Number_y', 'DISTRIBUTOR_y', 'Manufacturer_y',\n",
       "       'DISTRIBUTOR PRODUCT NUMBER_y', 'Manufacturer Part Number_y',\n",
       "       'Product Code_y', 'Product Description_y', 'UNSPSC_Segment_Code_y',\n",
       "       '11 Digit NDC Code_y', 'Primary UOM_y', 'Primary UOM Qty', 'Quantity_y',\n",
       "       'Unit Price before Discount', 'Final_Cost', 'Facility_y',\n",
       "       'HOSPITAL DEPARTMENTS_y'],\n",
       "      dtype='object')"
      ]
     },
     "execution_count": 518,
     "metadata": {},
     "output_type": "execute_result"
    }
   ],
   "source": [
    "main_file.columns"
   ]
  },
  {
   "cell_type": "code",
   "execution_count": 517,
   "metadata": {},
   "outputs": [],
   "source": [
    "main_file.rename({'Primary_Key_x':'Primary_Key_x',\n",
    "                  'DISTRIBUTOR_x':'Distributor_x',\n",
    "                  'DISTRIBUTOR PRODUCT NUMBER_x':'Dist_part_num_x',\n",
    "                  'Manufacturer_x':'Manufacturer_x',\n",
    "                  'Manufacturer Part Number_x':'Mfg_part_num_x',\n",
    "                'Product Description_x':'Prod_desc_x',\n",
    "                 'Final_Cost ':'Final_cost_x'},axis=1,inplace=True)"
   ]
  },
  {
   "cell_type": "code",
   "execution_count": 519,
   "metadata": {},
   "outputs": [],
   "source": [
    "extracted_file=main_file[['Primary_Key_x','Distributor_x','Dist_part_num_x',\n",
    "                          'Manufacturer_x','Mfg_part_num_x','Prod_desc_x','Final_cost_x']]"
   ]
  },
  {
   "cell_type": "code",
   "execution_count": 520,
   "metadata": {},
   "outputs": [
    {
     "data": {
      "text/plain": [
       "144746"
      ]
     },
     "execution_count": 520,
     "metadata": {},
     "output_type": "execute_result"
    }
   ],
   "source": [
    "len(extracted_file)"
   ]
  },
  {
   "cell_type": "code",
   "execution_count": 521,
   "metadata": {},
   "outputs": [],
   "source": [
    "master_file=master_file.append(extracted_file,ignore_index=True)"
   ]
  },
  {
   "cell_type": "code",
   "execution_count": 522,
   "metadata": {},
   "outputs": [
    {
     "data": {
      "text/plain": [
       "Index(['Dist_part_num_x', 'Distributor_x', 'Final_cost_x', 'Manufacturer_x',\n",
       "       'Mfg_part_num_x', 'Primary_Key_x', 'Prod_desc_x'],\n",
       "      dtype='object')"
      ]
     },
     "execution_count": 522,
     "metadata": {},
     "output_type": "execute_result"
    }
   ],
   "source": [
    "master_file.columns"
   ]
  },
  {
   "cell_type": "code",
   "execution_count": 523,
   "metadata": {},
   "outputs": [
    {
     "data": {
      "text/plain": [
       "2253291"
      ]
     },
     "execution_count": 523,
     "metadata": {},
     "output_type": "execute_result"
    }
   ],
   "source": [
    "len(master_file)"
   ]
  },
  {
   "cell_type": "code",
   "execution_count": 524,
   "metadata": {},
   "outputs": [
    {
     "data": {
      "text/html": [
       "<div>\n",
       "<style scoped>\n",
       "    .dataframe tbody tr th:only-of-type {\n",
       "        vertical-align: middle;\n",
       "    }\n",
       "\n",
       "    .dataframe tbody tr th {\n",
       "        vertical-align: top;\n",
       "    }\n",
       "\n",
       "    .dataframe thead th {\n",
       "        text-align: right;\n",
       "    }\n",
       "</style>\n",
       "<table border=\"1\" class=\"dataframe\">\n",
       "  <thead>\n",
       "    <tr style=\"text-align: right;\">\n",
       "      <th></th>\n",
       "      <th>Dist_part_num_x</th>\n",
       "      <th>Distributor_x</th>\n",
       "      <th>Final_cost_x</th>\n",
       "      <th>Manufacturer_x</th>\n",
       "      <th>Mfg_part_num_x</th>\n",
       "      <th>Primary_Key_x</th>\n",
       "      <th>Prod_desc_x</th>\n",
       "    </tr>\n",
       "  </thead>\n",
       "  <tbody>\n",
       "    <tr>\n",
       "      <th>2253286</th>\n",
       "      <td>NaN</td>\n",
       "      <td>CERIDIAN CORPORATION</td>\n",
       "      <td>469.66</td>\n",
       "      <td>NaN</td>\n",
       "      <td>NaN</td>\n",
       "      <td>Reliant_SC6-14255</td>\n",
       "      <td>MISC LEGAL NCO</td>\n",
       "    </tr>\n",
       "    <tr>\n",
       "      <th>2253287</th>\n",
       "      <td>NaN</td>\n",
       "      <td>CERIDIAN CORPORATION</td>\n",
       "      <td>1181.06</td>\n",
       "      <td>NaN</td>\n",
       "      <td>NaN</td>\n",
       "      <td>Reliant_SC6-14256</td>\n",
       "      <td>NaN</td>\n",
       "    </tr>\n",
       "    <tr>\n",
       "      <th>2253288</th>\n",
       "      <td>NaN</td>\n",
       "      <td>INTEGRO USA INC</td>\n",
       "      <td>9458.20</td>\n",
       "      <td>NaN</td>\n",
       "      <td>NaN</td>\n",
       "      <td>Reliant_SC6-14257</td>\n",
       "      <td>TUFTS COMM</td>\n",
       "    </tr>\n",
       "    <tr>\n",
       "      <th>2253289</th>\n",
       "      <td>NaN</td>\n",
       "      <td>INTEGRO USA INC</td>\n",
       "      <td>13045.40</td>\n",
       "      <td>NaN</td>\n",
       "      <td>NaN</td>\n",
       "      <td>Reliant_SC6-14258</td>\n",
       "      <td>HPHC COMM</td>\n",
       "    </tr>\n",
       "    <tr>\n",
       "      <th>2253290</th>\n",
       "      <td>NaN</td>\n",
       "      <td>INTEGRO USA INC</td>\n",
       "      <td>5015.52</td>\n",
       "      <td>NaN</td>\n",
       "      <td>NaN</td>\n",
       "      <td>Reliant_SC6-14259</td>\n",
       "      <td>TUFTS MEDICARE</td>\n",
       "    </tr>\n",
       "  </tbody>\n",
       "</table>\n",
       "</div>"
      ],
      "text/plain": [
       "        Dist_part_num_x         Distributor_x  Final_cost_x Manufacturer_x  \\\n",
       "2253286             NaN  CERIDIAN CORPORATION        469.66            NaN   \n",
       "2253287             NaN  CERIDIAN CORPORATION       1181.06            NaN   \n",
       "2253288             NaN       INTEGRO USA INC       9458.20            NaN   \n",
       "2253289             NaN       INTEGRO USA INC      13045.40            NaN   \n",
       "2253290             NaN       INTEGRO USA INC       5015.52            NaN   \n",
       "\n",
       "        Mfg_part_num_x      Primary_Key_x     Prod_desc_x  \n",
       "2253286            NaN  Reliant_SC6-14255  MISC LEGAL NCO  \n",
       "2253287            NaN  Reliant_SC6-14256             NaN  \n",
       "2253288            NaN  Reliant_SC6-14257      TUFTS COMM  \n",
       "2253289            NaN  Reliant_SC6-14258       HPHC COMM  \n",
       "2253290            NaN  Reliant_SC6-14259  TUFTS MEDICARE  "
      ]
     },
     "execution_count": 524,
     "metadata": {},
     "output_type": "execute_result"
    }
   ],
   "source": [
    "master_file.tail()"
   ]
  },
  {
   "cell_type": "code",
   "execution_count": null,
   "metadata": {},
   "outputs": [],
   "source": []
  },
  {
   "cell_type": "code",
   "execution_count": 439,
   "metadata": {},
   "outputs": [],
   "source": [
    "master_file.drop([1241976,1241977,1241978],axis=0,inplace=True)"
   ]
  },
  {
   "cell_type": "code",
   "execution_count": null,
   "metadata": {},
   "outputs": [],
   "source": []
  },
  {
   "cell_type": "code",
   "execution_count": 525,
   "metadata": {},
   "outputs": [],
   "source": [
    "master_file_copy=master_file.copy()"
   ]
  },
  {
   "cell_type": "code",
   "execution_count": 526,
   "metadata": {},
   "outputs": [
    {
     "data": {
      "text/plain": [
       "2253291"
      ]
     },
     "execution_count": 526,
     "metadata": {},
     "output_type": "execute_result"
    }
   ],
   "source": [
    "len(master_file_copy)"
   ]
  },
  {
   "cell_type": "code",
   "execution_count": 527,
   "metadata": {},
   "outputs": [
    {
     "data": {
      "text/plain": [
       "2253291"
      ]
     },
     "execution_count": 527,
     "metadata": {},
     "output_type": "execute_result"
    }
   ],
   "source": [
    "len(master_file)"
   ]
  },
  {
   "cell_type": "code",
   "execution_count": 538,
   "metadata": {},
   "outputs": [],
   "source": [
    "master_file['Final_cost_x']=master_file['Final_cost_x'].astype(float)"
   ]
  },
  {
   "cell_type": "code",
   "execution_count": null,
   "metadata": {},
   "outputs": [],
   "source": []
  },
  {
   "cell_type": "code",
   "execution_count": null,
   "metadata": {},
   "outputs": [],
   "source": []
  },
  {
   "cell_type": "code",
   "execution_count": 530,
   "metadata": {},
   "outputs": [],
   "source": [
    "master_file.to_csv(\"All_files_merged_with_spend_new_1.csv\")"
   ]
  },
  {
   "cell_type": "code",
   "execution_count": null,
   "metadata": {},
   "outputs": [],
   "source": []
  },
  {
   "cell_type": "code",
   "execution_count": null,
   "metadata": {},
   "outputs": [],
   "source": []
  },
  {
   "cell_type": "code",
   "execution_count": null,
   "metadata": {},
   "outputs": [],
   "source": []
  },
  {
   "cell_type": "markdown",
   "metadata": {},
   "source": [
    "# Drop duplicating on all merged file"
   ]
  },
  {
   "cell_type": "code",
   "execution_count": null,
   "metadata": {},
   "outputs": [],
   "source": []
  },
  {
   "cell_type": "code",
   "execution_count": 539,
   "metadata": {},
   "outputs": [
    {
     "data": {
      "text/plain": [
       "Dist_part_num_x     object\n",
       "Distributor_x       object\n",
       "Final_cost_x       float64\n",
       "Manufacturer_x      object\n",
       "Mfg_part_num_x      object\n",
       "Primary_Key_x       object\n",
       "Prod_desc_x         object\n",
       "dtype: object"
      ]
     },
     "execution_count": 539,
     "metadata": {},
     "output_type": "execute_result"
    }
   ],
   "source": [
    "master_file.dtypes"
   ]
  },
  {
   "cell_type": "code",
   "execution_count": 536,
   "metadata": {},
   "outputs": [],
   "source": [
    "master_file.replace(to_replace=np.nan,value='NAN',inplace=True)"
   ]
  },
  {
   "cell_type": "code",
   "execution_count": null,
   "metadata": {},
   "outputs": [],
   "source": []
  },
  {
   "cell_type": "code",
   "execution_count": 540,
   "metadata": {},
   "outputs": [],
   "source": [
    "master_file_no_dup=master_file.groupby(['Dist_part_num_x', 'Distributor_x','Manufacturer_x',\n",
    "                                        'Mfg_part_num_x','Prod_desc_x']).agg({'Primary_Key_x':','.join ,'Final_cost_x':sum})"
   ]
  },
  {
   "cell_type": "code",
   "execution_count": 541,
   "metadata": {},
   "outputs": [
    {
     "data": {
      "text/plain": [
       "325075"
      ]
     },
     "execution_count": 541,
     "metadata": {},
     "output_type": "execute_result"
    }
   ],
   "source": [
    "len(master_file_no_dup)"
   ]
  },
  {
   "cell_type": "code",
   "execution_count": 542,
   "metadata": {},
   "outputs": [],
   "source": [
    "master_file_no_dup=master_file_no_dup.reset_index()"
   ]
  },
  {
   "cell_type": "code",
   "execution_count": 543,
   "metadata": {},
   "outputs": [],
   "source": [
    "master_file_no_dup.replace(to_replace='NAN',value=np.nan,inplace=True)"
   ]
  },
  {
   "cell_type": "code",
   "execution_count": 544,
   "metadata": {},
   "outputs": [
    {
     "data": {
      "text/plain": [
       "325075"
      ]
     },
     "execution_count": 544,
     "metadata": {},
     "output_type": "execute_result"
    }
   ],
   "source": [
    "len(master_file_no_dup)"
   ]
  },
  {
   "cell_type": "code",
   "execution_count": 545,
   "metadata": {},
   "outputs": [],
   "source": []
  },
  {
   "cell_type": "code",
   "execution_count": 548,
   "metadata": {},
   "outputs": [],
   "source": [
    "master_file_no_dup=master_file_no_dup.reset_index()"
   ]
  },
  {
   "cell_type": "code",
   "execution_count": 558,
   "metadata": {},
   "outputs": [
    {
     "data": {
      "text/plain": [
       "Index(['Secodary_key', 'Dist_part_num_x', 'Distributor_x', 'Manufacturer_x',\n",
       "       'Mfg_part_num_x', 'Prod_desc_x', 'Final_cost_x'],\n",
       "      dtype='object')"
      ]
     },
     "execution_count": 558,
     "metadata": {},
     "output_type": "execute_result"
    }
   ],
   "source": [
    "master_file_no_dup.columns"
   ]
  },
  {
   "cell_type": "code",
   "execution_count": 554,
   "metadata": {},
   "outputs": [],
   "source": [
    "master_file_no_dup_pk_sk=master_file_no_dup[['Secodary_key','Primary_Key_x']]"
   ]
  },
  {
   "cell_type": "code",
   "execution_count": 557,
   "metadata": {},
   "outputs": [],
   "source": [
    "master_file_no_dup.drop(labels=['Primary_Key_x'],axis=1,inplace=True)"
   ]
  },
  {
   "cell_type": "code",
   "execution_count": 560,
   "metadata": {},
   "outputs": [],
   "source": [
    "master_file_no_dup.to_csv(\"All_files_merged_no_dup_with_spend_new_2.csv\")"
   ]
  },
  {
   "cell_type": "code",
   "execution_count": 561,
   "metadata": {},
   "outputs": [],
   "source": [
    "master_file_no_dup_pk_sk.to_csv(\"pk_sk_new_2.csv\")"
   ]
  },
  {
   "cell_type": "code",
   "execution_count": null,
   "metadata": {},
   "outputs": [],
   "source": []
  },
  {
   "cell_type": "code",
   "execution_count": null,
   "metadata": {},
   "outputs": [],
   "source": []
  },
  {
   "cell_type": "code",
   "execution_count": 368,
   "metadata": {},
   "outputs": [],
   "source": [
    "list_of_mfg=master_file_no_dup['Manufacturer_x'].unique().tolist()"
   ]
  },
  {
   "cell_type": "code",
   "execution_count": 385,
   "metadata": {},
   "outputs": [],
   "source": [
    "list_of_sup=master_file_no_dup['Distributor_x'].unique().tolist()"
   ]
  },
  {
   "cell_type": "code",
   "execution_count": 369,
   "metadata": {},
   "outputs": [],
   "source": [
    "list_of_mfg=['' if v is np.nan else v for v in list_of_mfg]"
   ]
  },
  {
   "cell_type": "code",
   "execution_count": 386,
   "metadata": {},
   "outputs": [],
   "source": [
    "list_of_sup=['' if v is np.nan else v for v in list_of_sup]"
   ]
  },
  {
   "cell_type": "code",
   "execution_count": 371,
   "metadata": {},
   "outputs": [],
   "source": [
    "list_of_mfg.sort(reverse=True)"
   ]
  },
  {
   "cell_type": "code",
   "execution_count": 387,
   "metadata": {},
   "outputs": [],
   "source": [
    "list_of_sup.sort(reverse=True)"
   ]
  },
  {
   "cell_type": "code",
   "execution_count": 377,
   "metadata": {},
   "outputs": [
    {
     "data": {
      "text/plain": [
       "1254"
      ]
     },
     "execution_count": 377,
     "metadata": {},
     "output_type": "execute_result"
    }
   ],
   "source": [
    "list_of_mfg.index('MEDLINE')"
   ]
  },
  {
   "cell_type": "code",
   "execution_count": 376,
   "metadata": {},
   "outputs": [
    {
     "data": {
      "text/plain": [
       "'MCGUFF'"
      ]
     },
     "execution_count": 376,
     "metadata": {},
     "output_type": "execute_result"
    }
   ],
   "source": [
    "list_of_mfg[1297]"
   ]
  },
  {
   "cell_type": "code",
   "execution_count": null,
   "metadata": {},
   "outputs": [],
   "source": [
    "['MCKESSON SPECIALTY LLC', 'MCKESSON PHARMAC', 'MCKESSON PACKAGING SERVICES', 'MCKESSON MEDSURG', 'MCKESSON MEDICAL', 'MCKESSON BRAND', 'MCKESSON']"
   ]
  },
  {
   "cell_type": "code",
   "execution_count": 392,
   "metadata": {},
   "outputs": [],
   "source": [
    "mckesson_medline_mfg=master_file_no_dup[(master_file_no_dup['Manufacturer_x']=='MCKESSON SPECIALTY LLC') |\n",
    "                  (master_file_no_dup['Manufacturer_x']=='MCKESSON PHARMAC')|\n",
    "                  (master_file_no_dup['Manufacturer_x']=='MCKESSON PACKAGING SERVICES')|\n",
    "                  (master_file_no_dup['Manufacturer_x']=='MCKESSON MEDSURG')|\n",
    "                  (master_file_no_dup['Manufacturer_x']=='MCKESSON MEDICAL')|\n",
    "                  (master_file_no_dup['Manufacturer_x']=='MCKESSON BRAND')|\n",
    "                  (master_file_no_dup['Manufacturer_x']=='MCKESSON')|\n",
    "                  (master_file_no_dup['Manufacturer_x']=='MEDLINE INDUSTRIES, INC.')|\n",
    "                  (master_file_no_dup['Manufacturer_x']=='MEDLINE INDUSTRIES, INC')|\n",
    "                  (master_file_no_dup['Manufacturer_x']=='MEDLINE INDUSTRIES INC')|\n",
    "                  (master_file_no_dup['Manufacturer_x']=='MEDLINE INDUSTRIES')|\n",
    "                  (master_file_no_dup['Manufacturer_x']=='MEDLINE INDUSTRI')|\n",
    "                  (master_file_no_dup['Manufacturer_x']=='MEDLINE')]"
   ]
  },
  {
   "cell_type": "code",
   "execution_count": null,
   "metadata": {},
   "outputs": [],
   "source": []
  },
  {
   "cell_type": "code",
   "execution_count": 393,
   "metadata": {},
   "outputs": [
    {
     "data": {
      "text/plain": [
       "2331"
      ]
     },
     "execution_count": 393,
     "metadata": {},
     "output_type": "execute_result"
    }
   ],
   "source": [
    "len(mckesson_medline)"
   ]
  },
  {
   "cell_type": "code",
   "execution_count": null,
   "metadata": {},
   "outputs": [],
   "source": []
  },
  {
   "cell_type": "code",
   "execution_count": null,
   "metadata": {},
   "outputs": [],
   "source": [
    "'MEDLINE INDUSTRIES, INC.', 'MEDLINE INDUSTRIES, INC', 'MEDLINE INDUSTRIES INC', 'MEDLINE INDUSTRIES', 'MEDLINE INDUSTRI', 'MEDLINE'"
   ]
  },
  {
   "cell_type": "code",
   "execution_count": null,
   "metadata": {},
   "outputs": [],
   "source": [
    "'MCKESSON SPECIALTY LLC', 'MCKESSON PHARMAC', 'MCKESSON PACKAGING SERVICES', 'MCKESSON MEDSURG', 'MCKESSON MEDICAL', 'MCKESSON BRAND', 'MCKESSON'"
   ]
  },
  {
   "cell_type": "code",
   "execution_count": null,
   "metadata": {},
   "outputs": [],
   "source": []
  },
  {
   "cell_type": "code",
   "execution_count": null,
   "metadata": {},
   "outputs": [],
   "source": []
  },
  {
   "cell_type": "code",
   "execution_count": null,
   "metadata": {},
   "outputs": [],
   "source": [
    "'MCKESSON TECHNOLOGIES, INC', 'MCKESSON SPECIALTY HEALTH', 'MCKESSON SPECIALTY DIST LLC', 'MCKESSON SPECIALTY CARE DISTRIBUTION', 'MCKESSON SPECIALTY CARE DIST', 'MCKESSON SPECIALTY', 'MCKESSON PLASMA AND BIOLOGICS LLC', 'MCKESSON PLASMA & BIOLOGICS LLC', 'MCKESSON PLASMA & BIOLOGICS', 'MCKESSON MEDICAL-SURGICAL', 'MCKESSON MEDICAL- SURGICAL', 'MCKESSON MEDICAL SURGICAL', 'MCKESSON GENERAL MEDICAL CORP', 'MCKESSON DRUG COMPANY', 'MCKESSON DRUG CO.', 'MCKESSON DRUG CO', 'MCKESSON CORPORATION', 'MCKESSON (MCKESSON MEDICAL SURGICAL)', 'MCKESSON'"
   ]
  },
  {
   "cell_type": "code",
   "execution_count": null,
   "metadata": {},
   "outputs": [],
   "source": [
    "'MEDLINE INDUSTRIES, INC.', 'MEDLINE INDUSTRIES INC.', 'MEDLINE INDUSTRIES INC'"
   ]
  },
  {
   "cell_type": "code",
   "execution_count": null,
   "metadata": {},
   "outputs": [],
   "source": []
  },
  {
   "cell_type": "code",
   "execution_count": 390,
   "metadata": {},
   "outputs": [],
   "source": [
    "mckesson_medline_sup=master_file_no_dup[(master_file_no_dup['Distributor_x']=='MCKESSON TECHNOLOGIES, INC') |\n",
    "                  (master_file_no_dup['Distributor_x']=='MCKESSON SPECIALTY HEALTH')|\n",
    "                  (master_file_no_dup['Distributor_x']=='MCKESSON SPECIALTY DIST LLC')|\n",
    "                  (master_file_no_dup['Distributor_x']=='MCKESSON SPECIALTY CARE DISTRIBUTION')|\n",
    "                  (master_file_no_dup['Distributor_x']=='MCKESSON SPECIALTY CARE DIST')|\n",
    "                  (master_file_no_dup['Distributor_x']=='MCKESSON SPECIALTY')|\n",
    "                  (master_file_no_dup['Distributor_x']=='MCKESSON PLASMA AND BIOLOGICS LLC')|\n",
    "                  (master_file_no_dup['Distributor_x']=='MCKESSON PLASMA & BIOLOGICS LLC')|\n",
    "                  (master_file_no_dup['Distributor_x']=='MCKESSON PLASMA & BIOLOGICS')|\n",
    "                  (master_file_no_dup['Distributor_x']=='MCKESSON MEDICAL-SURGICAL')|\n",
    "                  (master_file_no_dup['Distributor_x']=='MCKESSON MEDICAL- SURGICAL')|\n",
    "                  (master_file_no_dup['Distributor_x']=='MCKESSON MEDICAL SURGICAL')|\n",
    "                  (master_file_no_dup['Distributor_x']=='MCKESSON GENERAL MEDICAL CORP')|\n",
    "                  (master_file_no_dup['Distributor_x']=='MCKESSON DRUG COMPANY')|\n",
    "                   (master_file_no_dup['Distributor_x']=='MCKESSON DRUG CO.')|\n",
    "                   (master_file_no_dup['Distributor_x']=='MCKESSON DRUG CO')|\n",
    "                   (master_file_no_dup['Distributor_x']=='MCKESSON CORPORATION')|\n",
    "                   (master_file_no_dup['Distributor_x']=='MCKESSON (MCKESSON MEDICAL SURGICAL)')|\n",
    "                   (master_file_no_dup['Distributor_x']=='MCKESSON')|\n",
    "                   (master_file_no_dup['Distributor_x']=='MEDLINE INDUSTRIES, INC.')|\n",
    "                    (master_file_no_dup['Distributor_x']=='MEDLINE INDUSTRIES INC.')|\n",
    "                    (master_file_no_dup['Distributor_x']=='MEDLINE INDUSTRIES INC')]"
   ]
  },
  {
   "cell_type": "code",
   "execution_count": 402,
   "metadata": {},
   "outputs": [],
   "source": [
    "mckesson_medline_sup.to_csv(\"mckesson_medline_supplier.csv\")"
   ]
  },
  {
   "cell_type": "code",
   "execution_count": 398,
   "metadata": {},
   "outputs": [],
   "source": [
    "mckesson_medline_sup_copy=mckesson_medline_sup.copy()"
   ]
  },
  {
   "cell_type": "code",
   "execution_count": 401,
   "metadata": {},
   "outputs": [
    {
     "data": {
      "text/plain": [
       "179482.0"
      ]
     },
     "execution_count": 401,
     "metadata": {},
     "output_type": "execute_result"
    }
   ],
   "source": [
    "mckesson_medline_sup['Dist_part_num_x'][650]"
   ]
  },
  {
   "cell_type": "code",
   "execution_count": null,
   "metadata": {},
   "outputs": [],
   "source": []
  }
 ],
 "metadata": {
  "kernelspec": {
   "display_name": "Python 3",
   "language": "python",
   "name": "python3"
  },
  "language_info": {
   "codemirror_mode": {
    "name": "ipython",
    "version": 3
   },
   "file_extension": ".py",
   "mimetype": "text/x-python",
   "name": "python",
   "nbconvert_exporter": "python",
   "pygments_lexer": "ipython3",
   "version": "3.7.4"
  }
 },
 "nbformat": 4,
 "nbformat_minor": 2
}
